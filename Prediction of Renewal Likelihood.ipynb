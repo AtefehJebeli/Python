{
 "cells": [
  {
   "cell_type": "markdown",
   "metadata": {},
   "source": [
    "# Predicting 04/21/2020-04/30/2020 renewals by learning from the closed 04/01/2020-04/20/2020 renewals. "
   ]
  },
  {
   "cell_type": "markdown",
   "metadata": {},
   "source": [
    "This project aims to create a model to predict renewal likelihood to win each renewal opportunity. This project is a standard supervised classification task. It is supervised because the labels are included in the training data, and the goal is to train a model to learn to predict the labels from the features. It is a classification task because the label is a binary variable, 1 (will renewal opportunity), 0 (will not).\n",
    "As it is obvious in this project, the real-world data is messy. So, data preparation, exploration, and feature engineering for finding the best model are essential. Selecting significant features and a proper model to get good results are required, too. According to our classification problem and our data structure, I tried to find a suitable model. Usually, we should try different models to get a good result. Finding correlations and plotting data are useful techniques that helped us to know our data and select an appropriate model.\n",
    "In this project, two models are used. In combination with Grid Search, Logistic Regression and Random Forest are used to declare the best hyperparameters to avoid bias and overfitting. Also, K-fold cross-validation is a resampling method without replacement is used, which yields a lower-variance estimate of model performance.\n",
    "This project's result shows that several factors have the most effects on the likelihood of renewal opportunities. The first one is the count of events for each account. The second one is the quantity of product, and the third factor is each account's contract duration.\n",
    "This project's main steps are the following:\n",
    "\n",
    "**Reading the data.**\n",
    "\n",
    "I use the panda library to read data and work with it.\n",
    "\n",
    "**Exploration and Preparation of the data**\n",
    "\n",
    "In this section, calculating the statistics and making figures are helpful techniques to find trends, anomalies, patterns, or relationships within the data. For example, plotting the IS_WON variable in the train data shows an imbalanced class problem. So, tree ensembles like Random Forest is used.\n",
    "\n",
    "Also, in this section, preprocessing steps such as changing some columns' data type like object to DateTime, encoding categorical variables, addressing missing values, and scaling features are performed to make the data ready for the next step.\n",
    "\n",
    "\n",
    "**Modeling and Prediction**\n",
    "\n",
    "In this section, the probability between 0 and 1 is predicted. Since the problem is a classification problem, Logistic Regression and Random Forest are used.\n",
    "Also, the event_history file is divided into two parts contains train/test and prediction set. The first part, which contains IS_WON values, is divided into train and test sets. (04/01/2020-04/20/2020) The second part, which Is_Won values' is null, is divided into a prediction set. (04/21/2020-04/30/2020 )\n",
    "\n",
    "\n",
    "**Improving the Model.**\n",
    "\n",
    "At first, Logistic Regression and Grid Search are used to find the fine-tuning parameters. Grid Search can help to improve the performance of a model by finding the optimal combination of hyperparameter values.\n",
    "Since the model's accuracy is about 83 percent on unseen data, another feature  (Event_count) from sample_event_history is added to the model. \n",
    "\n",
    "Also, Random Forest is an ensemble method, which has a better generalization performance. Additionally, the Random Forest seems to be better when the data is high-dimensional or too many outliers.\n",
    "The average accuracy for using Cross-Validation of Random Forest is about to 86 percent, which is better than the previous model.\n",
    "\n",
    "Cross-validation is used to evaluate the model's accuracy on different folds. Also, the F1 score, precision, recall, and confusion matrix are used to measure the models' relevance."
   ]
  },
  {
   "cell_type": "markdown",
   "metadata": {},
   "source": [
    "# Part one: Dependencies and Dataset"
   ]
  },
  {
   "cell_type": "code",
   "execution_count": 40,
   "metadata": {},
   "outputs": [],
   "source": [
    "# modeling libraries\n",
    "from sklearn.model_selection import StratifiedKFold\n",
    "from sklearn.linear_model import LogisticRegression\n",
    "from sklearn.ensemble import RandomForestClassifier\n",
    "from sklearn.ensemble import RandomForestRegressor\n",
    "from sklearn.model_selection import RandomizedSearchCV\n",
    "from sklearn.model_selection import cross_val_score\n",
    "from sklearn.model_selection import cross_val_predict\n",
    "from sklearn.model_selection import GridSearchCV\n",
    "from sklearn.model_selection import train_test_split\n",
    "\n",
    "# Libraries for evaluating models\n",
    "from sklearn.metrics import mean_squared_error\n",
    "from sklearn.metrics import classification_report, confusion_matrix\n",
    "\n",
    "# numpy and pandas for data manipulation\n",
    "import numpy as np\n",
    "import pandas as pd \n",
    "\n",
    "# sklearn preprocessing for dealing with categorical variables\n",
    "from sklearn.preprocessing import LabelEncoder\n",
    "\n",
    "# sklearn preprocessing for normaliing data\n",
    "from sklearn.preprocessing import StandardScaler\n",
    "import matplotlib.pyplot as plt\n",
    "import seaborn as sns\n"
   ]
  },
  {
   "cell_type": "code",
   "execution_count": 41,
   "metadata": {},
   "outputs": [
    {
     "name": "stderr",
     "output_type": "stream",
     "text": [
      "C:\\ProgramData\\Anaconda3\\lib\\site-packages\\IPython\\core\\interactiveshell.py:3146: DtypeWarning: Columns (6) have mixed types.Specify dtype option on import or set low_memory=False.\n",
      "  has_raised = await self.run_ast_nodes(code_ast.body, cell_name,\n"
     ]
    },
    {
     "data": {
      "text/html": [
       "<div>\n",
       "<style scoped>\n",
       "    .dataframe tbody tr th:only-of-type {\n",
       "        vertical-align: middle;\n",
       "    }\n",
       "\n",
       "    .dataframe tbody tr th {\n",
       "        vertical-align: top;\n",
       "    }\n",
       "\n",
       "    .dataframe thead th {\n",
       "        text-align: right;\n",
       "    }\n",
       "</style>\n",
       "<table border=\"1\" class=\"dataframe\">\n",
       "  <thead>\n",
       "    <tr style=\"text-align: right;\">\n",
       "      <th></th>\n",
       "      <th>ACCOUNT_ID</th>\n",
       "      <th>ORGANIZATION_ID</th>\n",
       "      <th>USER_ID</th>\n",
       "      <th>PROJECT_ID</th>\n",
       "      <th>EVENT_TIME</th>\n",
       "      <th>EVENT_TYPE</th>\n",
       "      <th>EVENT_COUNT</th>\n",
       "    </tr>\n",
       "  </thead>\n",
       "  <tbody>\n",
       "    <tr>\n",
       "      <th>0</th>\n",
       "      <td>acc420</td>\n",
       "      <td>org1</td>\n",
       "      <td>u1</td>\n",
       "      <td>p1</td>\n",
       "      <td>2019-05-10</td>\n",
       "      <td>sheet.view</td>\n",
       "      <td>3</td>\n",
       "    </tr>\n",
       "    <tr>\n",
       "      <th>1</th>\n",
       "      <td>acc399</td>\n",
       "      <td>org2</td>\n",
       "      <td>u2</td>\n",
       "      <td>p2</td>\n",
       "      <td>2019-05-06</td>\n",
       "      <td>attachment.list.folder.filter</td>\n",
       "      <td>1</td>\n",
       "    </tr>\n",
       "    <tr>\n",
       "      <th>2</th>\n",
       "      <td>acc399</td>\n",
       "      <td>org2</td>\n",
       "      <td>u3</td>\n",
       "      <td>p3</td>\n",
       "      <td>2019-06-24</td>\n",
       "      <td>sheet.list.filter.select</td>\n",
       "      <td>2</td>\n",
       "    </tr>\n",
       "    <tr>\n",
       "      <th>3</th>\n",
       "      <td>acc122</td>\n",
       "      <td>org3</td>\n",
       "      <td>u4</td>\n",
       "      <td>p4</td>\n",
       "      <td>2019-04-30</td>\n",
       "      <td>sheet.list.filters.view</td>\n",
       "      <td>1</td>\n",
       "    </tr>\n",
       "    <tr>\n",
       "      <th>4</th>\n",
       "      <td>acc61</td>\n",
       "      <td>org4</td>\n",
       "      <td>u5</td>\n",
       "      <td>p5</td>\n",
       "      <td>2019-08-07</td>\n",
       "      <td>sheet.list</td>\n",
       "      <td>1</td>\n",
       "    </tr>\n",
       "  </tbody>\n",
       "</table>\n",
       "</div>"
      ],
      "text/plain": [
       "  ACCOUNT_ID ORGANIZATION_ID USER_ID PROJECT_ID  EVENT_TIME  \\\n",
       "0     acc420            org1      u1         p1  2019-05-10   \n",
       "1     acc399            org2      u2         p2  2019-05-06   \n",
       "2     acc399            org2      u3         p3  2019-06-24   \n",
       "3     acc122            org3      u4         p4  2019-04-30   \n",
       "4      acc61            org4      u5         p5  2019-08-07   \n",
       "\n",
       "                      EVENT_TYPE EVENT_COUNT  \n",
       "0                     sheet.view           3  \n",
       "1  attachment.list.folder.filter           1  \n",
       "2       sheet.list.filter.select           2  \n",
       "3        sheet.list.filters.view           1  \n",
       "4                     sheet.list           1  "
      ]
     },
     "execution_count": 41,
     "metadata": {},
     "output_type": "execute_result"
    }
   ],
   "source": [
    "# Reading sample_event_history by panda and presenting it in a DataFrame\n",
    "pd.set_option('display.max_colwidth',100)\n",
    "df_event = pd.read_csv(\"sample_event_history.csv\") \n",
    "df_event.head()"
   ]
  },
  {
   "cell_type": "code",
   "execution_count": 42,
   "metadata": {},
   "outputs": [
    {
     "name": "stdout",
     "output_type": "stream",
     "text": [
      "sample event history data shape:  (7226176, 7)\n"
     ]
    }
   ],
   "source": [
    "print('sample event history data shape: ', df_event.shape)\n",
    "# The sample_event_history file contains 7226176 rows and 7 columns/features."
   ]
  },
  {
   "cell_type": "code",
   "execution_count": 69,
   "metadata": {},
   "outputs": [
    {
     "data": {
      "text/html": [
       "<div>\n",
       "<style scoped>\n",
       "    .dataframe tbody tr th:only-of-type {\n",
       "        vertical-align: middle;\n",
       "    }\n",
       "\n",
       "    .dataframe tbody tr th {\n",
       "        vertical-align: top;\n",
       "    }\n",
       "\n",
       "    .dataframe thead th {\n",
       "        text-align: right;\n",
       "    }\n",
       "</style>\n",
       "<table border=\"1\" class=\"dataframe\">\n",
       "  <thead>\n",
       "    <tr style=\"text-align: right;\">\n",
       "      <th></th>\n",
       "      <th>ACCOUNT_ID</th>\n",
       "      <th>OPPORTUNITY_ID</th>\n",
       "      <th>RENEWAL_DATE_C</th>\n",
       "      <th>PRODUCT_CODE</th>\n",
       "      <th>NAME</th>\n",
       "      <th>QUANTITY</th>\n",
       "      <th>START_DATE_C</th>\n",
       "      <th>END_DATE_C</th>\n",
       "      <th>IS_WON</th>\n",
       "    </tr>\n",
       "  </thead>\n",
       "  <tbody>\n",
       "    <tr>\n",
       "      <th>0</th>\n",
       "      <td>acc1</td>\n",
       "      <td>opp1</td>\n",
       "      <td>2020-04-23</td>\n",
       "      <td>SS_550_AN_P2</td>\n",
       "      <td>PlanGrid (Nailgun - 550 Sheets)</td>\n",
       "      <td>4</td>\n",
       "      <td>2020-04-24</td>\n",
       "      <td>2021-04-23</td>\n",
       "      <td>NaN</td>\n",
       "    </tr>\n",
       "    <tr>\n",
       "      <th>1</th>\n",
       "      <td>acc1</td>\n",
       "      <td>opp1</td>\n",
       "      <td>2020-04-23</td>\n",
       "      <td>SS_5K_AN_P2</td>\n",
       "      <td>PlanGrid (Dozer - 5000 Sheets)</td>\n",
       "      <td>2</td>\n",
       "      <td>2020-04-24</td>\n",
       "      <td>2021-04-23</td>\n",
       "      <td>NaN</td>\n",
       "    </tr>\n",
       "  </tbody>\n",
       "</table>\n",
       "</div>"
      ],
      "text/plain": [
       "  ACCOUNT_ID OPPORTUNITY_ID RENEWAL_DATE_C  PRODUCT_CODE  \\\n",
       "0       acc1           opp1     2020-04-23  SS_550_AN_P2   \n",
       "1       acc1           opp1     2020-04-23   SS_5K_AN_P2   \n",
       "\n",
       "                              NAME  QUANTITY START_DATE_C  END_DATE_C IS_WON  \n",
       "0  PlanGrid (Nailgun - 550 Sheets)         4   2020-04-24  2021-04-23    NaN  \n",
       "1   PlanGrid (Dozer - 5000 Sheets)         2   2020-04-24  2021-04-23    NaN  "
      ]
     },
     "execution_count": 69,
     "metadata": {},
     "output_type": "execute_result"
    }
   ],
   "source": [
    "pd.set_option('display.max_colwidth',100)\n",
    "df_opps = pd.read_csv(\"sample_opps.csv\") \n",
    "df_opps.head(2)"
   ]
  },
  {
   "cell_type": "code",
   "execution_count": 70,
   "metadata": {},
   "outputs": [
    {
     "name": "stdout",
     "output_type": "stream",
     "text": [
      "sample event history data shape:  (1000, 9)\n"
     ]
    }
   ],
   "source": [
    "print('sample event history data shape: ', df_opps.shape)"
   ]
  },
  {
   "cell_type": "code",
   "execution_count": 71,
   "metadata": {},
   "outputs": [],
   "source": [
    "#The sample_opps table contains 1000 rows and 9 columns."
   ]
  },
  {
   "cell_type": "markdown",
   "metadata": {},
   "source": [
    "# Part two: Cleaning data and exploratory data analysis for preparing the data before classification"
   ]
  },
  {
   "cell_type": "code",
   "execution_count": 72,
   "metadata": {},
   "outputs": [
    {
     "data": {
      "text/plain": [
       "object    8\n",
       "int64     1\n",
       "dtype: int64"
      ]
     },
     "execution_count": 72,
     "metadata": {},
     "output_type": "execute_result"
    }
   ],
   "source": [
    "# Column Types\n",
    "df_opps.dtypes.value_counts()"
   ]
  },
  {
   "cell_type": "code",
   "execution_count": 73,
   "metadata": {},
   "outputs": [
    {
     "data": {
      "text/plain": [
       "True     486\n",
       "False     94\n",
       "Name: IS_WON, dtype: int64"
      ]
     },
     "execution_count": 73,
     "metadata": {},
     "output_type": "execute_result"
    }
   ],
   "source": [
    "# IS_WON indicating 0 and 1 for renewal of contract between 04/01/2020-04/20/2020 \n",
    "df_opps['IS_WON'].value_counts()"
   ]
  },
  {
   "cell_type": "markdown",
   "metadata": {},
   "source": [
    "### Findig missing values\n",
    "\n",
    "**We have to fix missing values problem before building a machine learning model. The columns with missing values are identified below.**"
   ]
  },
  {
   "cell_type": "code",
   "execution_count": 74,
   "metadata": {},
   "outputs": [
    {
     "name": "stdout",
     "output_type": "stream",
     "text": [
      "<class 'pandas.core.frame.DataFrame'>\n",
      "RangeIndex: 1000 entries, 0 to 999\n",
      "Data columns (total 9 columns):\n",
      " #   Column          Non-Null Count  Dtype \n",
      "---  ------          --------------  ----- \n",
      " 0   ACCOUNT_ID      1000 non-null   object\n",
      " 1   OPPORTUNITY_ID  1000 non-null   object\n",
      " 2   RENEWAL_DATE_C  1000 non-null   object\n",
      " 3   PRODUCT_CODE    1000 non-null   object\n",
      " 4   NAME            1000 non-null   object\n",
      " 5   QUANTITY        1000 non-null   int64 \n",
      " 6   START_DATE_C    998 non-null    object\n",
      " 7   END_DATE_C      998 non-null    object\n",
      " 8   IS_WON          580 non-null    object\n",
      "dtypes: int64(1), object(8)\n",
      "memory usage: 70.4+ KB\n"
     ]
    }
   ],
   "source": [
    "df_opps.isnull().any()\n",
    "df_opps.info()\n",
    "# the sample-opps files contains two rows with missing values."
   ]
  },
  {
   "cell_type": "code",
   "execution_count": 75,
   "metadata": {},
   "outputs": [],
   "source": [
    "# This Function calculate missing values by columns\n",
    "def missing_values_table(df):\n",
    "        # Total missing values\n",
    "        mis_val = df.isnull().sum()\n",
    "        \n",
    "        # Percentage of missing values\n",
    "        mis_val_percent = 100 * df.isnull().sum() / len(df)\n",
    "        \n",
    "        # Make a table with the results\n",
    "        mis_val_table = pd.concat([mis_val, mis_val_percent], axis=1)\n",
    "        \n",
    "        # Rename the columns\n",
    "        mis_val_table_ren_columns = mis_val_table.rename(\n",
    "        columns = {0 : 'Missing Values', 1 : '% of Total Values'})\n",
    "        \n",
    "        # Sort the table by percentage of missing descending\n",
    "        mis_val_table_ren_columns = mis_val_table_ren_columns[\n",
    "            mis_val_table_ren_columns.iloc[:,1] != 0].sort_values(\n",
    "        '% of Total Values', ascending=False).round(1)\n",
    "        \n",
    "        # Print some summary information\n",
    "        print (\"Your selected dataframe has \" + str(df.shape[1]) + \" columns.\\n\"      \n",
    "            \"There are \" + str(mis_val_table_ren_columns.shape[0]) +\n",
    "              \" columns that have missing values.\")\n",
    "        \n",
    "        # Return the dataframe with missing information\n",
    "        return mis_val_table_ren_columns"
   ]
  },
  {
   "cell_type": "code",
   "execution_count": 76,
   "metadata": {},
   "outputs": [
    {
     "name": "stdout",
     "output_type": "stream",
     "text": [
      "Your selected dataframe has 9 columns.\n",
      "There are 3 columns that have missing values.\n"
     ]
    },
    {
     "data": {
      "text/html": [
       "<div>\n",
       "<style scoped>\n",
       "    .dataframe tbody tr th:only-of-type {\n",
       "        vertical-align: middle;\n",
       "    }\n",
       "\n",
       "    .dataframe tbody tr th {\n",
       "        vertical-align: top;\n",
       "    }\n",
       "\n",
       "    .dataframe thead th {\n",
       "        text-align: right;\n",
       "    }\n",
       "</style>\n",
       "<table border=\"1\" class=\"dataframe\">\n",
       "  <thead>\n",
       "    <tr style=\"text-align: right;\">\n",
       "      <th></th>\n",
       "      <th>Missing Values</th>\n",
       "      <th>% of Total Values</th>\n",
       "    </tr>\n",
       "  </thead>\n",
       "  <tbody>\n",
       "    <tr>\n",
       "      <th>IS_WON</th>\n",
       "      <td>420</td>\n",
       "      <td>42.0</td>\n",
       "    </tr>\n",
       "    <tr>\n",
       "      <th>START_DATE_C</th>\n",
       "      <td>2</td>\n",
       "      <td>0.2</td>\n",
       "    </tr>\n",
       "    <tr>\n",
       "      <th>END_DATE_C</th>\n",
       "      <td>2</td>\n",
       "      <td>0.2</td>\n",
       "    </tr>\n",
       "  </tbody>\n",
       "</table>\n",
       "</div>"
      ],
      "text/plain": [
       "              Missing Values  % of Total Values\n",
       "IS_WON                   420               42.0\n",
       "START_DATE_C               2                0.2\n",
       "END_DATE_C                 2                0.2"
      ]
     },
     "execution_count": 76,
     "metadata": {},
     "output_type": "execute_result"
    }
   ],
   "source": [
    "# looking for missing values statistics\n",
    "missing_values = missing_values_table(df_opps)\n",
    "missing_values.head(20)\n",
    "# START_DATE_C and END_DATE_C columns contain two null values.\n",
    "# IS_WON coulumn has 420 null values which will be filled by the result of prediction."
   ]
  },
  {
   "cell_type": "code",
   "execution_count": 77,
   "metadata": {},
   "outputs": [
    {
     "name": "stdout",
     "output_type": "stream",
     "text": [
      "<class 'pandas.core.frame.DataFrame'>\n",
      "Int64Index: 998 entries, 0 to 999\n",
      "Data columns (total 9 columns):\n",
      " #   Column          Non-Null Count  Dtype \n",
      "---  ------          --------------  ----- \n",
      " 0   ACCOUNT_ID      998 non-null    object\n",
      " 1   OPPORTUNITY_ID  998 non-null    object\n",
      " 2   RENEWAL_DATE_C  998 non-null    object\n",
      " 3   PRODUCT_CODE    998 non-null    object\n",
      " 4   NAME            998 non-null    object\n",
      " 5   QUANTITY        998 non-null    int64 \n",
      " 6   START_DATE_C    998 non-null    object\n",
      " 7   END_DATE_C      998 non-null    object\n",
      " 8   IS_WON          579 non-null    object\n",
      "dtypes: int64(1), object(8)\n",
      "memory usage: 78.0+ KB\n"
     ]
    }
   ],
   "source": [
    "# For addresing missing values there are some solutions like filling them (imputation).\n",
    "# Since the dataset just have two rows with null valuse, the two rows can be removed.\n",
    "# Removing two rows with null values.\n",
    "df_opps.dropna(subset=['START_DATE_C','END_DATE_C'],inplace=True)\n",
    "df_opps.info()"
   ]
  },
  {
   "cell_type": "markdown",
   "metadata": {},
   "source": [
    "### Exploratory Data Analysis \n",
    "**In this section I calculate statistics and make figures to find trends, patterns, or relationships within the data. I want to learn what the data can tell us.**\n",
    "\n"
   ]
  },
  {
   "cell_type": "code",
   "execution_count": 78,
   "metadata": {},
   "outputs": [
    {
     "data": {
      "text/plain": [
       "<AxesSubplot:xlabel='IS_WON', ylabel='count'>"
      ]
     },
     "execution_count": 78,
     "metadata": {},
     "output_type": "execute_result"
    },
    {
     "data": {
      "image/png": "[encoded data removed]",
      "text/plain": [
       "<Figure size 432x288 with 1 Axes>"
      ]
     },
     "metadata": {
      "needs_background": "light"
     },
     "output_type": "display_data"
    }
   ],
   "source": [
    "# Bar chart of renewal status count for data between 04/21/2020-04/30/2020 \n",
    "sns.countplot(x='IS_WON', data=df_opps)"
   ]
  },
  {
   "cell_type": "code",
   "execution_count": 79,
   "metadata": {},
   "outputs": [
    {
     "name": "stderr",
     "output_type": "stream",
     "text": [
      "C:\\ProgramData\\Anaconda3\\lib\\site-packages\\seaborn\\_decorators.py:36: FutureWarning: Pass the following variable as a keyword arg: x. From version 0.12, the only valid positional argument will be `data`, and passing other arguments without an explicit keyword will result in an error or misinterpretation.\n",
      "  warnings.warn(\n"
     ]
    },
    {
     "data": {
      "text/plain": [
       "<AxesSubplot:xlabel='QUANTITY'>"
      ]
     },
     "execution_count": 79,
     "metadata": {},
     "output_type": "execute_result"
    },
    {
     "data": {
      "image/png": "[encoded data removed]",
      "text/plain": [
       "<Figure size 432x288 with 1 Axes>"
      ]
     },
     "metadata": {
      "needs_background": "light"
     },
     "output_type": "display_data"
    }
   ],
   "source": [
    "#Checking the distribution of the QUANTITY column\n",
    "import seaborn as sns\n",
    "sns.boxplot(df_opps['QUANTITY'])\n",
    "# For prediction the QUANTITY column will be normalized because of the skewed distribution."
   ]
  },
  {
   "cell_type": "code",
   "execution_count": 80,
   "metadata": {},
   "outputs": [
    {
     "data": {
      "text/html": [
       "<div>\n",
       "<style scoped>\n",
       "    .dataframe tbody tr th:only-of-type {\n",
       "        vertical-align: middle;\n",
       "    }\n",
       "\n",
       "    .dataframe tbody tr th {\n",
       "        vertical-align: top;\n",
       "    }\n",
       "\n",
       "    .dataframe thead th {\n",
       "        text-align: right;\n",
       "    }\n",
       "</style>\n",
       "<table border=\"1\" class=\"dataframe\">\n",
       "  <thead>\n",
       "    <tr style=\"text-align: right;\">\n",
       "      <th></th>\n",
       "      <th>QUANTITY</th>\n",
       "    </tr>\n",
       "    <tr>\n",
       "      <th>NAME</th>\n",
       "      <th></th>\n",
       "    </tr>\n",
       "  </thead>\n",
       "  <tbody>\n",
       "    <tr>\n",
       "      <th>Connect Platform</th>\n",
       "      <td>1</td>\n",
       "    </tr>\n",
       "    <tr>\n",
       "      <th>PlanGrid (Admin Console)</th>\n",
       "      <td>97</td>\n",
       "    </tr>\n",
       "    <tr>\n",
       "      <th>PlanGrid (Advanced RFIs)</th>\n",
       "      <td>15</td>\n",
       "    </tr>\n",
       "    <tr>\n",
       "      <th>PlanGrid (Automatic Submittal Log - Unlimited Users)</th>\n",
       "      <td>1</td>\n",
       "    </tr>\n",
       "    <tr>\n",
       "      <th>PlanGrid (Automatic Submittal Log - Up to 200 Users)</th>\n",
       "      <td>1</td>\n",
       "    </tr>\n",
       "    <tr>\n",
       "      <th>PlanGrid (Automatic Submittal Log - Up to 50 Users)</th>\n",
       "      <td>4</td>\n",
       "    </tr>\n",
       "    <tr>\n",
       "      <th>PlanGrid (Automatic Submittal Log - Up to 500 Users)</th>\n",
       "      <td>1</td>\n",
       "    </tr>\n",
       "    <tr>\n",
       "      <th>PlanGrid (Crane - Infinite Sheets)</th>\n",
       "      <td>547</td>\n",
       "    </tr>\n",
       "    <tr>\n",
       "      <th>PlanGrid (Developer API Access)</th>\n",
       "      <td>5</td>\n",
       "    </tr>\n",
       "    <tr>\n",
       "      <th>PlanGrid (Dozer - 5000 Sheets)</th>\n",
       "      <td>1915</td>\n",
       "    </tr>\n",
       "    <tr>\n",
       "      <th>PlanGrid (Enterprise Subscription - Unlimited Sheets)</th>\n",
       "      <td>617</td>\n",
       "    </tr>\n",
       "    <tr>\n",
       "      <th>PlanGrid (Nailgun - 550 Sheets)</th>\n",
       "      <td>1510</td>\n",
       "    </tr>\n",
       "    <tr>\n",
       "      <th>PlanGrid (Single Sign-On - Up to 200 Users)</th>\n",
       "      <td>1</td>\n",
       "    </tr>\n",
       "    <tr>\n",
       "      <th>PlanGrid (Single Sign-On - Up to 50 Users)</th>\n",
       "      <td>2</td>\n",
       "    </tr>\n",
       "    <tr>\n",
       "      <th>PlanGrid (Submittals - Unlimited Users)</th>\n",
       "      <td>1</td>\n",
       "    </tr>\n",
       "    <tr>\n",
       "      <th>PlanGrid (Submittals - Up to 200 Users)</th>\n",
       "      <td>1</td>\n",
       "    </tr>\n",
       "    <tr>\n",
       "      <th>PlanGrid (Submittals - Up to 50 Users)</th>\n",
       "      <td>18</td>\n",
       "    </tr>\n",
       "    <tr>\n",
       "      <th>PlanGrid (Submittals - Up to 500 Users)</th>\n",
       "      <td>1</td>\n",
       "    </tr>\n",
       "    <tr>\n",
       "      <th>PlanGrid (Workspaces)</th>\n",
       "      <td>99</td>\n",
       "    </tr>\n",
       "  </tbody>\n",
       "</table>\n",
       "</div>"
      ],
      "text/plain": [
       "                                                       QUANTITY\n",
       "NAME                                                           \n",
       "Connect Platform                                              1\n",
       "PlanGrid (Admin Console)                                     97\n",
       "PlanGrid (Advanced RFIs)                                     15\n",
       "PlanGrid (Automatic Submittal Log - Unlimited Users)          1\n",
       "PlanGrid (Automatic Submittal Log - Up to 200 Users)          1\n",
       "PlanGrid (Automatic Submittal Log - Up to 50 Users)           4\n",
       "PlanGrid (Automatic Submittal Log - Up to 500 Users)          1\n",
       "PlanGrid (Crane - Infinite Sheets)                          547\n",
       "PlanGrid (Developer API Access)                               5\n",
       "PlanGrid (Dozer - 5000 Sheets)                             1915\n",
       "PlanGrid (Enterprise Subscription - Unlimited Sheets)       617\n",
       "PlanGrid (Nailgun - 550 Sheets)                            1510\n",
       "PlanGrid (Single Sign-On - Up to 200 Users)                   1\n",
       "PlanGrid (Single Sign-On - Up to 50 Users)                    2\n",
       "PlanGrid (Submittals - Unlimited Users)                       1\n",
       "PlanGrid (Submittals - Up to 200 Users)                       1\n",
       "PlanGrid (Submittals - Up to 50 Users)                       18\n",
       "PlanGrid (Submittals - Up to 500 Users)                       1\n",
       "PlanGrid (Workspaces)                                        99"
      ]
     },
     "execution_count": 80,
     "metadata": {},
     "output_type": "execute_result"
    }
   ],
   "source": [
    "# Grouping by the product and calculate sum of quantity per product\n",
    "products  = df_opps.groupby('NAME', sort=True).sum()\n",
    "products"
   ]
  },
  {
   "cell_type": "code",
   "execution_count": 81,
   "metadata": {},
   "outputs": [
    {
     "data": {
      "text/html": [
       "<div>\n",
       "<style scoped>\n",
       "    .dataframe tbody tr th:only-of-type {\n",
       "        vertical-align: middle;\n",
       "    }\n",
       "\n",
       "    .dataframe tbody tr th {\n",
       "        vertical-align: top;\n",
       "    }\n",
       "\n",
       "    .dataframe thead th {\n",
       "        text-align: right;\n",
       "    }\n",
       "</style>\n",
       "<table border=\"1\" class=\"dataframe\">\n",
       "  <thead>\n",
       "    <tr style=\"text-align: right;\">\n",
       "      <th></th>\n",
       "      <th>QUANTITY</th>\n",
       "    </tr>\n",
       "    <tr>\n",
       "      <th>PRODUCT_CODE</th>\n",
       "      <th></th>\n",
       "    </tr>\n",
       "  </thead>\n",
       "  <tbody>\n",
       "    <tr>\n",
       "      <th>API_DEV_AN</th>\n",
       "      <td>5</td>\n",
       "    </tr>\n",
       "    <tr>\n",
       "      <th>API_PGC1_AN</th>\n",
       "      <td>1</td>\n",
       "    </tr>\n",
       "    <tr>\n",
       "      <th>SS_550_AN_P2</th>\n",
       "      <td>1510</td>\n",
       "    </tr>\n",
       "    <tr>\n",
       "      <th>SS_5K_AN_P2</th>\n",
       "      <td>1915</td>\n",
       "    </tr>\n",
       "    <tr>\n",
       "      <th>SS_ASL1.1_AN</th>\n",
       "      <td>4</td>\n",
       "    </tr>\n",
       "    <tr>\n",
       "      <th>SS_ASL2.1_AN</th>\n",
       "      <td>1</td>\n",
       "    </tr>\n",
       "    <tr>\n",
       "      <th>SS_ASL3.1_AN</th>\n",
       "      <td>1</td>\n",
       "    </tr>\n",
       "    <tr>\n",
       "      <th>SS_ASL4.1_AN</th>\n",
       "      <td>1</td>\n",
       "    </tr>\n",
       "    <tr>\n",
       "      <th>SS_EC_T0</th>\n",
       "      <td>97</td>\n",
       "    </tr>\n",
       "    <tr>\n",
       "      <th>SS_INF_AN_P2</th>\n",
       "      <td>547</td>\n",
       "    </tr>\n",
       "    <tr>\n",
       "      <th>SS_INF_EN</th>\n",
       "      <td>617</td>\n",
       "    </tr>\n",
       "    <tr>\n",
       "      <th>SS_RFI_AN</th>\n",
       "      <td>15</td>\n",
       "    </tr>\n",
       "    <tr>\n",
       "      <th>SS_SSO1_AN</th>\n",
       "      <td>2</td>\n",
       "    </tr>\n",
       "    <tr>\n",
       "      <th>SS_SSO2_AN</th>\n",
       "      <td>1</td>\n",
       "    </tr>\n",
       "    <tr>\n",
       "      <th>SS_SUBM1_AN</th>\n",
       "      <td>18</td>\n",
       "    </tr>\n",
       "    <tr>\n",
       "      <th>SS_SUBM2_AN</th>\n",
       "      <td>1</td>\n",
       "    </tr>\n",
       "    <tr>\n",
       "      <th>SS_SUBM3.1_AN</th>\n",
       "      <td>1</td>\n",
       "    </tr>\n",
       "    <tr>\n",
       "      <th>SS_SUBM3_AN</th>\n",
       "      <td>1</td>\n",
       "    </tr>\n",
       "    <tr>\n",
       "      <th>SS_WORK_AN</th>\n",
       "      <td>99</td>\n",
       "    </tr>\n",
       "  </tbody>\n",
       "</table>\n",
       "</div>"
      ],
      "text/plain": [
       "               QUANTITY\n",
       "PRODUCT_CODE           \n",
       "API_DEV_AN            5\n",
       "API_PGC1_AN           1\n",
       "SS_550_AN_P2       1510\n",
       "SS_5K_AN_P2        1915\n",
       "SS_ASL1.1_AN          4\n",
       "SS_ASL2.1_AN          1\n",
       "SS_ASL3.1_AN          1\n",
       "SS_ASL4.1_AN          1\n",
       "SS_EC_T0             97\n",
       "SS_INF_AN_P2        547\n",
       "SS_INF_EN           617\n",
       "SS_RFI_AN            15\n",
       "SS_SSO1_AN            2\n",
       "SS_SSO2_AN            1\n",
       "SS_SUBM1_AN          18\n",
       "SS_SUBM2_AN           1\n",
       "SS_SUBM3.1_AN         1\n",
       "SS_SUBM3_AN           1\n",
       "SS_WORK_AN           99"
      ]
     },
     "execution_count": 81,
     "metadata": {},
     "output_type": "execute_result"
    }
   ],
   "source": [
    "# Grouping by the product and calculate sum of quantity per product\n",
    "products  = df_opps.groupby('PRODUCT_CODE', sort=True).sum()\n",
    "products"
   ]
  },
  {
   "cell_type": "code",
   "execution_count": 82,
   "metadata": {},
   "outputs": [],
   "source": [
    "# NAME and PRODUCT_CODE are the same. I will use PRODUCT_CODE in prediction."
   ]
  },
  {
   "cell_type": "code",
   "execution_count": 83,
   "metadata": {},
   "outputs": [
    {
     "data": {
      "image/png": "[encoded data removed]",
      "text/plain": [
       "<PIL.JpegImagePlugin.JpegImageFile image mode=RGB size=1441x778 at 0x2B0820B56A0>"
      ]
     },
     "execution_count": 83,
     "metadata": {},
     "output_type": "execute_result"
    }
   ],
   "source": [
    "from PIL import Image\n",
    "im = Image.open(\"Sum of quantity per product.jpg\") \n",
    "im  \n",
    "# This pie chart shows sum of quantities per product."
   ]
  },
  {
   "cell_type": "code",
   "execution_count": 84,
   "metadata": {},
   "outputs": [
    {
     "data": {
      "text/plain": [
       "object    8\n",
       "int64     1\n",
       "dtype: int64"
      ]
     },
     "execution_count": 84,
     "metadata": {},
     "output_type": "execute_result"
    }
   ],
   "source": [
    "# Column types\n",
    "# Number of each type of column \n",
    "df_opps.dtypes.value_counts()"
   ]
  },
  {
   "cell_type": "code",
   "execution_count": 85,
   "metadata": {},
   "outputs": [
    {
     "data": {
      "text/html": [
       "<div>\n",
       "<style scoped>\n",
       "    .dataframe tbody tr th:only-of-type {\n",
       "        vertical-align: middle;\n",
       "    }\n",
       "\n",
       "    .dataframe tbody tr th {\n",
       "        vertical-align: top;\n",
       "    }\n",
       "\n",
       "    .dataframe thead th {\n",
       "        text-align: right;\n",
       "    }\n",
       "</style>\n",
       "<table border=\"1\" class=\"dataframe\">\n",
       "  <thead>\n",
       "    <tr style=\"text-align: right;\">\n",
       "      <th></th>\n",
       "      <th>QUANTITY</th>\n",
       "    </tr>\n",
       "  </thead>\n",
       "  <tbody>\n",
       "    <tr>\n",
       "      <th>count</th>\n",
       "      <td>998.000000</td>\n",
       "    </tr>\n",
       "    <tr>\n",
       "      <th>mean</th>\n",
       "      <td>4.846693</td>\n",
       "    </tr>\n",
       "    <tr>\n",
       "      <th>std</th>\n",
       "      <td>13.514862</td>\n",
       "    </tr>\n",
       "    <tr>\n",
       "      <th>min</th>\n",
       "      <td>1.000000</td>\n",
       "    </tr>\n",
       "    <tr>\n",
       "      <th>25%</th>\n",
       "      <td>1.000000</td>\n",
       "    </tr>\n",
       "    <tr>\n",
       "      <th>50%</th>\n",
       "      <td>1.000000</td>\n",
       "    </tr>\n",
       "    <tr>\n",
       "      <th>75%</th>\n",
       "      <td>4.000000</td>\n",
       "    </tr>\n",
       "    <tr>\n",
       "      <th>max</th>\n",
       "      <td>282.000000</td>\n",
       "    </tr>\n",
       "  </tbody>\n",
       "</table>\n",
       "</div>"
      ],
      "text/plain": [
       "         QUANTITY\n",
       "count  998.000000\n",
       "mean     4.846693\n",
       "std     13.514862\n",
       "min      1.000000\n",
       "25%      1.000000\n",
       "50%      1.000000\n",
       "75%      4.000000\n",
       "max    282.000000"
      ]
     },
     "execution_count": 85,
     "metadata": {},
     "output_type": "execute_result"
    }
   ],
   "source": [
    "df_opps.describe()"
   ]
  },
  {
   "cell_type": "code",
   "execution_count": 86,
   "metadata": {},
   "outputs": [],
   "source": [
    "# Converting date columnsto datetime because of two reasons:\n",
    "#1) spliting data to train/test set for prediction\n",
    "#2) Evaluating each contract's duration\n",
    "cols = ['RENEWAL_DATE_C','START_DATE_C','END_DATE_C']\n",
    "df_opps[cols] = df_opps[cols].apply(pd.to_datetime)"
   ]
  },
  {
   "cell_type": "code",
   "execution_count": 87,
   "metadata": {},
   "outputs": [
    {
     "name": "stdout",
     "output_type": "stream",
     "text": [
      "2019-10-01 00:00:00\n",
      "2021-04-12 00:00:00\n",
      "2020-07-31 00:00:00\n",
      "2023-04-30 00:00:00\n"
     ]
    }
   ],
   "source": [
    "print(df_opps['START_DATE_C'].min())\n",
    "print(df_opps['START_DATE_C'].max())\n",
    "print(df_opps['END_DATE_C'].min())\n",
    "print(df_opps['END_DATE_C'].max())"
   ]
  },
  {
   "cell_type": "code",
   "execution_count": 88,
   "metadata": {},
   "outputs": [
    {
     "name": "stdout",
     "output_type": "stream",
     "text": [
      "1094 days 00:00:00\n",
      "126 days 00:00:00\n"
     ]
    }
   ],
   "source": [
    "# Creating a new feature called contract duration to use in prediction\n",
    "df_opps['CONTRACT_DURATION'] = df_opps['END_DATE_C'].sub(df_opps['START_DATE_C'], axis=0)\n",
    "\n",
    "#checking max and min to see if there are any outliers\n",
    "print(df_opps['CONTRACT_DURATION'].max())\n",
    "print(df_opps['CONTRACT_DURATION'].min())\n"
   ]
  },
  {
   "cell_type": "code",
   "execution_count": 89,
   "metadata": {},
   "outputs": [],
   "source": [
    "# Changing contract's duration to number for using in the prediction model\n",
    "df_opps['CONTRACT_DURATION'] = df_opps['CONTRACT_DURATION'].dt.days.astype(int)"
   ]
  },
  {
   "cell_type": "code",
   "execution_count": 90,
   "metadata": {},
   "outputs": [
    {
     "name": "stdout",
     "output_type": "stream",
     "text": [
      "1094\n",
      "126\n"
     ]
    }
   ],
   "source": [
    "print(df_opps['CONTRACT_DURATION'].max())\n",
    "print(df_opps['CONTRACT_DURATION'].min())\n"
   ]
  },
  {
   "cell_type": "code",
   "execution_count": 91,
   "metadata": {},
   "outputs": [
    {
     "data": {
      "text/html": [
       "<div>\n",
       "<style scoped>\n",
       "    .dataframe tbody tr th:only-of-type {\n",
       "        vertical-align: middle;\n",
       "    }\n",
       "\n",
       "    .dataframe tbody tr th {\n",
       "        vertical-align: top;\n",
       "    }\n",
       "\n",
       "    .dataframe thead th {\n",
       "        text-align: right;\n",
       "    }\n",
       "</style>\n",
       "<table border=\"1\" class=\"dataframe\">\n",
       "  <thead>\n",
       "    <tr style=\"text-align: right;\">\n",
       "      <th></th>\n",
       "      <th>IS_WON</th>\n",
       "      <th>ACCOUNT_ID</th>\n",
       "      <th>OPPORTUNITY_ID</th>\n",
       "      <th>RENEWAL_DATE_C</th>\n",
       "      <th>START_DATE_C</th>\n",
       "      <th>END_DATE_C</th>\n",
       "      <th>NAME</th>\n",
       "      <th>PRODUCT_CODE</th>\n",
       "      <th>QUANTITY</th>\n",
       "      <th>CONTRACT_DURATION</th>\n",
       "    </tr>\n",
       "  </thead>\n",
       "  <tbody>\n",
       "    <tr>\n",
       "      <th>0</th>\n",
       "      <td>NaN</td>\n",
       "      <td>acc1</td>\n",
       "      <td>opp1</td>\n",
       "      <td>2020-04-23</td>\n",
       "      <td>2020-04-24</td>\n",
       "      <td>2021-04-23</td>\n",
       "      <td>PlanGrid (Nailgun - 550 Sheets)</td>\n",
       "      <td>SS_550_AN_P2</td>\n",
       "      <td>4</td>\n",
       "      <td>364</td>\n",
       "    </tr>\n",
       "    <tr>\n",
       "      <th>1</th>\n",
       "      <td>NaN</td>\n",
       "      <td>acc1</td>\n",
       "      <td>opp1</td>\n",
       "      <td>2020-04-23</td>\n",
       "      <td>2020-04-24</td>\n",
       "      <td>2021-04-23</td>\n",
       "      <td>PlanGrid (Dozer - 5000 Sheets)</td>\n",
       "      <td>SS_5K_AN_P2</td>\n",
       "      <td>2</td>\n",
       "      <td>364</td>\n",
       "    </tr>\n",
       "  </tbody>\n",
       "</table>\n",
       "</div>"
      ],
      "text/plain": [
       "  IS_WON ACCOUNT_ID OPPORTUNITY_ID RENEWAL_DATE_C START_DATE_C END_DATE_C  \\\n",
       "0    NaN       acc1           opp1     2020-04-23   2020-04-24 2021-04-23   \n",
       "1    NaN       acc1           opp1     2020-04-23   2020-04-24 2021-04-23   \n",
       "\n",
       "                              NAME  PRODUCT_CODE  QUANTITY  CONTRACT_DURATION  \n",
       "0  PlanGrid (Nailgun - 550 Sheets)  SS_550_AN_P2         4                364  \n",
       "1   PlanGrid (Dozer - 5000 Sheets)   SS_5K_AN_P2         2                364  "
      ]
     },
     "execution_count": 91,
     "metadata": {},
     "output_type": "execute_result"
    }
   ],
   "source": [
    "# Ordering columns for easier access for use in prediction models.\n",
    "column_names = ['IS_WON','ACCOUNT_ID', 'OPPORTUNITY_ID', 'RENEWAL_DATE_C','START_DATE_C','END_DATE_C','NAME','PRODUCT_CODE',\n",
    "       'QUANTITY', 'CONTRACT_DURATION']\n",
    "df_opps = df_opps.reindex(columns=column_names)\n",
    "df_opps.head(2)"
   ]
  },
  {
   "cell_type": "markdown",
   "metadata": {},
   "source": [
    "### Feature scaling\n",
    "**Before classification, we should normalize the range of features which will be used in the model. (feature scaling).**\n"
   ]
  },
  {
   "cell_type": "code",
   "execution_count": 92,
   "metadata": {},
   "outputs": [],
   "source": [
    "# CONTRACT_DURATION and QUANTITY will be used in classification. So, they are normalized.\n",
    "sc_Q = StandardScaler()\n",
    "sc_D = StandardScaler()\n",
    "df_opps[['std_QUANTITY ']] = sc_Q.fit_transform(df_opps[['QUANTITY']])\n",
    "df_opps[['std_CONTRACT_DURATION']] = sc_D.fit_transform(df_opps[['CONTRACT_DURATION']])\n"
   ]
  },
  {
   "cell_type": "code",
   "execution_count": 93,
   "metadata": {},
   "outputs": [
    {
     "data": {
      "text/plain": [
       "IS_WON              2\n",
       "ACCOUNT_ID        527\n",
       "OPPORTUNITY_ID    536\n",
       "NAME               19\n",
       "PRODUCT_CODE       19\n",
       "dtype: int64"
      ]
     },
     "execution_count": 93,
     "metadata": {},
     "output_type": "execute_result"
    }
   ],
   "source": [
    "# Looking at the number of unique entries in each of the object (categorical) columns\n",
    "df_opps.select_dtypes('object').apply(pd.Series.nunique, axis = 0)"
   ]
  },
  {
   "cell_type": "markdown",
   "metadata": {},
   "source": [
    "### One-hot encoding of categorical variables\n",
    "**Since NAME and PRODUCT_CODE are the same, PRODUCT_CODE is encoded and will be used in the prediction.**\n"
   ]
  },
  {
   "cell_type": "code",
   "execution_count": 94,
   "metadata": {},
   "outputs": [
    {
     "data": {
      "text/html": [
       "<div>\n",
       "<style scoped>\n",
       "    .dataframe tbody tr th:only-of-type {\n",
       "        vertical-align: middle;\n",
       "    }\n",
       "\n",
       "    .dataframe tbody tr th {\n",
       "        vertical-align: top;\n",
       "    }\n",
       "\n",
       "    .dataframe thead th {\n",
       "        text-align: right;\n",
       "    }\n",
       "</style>\n",
       "<table border=\"1\" class=\"dataframe\">\n",
       "  <thead>\n",
       "    <tr style=\"text-align: right;\">\n",
       "      <th></th>\n",
       "      <th>IS_WON</th>\n",
       "      <th>ACCOUNT_ID</th>\n",
       "      <th>OPPORTUNITY_ID</th>\n",
       "      <th>RENEWAL_DATE_C</th>\n",
       "      <th>START_DATE_C</th>\n",
       "      <th>END_DATE_C</th>\n",
       "      <th>NAME</th>\n",
       "      <th>PRODUCT_CODE</th>\n",
       "      <th>QUANTITY</th>\n",
       "      <th>CONTRACT_DURATION</th>\n",
       "      <th>...</th>\n",
       "      <th>PRODUCT_CODE_SS_INF_AN_P2</th>\n",
       "      <th>PRODUCT_CODE_SS_INF_EN</th>\n",
       "      <th>PRODUCT_CODE_SS_RFI_AN</th>\n",
       "      <th>PRODUCT_CODE_SS_SSO1_AN</th>\n",
       "      <th>PRODUCT_CODE_SS_SSO2_AN</th>\n",
       "      <th>PRODUCT_CODE_SS_SUBM1_AN</th>\n",
       "      <th>PRODUCT_CODE_SS_SUBM2_AN</th>\n",
       "      <th>PRODUCT_CODE_SS_SUBM3.1_AN</th>\n",
       "      <th>PRODUCT_CODE_SS_SUBM3_AN</th>\n",
       "      <th>PRODUCT_CODE_SS_WORK_AN</th>\n",
       "    </tr>\n",
       "  </thead>\n",
       "  <tbody>\n",
       "    <tr>\n",
       "      <th>0</th>\n",
       "      <td>NaN</td>\n",
       "      <td>acc1</td>\n",
       "      <td>opp1</td>\n",
       "      <td>2020-04-23</td>\n",
       "      <td>2020-04-24</td>\n",
       "      <td>2021-04-23</td>\n",
       "      <td>PlanGrid (Nailgun - 550 Sheets)</td>\n",
       "      <td>SS_550_AN_P2</td>\n",
       "      <td>4</td>\n",
       "      <td>364</td>\n",
       "      <td>...</td>\n",
       "      <td>0</td>\n",
       "      <td>0</td>\n",
       "      <td>0</td>\n",
       "      <td>0</td>\n",
       "      <td>0</td>\n",
       "      <td>0</td>\n",
       "      <td>0</td>\n",
       "      <td>0</td>\n",
       "      <td>0</td>\n",
       "      <td>0</td>\n",
       "    </tr>\n",
       "    <tr>\n",
       "      <th>1</th>\n",
       "      <td>NaN</td>\n",
       "      <td>acc1</td>\n",
       "      <td>opp1</td>\n",
       "      <td>2020-04-23</td>\n",
       "      <td>2020-04-24</td>\n",
       "      <td>2021-04-23</td>\n",
       "      <td>PlanGrid (Dozer - 5000 Sheets)</td>\n",
       "      <td>SS_5K_AN_P2</td>\n",
       "      <td>2</td>\n",
       "      <td>364</td>\n",
       "      <td>...</td>\n",
       "      <td>0</td>\n",
       "      <td>0</td>\n",
       "      <td>0</td>\n",
       "      <td>0</td>\n",
       "      <td>0</td>\n",
       "      <td>0</td>\n",
       "      <td>0</td>\n",
       "      <td>0</td>\n",
       "      <td>0</td>\n",
       "      <td>0</td>\n",
       "    </tr>\n",
       "  </tbody>\n",
       "</table>\n",
       "<p>2 rows × 31 columns</p>\n",
       "</div>"
      ],
      "text/plain": [
       "  IS_WON ACCOUNT_ID OPPORTUNITY_ID RENEWAL_DATE_C START_DATE_C END_DATE_C  \\\n",
       "0    NaN       acc1           opp1     2020-04-23   2020-04-24 2021-04-23   \n",
       "1    NaN       acc1           opp1     2020-04-23   2020-04-24 2021-04-23   \n",
       "\n",
       "                              NAME  PRODUCT_CODE  QUANTITY  CONTRACT_DURATION  \\\n",
       "0  PlanGrid (Nailgun - 550 Sheets)  SS_550_AN_P2         4                364   \n",
       "1   PlanGrid (Dozer - 5000 Sheets)   SS_5K_AN_P2         2                364   \n",
       "\n",
       "   ...  PRODUCT_CODE_SS_INF_AN_P2  PRODUCT_CODE_SS_INF_EN  \\\n",
       "0  ...                          0                       0   \n",
       "1  ...                          0                       0   \n",
       "\n",
       "   PRODUCT_CODE_SS_RFI_AN  PRODUCT_CODE_SS_SSO1_AN  PRODUCT_CODE_SS_SSO2_AN  \\\n",
       "0                       0                        0                        0   \n",
       "1                       0                        0                        0   \n",
       "\n",
       "   PRODUCT_CODE_SS_SUBM1_AN  PRODUCT_CODE_SS_SUBM2_AN  \\\n",
       "0                         0                         0   \n",
       "1                         0                         0   \n",
       "\n",
       "   PRODUCT_CODE_SS_SUBM3.1_AN  PRODUCT_CODE_SS_SUBM3_AN  \\\n",
       "0                           0                         0   \n",
       "1                           0                         0   \n",
       "\n",
       "   PRODUCT_CODE_SS_WORK_AN  \n",
       "0                        0  \n",
       "1                        0  \n",
       "\n",
       "[2 rows x 31 columns]"
      ]
     },
     "execution_count": 94,
     "metadata": {},
     "output_type": "execute_result"
    }
   ],
   "source": [
    "df_opps = pd.concat([df_opps, pd.get_dummies(df_opps['PRODUCT_CODE'], prefix='PRODUCT_CODE')], axis=1)\n",
    "df_opps.head(2)"
   ]
  },
  {
   "cell_type": "markdown",
   "metadata": {},
   "source": [
    "### Dividing to train/test set and prediction set\n",
    "**Since the question is: 'Predict 04/21/2020-04/30/2020 renewals by learning from the closed 04/01/2020-04/20/2020 renewals,' the event_history file will be divided into two parts contains train/test and prediction set. The first part, which contains IS_WON values, will be divided to train and test sets. (04/01/2020-04/20/2020) The second part, which Is_Won values' is null, will be divided into a prediction set. (04/21/2020-04/30/2020 )**"
   ]
  },
  {
   "cell_type": "code",
   "execution_count": 95,
   "metadata": {},
   "outputs": [],
   "source": [
    "# Spliting data to two part:\n",
    "# 1) The first part contains train and test set.\n",
    "# 2) The second part contains prediction set\n",
    "split_date ='2020-04-20'\n",
    "train = df_opps.loc[df_opps['RENEWAL_DATE_C'] <= split_date]\n",
    "prediction = df_opps.loc[df_opps['RENEWAL_DATE_C'] > split_date]"
   ]
  },
  {
   "cell_type": "code",
   "execution_count": 96,
   "metadata": {},
   "outputs": [
    {
     "name": "stdout",
     "output_type": "stream",
     "text": [
      "<class 'pandas.core.frame.DataFrame'>\n",
      "Int64Index: 579 entries, 2 to 999\n",
      "Data columns (total 31 columns):\n",
      " #   Column                      Non-Null Count  Dtype         \n",
      "---  ------                      --------------  -----         \n",
      " 0   IS_WON                      579 non-null    object        \n",
      " 1   ACCOUNT_ID                  579 non-null    object        \n",
      " 2   OPPORTUNITY_ID              579 non-null    object        \n",
      " 3   RENEWAL_DATE_C              579 non-null    datetime64[ns]\n",
      " 4   START_DATE_C                579 non-null    datetime64[ns]\n",
      " 5   END_DATE_C                  579 non-null    datetime64[ns]\n",
      " 6   NAME                        579 non-null    object        \n",
      " 7   PRODUCT_CODE                579 non-null    object        \n",
      " 8   QUANTITY                    579 non-null    int64         \n",
      " 9   CONTRACT_DURATION           579 non-null    int32         \n",
      " 10  std_QUANTITY                579 non-null    float64       \n",
      " 11  std_CONTRACT_DURATION       579 non-null    float64       \n",
      " 12  PRODUCT_CODE_API_DEV_AN     579 non-null    uint8         \n",
      " 13  PRODUCT_CODE_API_PGC1_AN    579 non-null    uint8         \n",
      " 14  PRODUCT_CODE_SS_550_AN_P2   579 non-null    uint8         \n",
      " 15  PRODUCT_CODE_SS_5K_AN_P2    579 non-null    uint8         \n",
      " 16  PRODUCT_CODE_SS_ASL1.1_AN   579 non-null    uint8         \n",
      " 17  PRODUCT_CODE_SS_ASL2.1_AN   579 non-null    uint8         \n",
      " 18  PRODUCT_CODE_SS_ASL3.1_AN   579 non-null    uint8         \n",
      " 19  PRODUCT_CODE_SS_ASL4.1_AN   579 non-null    uint8         \n",
      " 20  PRODUCT_CODE_SS_EC_T0       579 non-null    uint8         \n",
      " 21  PRODUCT_CODE_SS_INF_AN_P2   579 non-null    uint8         \n",
      " 22  PRODUCT_CODE_SS_INF_EN      579 non-null    uint8         \n",
      " 23  PRODUCT_CODE_SS_RFI_AN      579 non-null    uint8         \n",
      " 24  PRODUCT_CODE_SS_SSO1_AN     579 non-null    uint8         \n",
      " 25  PRODUCT_CODE_SS_SSO2_AN     579 non-null    uint8         \n",
      " 26  PRODUCT_CODE_SS_SUBM1_AN    579 non-null    uint8         \n",
      " 27  PRODUCT_CODE_SS_SUBM2_AN    579 non-null    uint8         \n",
      " 28  PRODUCT_CODE_SS_SUBM3.1_AN  579 non-null    uint8         \n",
      " 29  PRODUCT_CODE_SS_SUBM3_AN    579 non-null    uint8         \n",
      " 30  PRODUCT_CODE_SS_WORK_AN     579 non-null    uint8         \n",
      "dtypes: datetime64[ns](3), float64(2), int32(1), int64(1), object(5), uint8(19)\n",
      "memory usage: 67.3+ KB\n"
     ]
    }
   ],
   "source": [
    "train.info()"
   ]
  },
  {
   "cell_type": "code",
   "execution_count": 97,
   "metadata": {},
   "outputs": [
    {
     "name": "stdout",
     "output_type": "stream",
     "text": [
      "Training Features shape:  (579, 31)\n",
      "Testing Features shape:  (419, 31)\n"
     ]
    }
   ],
   "source": [
    "print('Training Features shape: ', train.shape)\n",
    "print('Testing Features shape: ', prediction.shape)"
   ]
  },
  {
   "cell_type": "code",
   "execution_count": 98,
   "metadata": {},
   "outputs": [
    {
     "data": {
      "text/html": [
       "<div>\n",
       "<style scoped>\n",
       "    .dataframe tbody tr th:only-of-type {\n",
       "        vertical-align: middle;\n",
       "    }\n",
       "\n",
       "    .dataframe tbody tr th {\n",
       "        vertical-align: top;\n",
       "    }\n",
       "\n",
       "    .dataframe thead th {\n",
       "        text-align: right;\n",
       "    }\n",
       "</style>\n",
       "<table border=\"1\" class=\"dataframe\">\n",
       "  <thead>\n",
       "    <tr style=\"text-align: right;\">\n",
       "      <th></th>\n",
       "      <th>IS_WON</th>\n",
       "      <th>ACCOUNT_ID</th>\n",
       "      <th>OPPORTUNITY_ID</th>\n",
       "      <th>RENEWAL_DATE_C</th>\n",
       "      <th>START_DATE_C</th>\n",
       "      <th>END_DATE_C</th>\n",
       "      <th>NAME</th>\n",
       "      <th>PRODUCT_CODE</th>\n",
       "      <th>QUANTITY</th>\n",
       "      <th>CONTRACT_DURATION</th>\n",
       "      <th>...</th>\n",
       "      <th>PRODUCT_CODE_SS_INF_AN_P2</th>\n",
       "      <th>PRODUCT_CODE_SS_INF_EN</th>\n",
       "      <th>PRODUCT_CODE_SS_RFI_AN</th>\n",
       "      <th>PRODUCT_CODE_SS_SSO1_AN</th>\n",
       "      <th>PRODUCT_CODE_SS_SSO2_AN</th>\n",
       "      <th>PRODUCT_CODE_SS_SUBM1_AN</th>\n",
       "      <th>PRODUCT_CODE_SS_SUBM2_AN</th>\n",
       "      <th>PRODUCT_CODE_SS_SUBM3.1_AN</th>\n",
       "      <th>PRODUCT_CODE_SS_SUBM3_AN</th>\n",
       "      <th>PRODUCT_CODE_SS_WORK_AN</th>\n",
       "    </tr>\n",
       "  </thead>\n",
       "  <tbody>\n",
       "    <tr>\n",
       "      <th>2</th>\n",
       "      <td>True</td>\n",
       "      <td>acc2</td>\n",
       "      <td>opp2</td>\n",
       "      <td>2020-04-16</td>\n",
       "      <td>2020-04-17</td>\n",
       "      <td>2021-04-16</td>\n",
       "      <td>PlanGrid (Crane - Infinite Sheets)</td>\n",
       "      <td>SS_INF_AN_P2</td>\n",
       "      <td>1</td>\n",
       "      <td>364</td>\n",
       "      <td>...</td>\n",
       "      <td>1</td>\n",
       "      <td>0</td>\n",
       "      <td>0</td>\n",
       "      <td>0</td>\n",
       "      <td>0</td>\n",
       "      <td>0</td>\n",
       "      <td>0</td>\n",
       "      <td>0</td>\n",
       "      <td>0</td>\n",
       "      <td>0</td>\n",
       "    </tr>\n",
       "    <tr>\n",
       "      <th>3</th>\n",
       "      <td>True</td>\n",
       "      <td>acc2</td>\n",
       "      <td>opp2</td>\n",
       "      <td>2020-04-16</td>\n",
       "      <td>2020-04-17</td>\n",
       "      <td>2021-04-16</td>\n",
       "      <td>PlanGrid (Dozer - 5000 Sheets)</td>\n",
       "      <td>SS_5K_AN_P2</td>\n",
       "      <td>8</td>\n",
       "      <td>364</td>\n",
       "      <td>...</td>\n",
       "      <td>0</td>\n",
       "      <td>0</td>\n",
       "      <td>0</td>\n",
       "      <td>0</td>\n",
       "      <td>0</td>\n",
       "      <td>0</td>\n",
       "      <td>0</td>\n",
       "      <td>0</td>\n",
       "      <td>0</td>\n",
       "      <td>0</td>\n",
       "    </tr>\n",
       "  </tbody>\n",
       "</table>\n",
       "<p>2 rows × 31 columns</p>\n",
       "</div>"
      ],
      "text/plain": [
       "  IS_WON ACCOUNT_ID OPPORTUNITY_ID RENEWAL_DATE_C START_DATE_C END_DATE_C  \\\n",
       "2   True       acc2           opp2     2020-04-16   2020-04-17 2021-04-16   \n",
       "3   True       acc2           opp2     2020-04-16   2020-04-17 2021-04-16   \n",
       "\n",
       "                                 NAME  PRODUCT_CODE  QUANTITY  \\\n",
       "2  PlanGrid (Crane - Infinite Sheets)  SS_INF_AN_P2         1   \n",
       "3      PlanGrid (Dozer - 5000 Sheets)   SS_5K_AN_P2         8   \n",
       "\n",
       "   CONTRACT_DURATION  ...  PRODUCT_CODE_SS_INF_AN_P2  PRODUCT_CODE_SS_INF_EN  \\\n",
       "2                364  ...                          1                       0   \n",
       "3                364  ...                          0                       0   \n",
       "\n",
       "   PRODUCT_CODE_SS_RFI_AN  PRODUCT_CODE_SS_SSO1_AN  PRODUCT_CODE_SS_SSO2_AN  \\\n",
       "2                       0                        0                        0   \n",
       "3                       0                        0                        0   \n",
       "\n",
       "   PRODUCT_CODE_SS_SUBM1_AN  PRODUCT_CODE_SS_SUBM2_AN  \\\n",
       "2                         0                         0   \n",
       "3                         0                         0   \n",
       "\n",
       "   PRODUCT_CODE_SS_SUBM3.1_AN  PRODUCT_CODE_SS_SUBM3_AN  \\\n",
       "2                           0                         0   \n",
       "3                           0                         0   \n",
       "\n",
       "   PRODUCT_CODE_SS_WORK_AN  \n",
       "2                        0  \n",
       "3                        0  \n",
       "\n",
       "[2 rows x 31 columns]"
      ]
     },
     "execution_count": 98,
     "metadata": {},
     "output_type": "execute_result"
    }
   ],
   "source": [
    "train.head(2)"
   ]
  },
  {
   "cell_type": "code",
   "execution_count": 99,
   "metadata": {},
   "outputs": [
    {
     "data": {
      "text/html": [
       "<div>\n",
       "<style scoped>\n",
       "    .dataframe tbody tr th:only-of-type {\n",
       "        vertical-align: middle;\n",
       "    }\n",
       "\n",
       "    .dataframe tbody tr th {\n",
       "        vertical-align: top;\n",
       "    }\n",
       "\n",
       "    .dataframe thead th {\n",
       "        text-align: right;\n",
       "    }\n",
       "</style>\n",
       "<table border=\"1\" class=\"dataframe\">\n",
       "  <thead>\n",
       "    <tr style=\"text-align: right;\">\n",
       "      <th></th>\n",
       "      <th>IS_WON</th>\n",
       "      <th>ACCOUNT_ID</th>\n",
       "      <th>OPPORTUNITY_ID</th>\n",
       "      <th>RENEWAL_DATE_C</th>\n",
       "      <th>START_DATE_C</th>\n",
       "      <th>END_DATE_C</th>\n",
       "      <th>NAME</th>\n",
       "      <th>PRODUCT_CODE</th>\n",
       "      <th>QUANTITY</th>\n",
       "      <th>CONTRACT_DURATION</th>\n",
       "      <th>...</th>\n",
       "      <th>PRODUCT_CODE_SS_INF_AN_P2</th>\n",
       "      <th>PRODUCT_CODE_SS_INF_EN</th>\n",
       "      <th>PRODUCT_CODE_SS_RFI_AN</th>\n",
       "      <th>PRODUCT_CODE_SS_SSO1_AN</th>\n",
       "      <th>PRODUCT_CODE_SS_SSO2_AN</th>\n",
       "      <th>PRODUCT_CODE_SS_SUBM1_AN</th>\n",
       "      <th>PRODUCT_CODE_SS_SUBM2_AN</th>\n",
       "      <th>PRODUCT_CODE_SS_SUBM3.1_AN</th>\n",
       "      <th>PRODUCT_CODE_SS_SUBM3_AN</th>\n",
       "      <th>PRODUCT_CODE_SS_WORK_AN</th>\n",
       "    </tr>\n",
       "  </thead>\n",
       "  <tbody>\n",
       "    <tr>\n",
       "      <th>0</th>\n",
       "      <td>NaN</td>\n",
       "      <td>acc1</td>\n",
       "      <td>opp1</td>\n",
       "      <td>2020-04-23</td>\n",
       "      <td>2020-04-24</td>\n",
       "      <td>2021-04-23</td>\n",
       "      <td>PlanGrid (Nailgun - 550 Sheets)</td>\n",
       "      <td>SS_550_AN_P2</td>\n",
       "      <td>4</td>\n",
       "      <td>364</td>\n",
       "      <td>...</td>\n",
       "      <td>0</td>\n",
       "      <td>0</td>\n",
       "      <td>0</td>\n",
       "      <td>0</td>\n",
       "      <td>0</td>\n",
       "      <td>0</td>\n",
       "      <td>0</td>\n",
       "      <td>0</td>\n",
       "      <td>0</td>\n",
       "      <td>0</td>\n",
       "    </tr>\n",
       "    <tr>\n",
       "      <th>1</th>\n",
       "      <td>NaN</td>\n",
       "      <td>acc1</td>\n",
       "      <td>opp1</td>\n",
       "      <td>2020-04-23</td>\n",
       "      <td>2020-04-24</td>\n",
       "      <td>2021-04-23</td>\n",
       "      <td>PlanGrid (Dozer - 5000 Sheets)</td>\n",
       "      <td>SS_5K_AN_P2</td>\n",
       "      <td>2</td>\n",
       "      <td>364</td>\n",
       "      <td>...</td>\n",
       "      <td>0</td>\n",
       "      <td>0</td>\n",
       "      <td>0</td>\n",
       "      <td>0</td>\n",
       "      <td>0</td>\n",
       "      <td>0</td>\n",
       "      <td>0</td>\n",
       "      <td>0</td>\n",
       "      <td>0</td>\n",
       "      <td>0</td>\n",
       "    </tr>\n",
       "  </tbody>\n",
       "</table>\n",
       "<p>2 rows × 31 columns</p>\n",
       "</div>"
      ],
      "text/plain": [
       "  IS_WON ACCOUNT_ID OPPORTUNITY_ID RENEWAL_DATE_C START_DATE_C END_DATE_C  \\\n",
       "0    NaN       acc1           opp1     2020-04-23   2020-04-24 2021-04-23   \n",
       "1    NaN       acc1           opp1     2020-04-23   2020-04-24 2021-04-23   \n",
       "\n",
       "                              NAME  PRODUCT_CODE  QUANTITY  CONTRACT_DURATION  \\\n",
       "0  PlanGrid (Nailgun - 550 Sheets)  SS_550_AN_P2         4                364   \n",
       "1   PlanGrid (Dozer - 5000 Sheets)   SS_5K_AN_P2         2                364   \n",
       "\n",
       "   ...  PRODUCT_CODE_SS_INF_AN_P2  PRODUCT_CODE_SS_INF_EN  \\\n",
       "0  ...                          0                       0   \n",
       "1  ...                          0                       0   \n",
       "\n",
       "   PRODUCT_CODE_SS_RFI_AN  PRODUCT_CODE_SS_SSO1_AN  PRODUCT_CODE_SS_SSO2_AN  \\\n",
       "0                       0                        0                        0   \n",
       "1                       0                        0                        0   \n",
       "\n",
       "   PRODUCT_CODE_SS_SUBM1_AN  PRODUCT_CODE_SS_SUBM2_AN  \\\n",
       "0                         0                         0   \n",
       "1                         0                         0   \n",
       "\n",
       "   PRODUCT_CODE_SS_SUBM3.1_AN  PRODUCT_CODE_SS_SUBM3_AN  \\\n",
       "0                           0                         0   \n",
       "1                           0                         0   \n",
       "\n",
       "   PRODUCT_CODE_SS_WORK_AN  \n",
       "0                        0  \n",
       "1                        0  \n",
       "\n",
       "[2 rows x 31 columns]"
      ]
     },
     "execution_count": 99,
     "metadata": {},
     "output_type": "execute_result"
    }
   ],
   "source": [
    "prediction.head(2)"
   ]
  },
  {
   "cell_type": "code",
   "execution_count": 100,
   "metadata": {},
   "outputs": [
    {
     "data": {
      "text/plain": [
       "Index(['IS_WON', 'ACCOUNT_ID', 'OPPORTUNITY_ID', 'RENEWAL_DATE_C',\n",
       "       'START_DATE_C', 'END_DATE_C', 'NAME', 'PRODUCT_CODE', 'QUANTITY',\n",
       "       'CONTRACT_DURATION', 'std_QUANTITY ', 'std_CONTRACT_DURATION',\n",
       "       'PRODUCT_CODE_API_DEV_AN', 'PRODUCT_CODE_API_PGC1_AN',\n",
       "       'PRODUCT_CODE_SS_550_AN_P2', 'PRODUCT_CODE_SS_5K_AN_P2',\n",
       "       'PRODUCT_CODE_SS_ASL1.1_AN', 'PRODUCT_CODE_SS_ASL2.1_AN',\n",
       "       'PRODUCT_CODE_SS_ASL3.1_AN', 'PRODUCT_CODE_SS_ASL4.1_AN',\n",
       "       'PRODUCT_CODE_SS_EC_T0', 'PRODUCT_CODE_SS_INF_AN_P2',\n",
       "       'PRODUCT_CODE_SS_INF_EN', 'PRODUCT_CODE_SS_RFI_AN',\n",
       "       'PRODUCT_CODE_SS_SSO1_AN', 'PRODUCT_CODE_SS_SSO2_AN',\n",
       "       'PRODUCT_CODE_SS_SUBM1_AN', 'PRODUCT_CODE_SS_SUBM2_AN',\n",
       "       'PRODUCT_CODE_SS_SUBM3.1_AN', 'PRODUCT_CODE_SS_SUBM3_AN',\n",
       "       'PRODUCT_CODE_SS_WORK_AN'],\n",
       "      dtype='object')"
      ]
     },
     "execution_count": 100,
     "metadata": {},
     "output_type": "execute_result"
    }
   ],
   "source": [
    "train.columns"
   ]
  },
  {
   "cell_type": "markdown",
   "metadata": {},
   "source": [
    "### Label Encoding\n",
    "**For categorical variables like 'IS_WON' with 2 unique categories, label encoding should be used.\n",
    "For any categorical variable with more than 2 unique categories, one-hot encoding is used.**"
   ]
  },
  {
   "cell_type": "code",
   "execution_count": 101,
   "metadata": {},
   "outputs": [
    {
     "data": {
      "text/plain": [
       "2    1\n",
       "3    1\n",
       "4    1\n",
       "5    1\n",
       "6    1\n",
       "Name: IS_WON, dtype: int32"
      ]
     },
     "execution_count": 101,
     "metadata": {},
     "output_type": "execute_result"
    }
   ],
   "source": [
    "# After spliting data to train/test and prediction, the label encoder is used for IS_WON column in train/test sets\n",
    "# Create a label encoder object for train/test set(IS_WON)\n",
    "# using 0 and 1 rather True and False values for IS_WON\n",
    "le = LabelEncoder()\n",
    "train= train.dropna().copy()\n",
    "train['IS_WON'] = le.fit_transform(train['IS_WON'])   \n",
    "train['IS_WON'].head(5)"
   ]
  },
  {
   "cell_type": "code",
   "execution_count": 102,
   "metadata": {},
   "outputs": [],
   "source": [
    "# Columns IS_WON, CONTRACT_DURATION, QUANTITY, PRODUCT_CODE are used in the prediction models.\n",
    "# These rows divide first set of data(train) (04/01/2020 to 04/20/2020) to train and test set. \n",
    "from sklearn.model_selection import train_test_split\n",
    "X_train= train.iloc[:, 10:].values\n",
    "y_train = train.iloc[:, 0].values\n",
    "X_train, X_test, y_train, y_test = train_test_split( X_train, y_train, test_size=0.33, random_state=42)\n",
    "X_prediction= prediction.iloc[:, 10:].values"
   ]
  },
  {
   "cell_type": "code",
   "execution_count": 104,
   "metadata": {},
   "outputs": [
    {
     "data": {
      "text/html": [
       "<div>\n",
       "<style scoped>\n",
       "    .dataframe tbody tr th:only-of-type {\n",
       "        vertical-align: middle;\n",
       "    }\n",
       "\n",
       "    .dataframe tbody tr th {\n",
       "        vertical-align: top;\n",
       "    }\n",
       "\n",
       "    .dataframe thead th {\n",
       "        text-align: right;\n",
       "    }\n",
       "</style>\n",
       "<table border=\"1\" class=\"dataframe\">\n",
       "  <thead>\n",
       "    <tr style=\"text-align: right;\">\n",
       "      <th></th>\n",
       "      <th>0</th>\n",
       "      <th>1</th>\n",
       "      <th>2</th>\n",
       "      <th>3</th>\n",
       "      <th>4</th>\n",
       "      <th>5</th>\n",
       "      <th>6</th>\n",
       "      <th>7</th>\n",
       "      <th>8</th>\n",
       "      <th>9</th>\n",
       "      <th>...</th>\n",
       "      <th>11</th>\n",
       "      <th>12</th>\n",
       "      <th>13</th>\n",
       "      <th>14</th>\n",
       "      <th>15</th>\n",
       "      <th>16</th>\n",
       "      <th>17</th>\n",
       "      <th>18</th>\n",
       "      <th>19</th>\n",
       "      <th>20</th>\n",
       "    </tr>\n",
       "  </thead>\n",
       "  <tbody>\n",
       "    <tr>\n",
       "      <th>0</th>\n",
       "      <td>-0.284770</td>\n",
       "      <td>-0.358426</td>\n",
       "      <td>0.0</td>\n",
       "      <td>0.0</td>\n",
       "      <td>0.0</td>\n",
       "      <td>1.0</td>\n",
       "      <td>0.0</td>\n",
       "      <td>0.0</td>\n",
       "      <td>0.0</td>\n",
       "      <td>0.0</td>\n",
       "      <td>...</td>\n",
       "      <td>0.0</td>\n",
       "      <td>0.0</td>\n",
       "      <td>0.0</td>\n",
       "      <td>0.0</td>\n",
       "      <td>0.0</td>\n",
       "      <td>0.0</td>\n",
       "      <td>0.0</td>\n",
       "      <td>0.0</td>\n",
       "      <td>0.0</td>\n",
       "      <td>0.0</td>\n",
       "    </tr>\n",
       "    <tr>\n",
       "      <th>1</th>\n",
       "      <td>-0.284770</td>\n",
       "      <td>-0.358426</td>\n",
       "      <td>0.0</td>\n",
       "      <td>0.0</td>\n",
       "      <td>0.0</td>\n",
       "      <td>1.0</td>\n",
       "      <td>0.0</td>\n",
       "      <td>0.0</td>\n",
       "      <td>0.0</td>\n",
       "      <td>0.0</td>\n",
       "      <td>...</td>\n",
       "      <td>0.0</td>\n",
       "      <td>0.0</td>\n",
       "      <td>0.0</td>\n",
       "      <td>0.0</td>\n",
       "      <td>0.0</td>\n",
       "      <td>0.0</td>\n",
       "      <td>0.0</td>\n",
       "      <td>0.0</td>\n",
       "      <td>0.0</td>\n",
       "      <td>0.0</td>\n",
       "    </tr>\n",
       "    <tr>\n",
       "      <th>2</th>\n",
       "      <td>-0.284770</td>\n",
       "      <td>-0.358426</td>\n",
       "      <td>0.0</td>\n",
       "      <td>0.0</td>\n",
       "      <td>1.0</td>\n",
       "      <td>0.0</td>\n",
       "      <td>0.0</td>\n",
       "      <td>0.0</td>\n",
       "      <td>0.0</td>\n",
       "      <td>0.0</td>\n",
       "      <td>...</td>\n",
       "      <td>0.0</td>\n",
       "      <td>0.0</td>\n",
       "      <td>0.0</td>\n",
       "      <td>0.0</td>\n",
       "      <td>0.0</td>\n",
       "      <td>0.0</td>\n",
       "      <td>0.0</td>\n",
       "      <td>0.0</td>\n",
       "      <td>0.0</td>\n",
       "      <td>0.0</td>\n",
       "    </tr>\n",
       "    <tr>\n",
       "      <th>3</th>\n",
       "      <td>0.233438</td>\n",
       "      <td>-0.358426</td>\n",
       "      <td>0.0</td>\n",
       "      <td>0.0</td>\n",
       "      <td>1.0</td>\n",
       "      <td>0.0</td>\n",
       "      <td>0.0</td>\n",
       "      <td>0.0</td>\n",
       "      <td>0.0</td>\n",
       "      <td>0.0</td>\n",
       "      <td>...</td>\n",
       "      <td>0.0</td>\n",
       "      <td>0.0</td>\n",
       "      <td>0.0</td>\n",
       "      <td>0.0</td>\n",
       "      <td>0.0</td>\n",
       "      <td>0.0</td>\n",
       "      <td>0.0</td>\n",
       "      <td>0.0</td>\n",
       "      <td>0.0</td>\n",
       "      <td>0.0</td>\n",
       "    </tr>\n",
       "    <tr>\n",
       "      <th>4</th>\n",
       "      <td>-0.062680</td>\n",
       "      <td>-0.358426</td>\n",
       "      <td>0.0</td>\n",
       "      <td>0.0</td>\n",
       "      <td>0.0</td>\n",
       "      <td>0.0</td>\n",
       "      <td>0.0</td>\n",
       "      <td>0.0</td>\n",
       "      <td>0.0</td>\n",
       "      <td>0.0</td>\n",
       "      <td>...</td>\n",
       "      <td>1.0</td>\n",
       "      <td>0.0</td>\n",
       "      <td>0.0</td>\n",
       "      <td>0.0</td>\n",
       "      <td>0.0</td>\n",
       "      <td>0.0</td>\n",
       "      <td>0.0</td>\n",
       "      <td>0.0</td>\n",
       "      <td>0.0</td>\n",
       "      <td>0.0</td>\n",
       "    </tr>\n",
       "  </tbody>\n",
       "</table>\n",
       "<p>5 rows × 21 columns</p>\n",
       "</div>"
      ],
      "text/plain": [
       "         0         1    2    3    4    5    6    7    8    9   ...   11   12  \\\n",
       "0 -0.284770 -0.358426  0.0  0.0  0.0  1.0  0.0  0.0  0.0  0.0  ...  0.0  0.0   \n",
       "1 -0.284770 -0.358426  0.0  0.0  0.0  1.0  0.0  0.0  0.0  0.0  ...  0.0  0.0   \n",
       "2 -0.284770 -0.358426  0.0  0.0  1.0  0.0  0.0  0.0  0.0  0.0  ...  0.0  0.0   \n",
       "3  0.233438 -0.358426  0.0  0.0  1.0  0.0  0.0  0.0  0.0  0.0  ...  0.0  0.0   \n",
       "4 -0.062680 -0.358426  0.0  0.0  0.0  0.0  0.0  0.0  0.0  0.0  ...  1.0  0.0   \n",
       "\n",
       "    13   14   15   16   17   18   19   20  \n",
       "0  0.0  0.0  0.0  0.0  0.0  0.0  0.0  0.0  \n",
       "1  0.0  0.0  0.0  0.0  0.0  0.0  0.0  0.0  \n",
       "2  0.0  0.0  0.0  0.0  0.0  0.0  0.0  0.0  \n",
       "3  0.0  0.0  0.0  0.0  0.0  0.0  0.0  0.0  \n",
       "4  0.0  0.0  0.0  0.0  0.0  0.0  0.0  0.0  \n",
       "\n",
       "[5 rows x 21 columns]"
      ]
     },
     "execution_count": 104,
     "metadata": {},
     "output_type": "execute_result"
    }
   ],
   "source": [
    "#Checking the train set\n",
    "df=pd.DataFrame(X_train)\n",
    "df.head(5)"
   ]
  },
  {
   "cell_type": "code",
   "execution_count": 241,
   "metadata": {},
   "outputs": [
    {
     "data": {
      "text/html": [
       "<div>\n",
       "<style scoped>\n",
       "    .dataframe tbody tr th:only-of-type {\n",
       "        vertical-align: middle;\n",
       "    }\n",
       "\n",
       "    .dataframe tbody tr th {\n",
       "        vertical-align: top;\n",
       "    }\n",
       "\n",
       "    .dataframe thead th {\n",
       "        text-align: right;\n",
       "    }\n",
       "</style>\n",
       "<table border=\"1\" class=\"dataframe\">\n",
       "  <thead>\n",
       "    <tr style=\"text-align: right;\">\n",
       "      <th></th>\n",
       "      <th>std_CONTRACT_DURATION</th>\n",
       "      <th>PRODUCT_CODE_API_DEV_AN</th>\n",
       "      <th>PRODUCT_CODE_API_PGC1_AN</th>\n",
       "      <th>PRODUCT_CODE_SS_550_AN_P2</th>\n",
       "      <th>PRODUCT_CODE_SS_5K_AN_P2</th>\n",
       "      <th>PRODUCT_CODE_SS_ASL1.1_AN</th>\n",
       "      <th>PRODUCT_CODE_SS_ASL2.1_AN</th>\n",
       "      <th>PRODUCT_CODE_SS_ASL3.1_AN</th>\n",
       "      <th>PRODUCT_CODE_SS_ASL4.1_AN</th>\n",
       "      <th>PRODUCT_CODE_SS_EC_T0</th>\n",
       "      <th>PRODUCT_CODE_SS_INF_AN_P2</th>\n",
       "      <th>PRODUCT_CODE_SS_INF_EN</th>\n",
       "      <th>PRODUCT_CODE_SS_RFI_AN</th>\n",
       "      <th>PRODUCT_CODE_SS_SSO1_AN</th>\n",
       "      <th>PRODUCT_CODE_SS_SSO2_AN</th>\n",
       "      <th>PRODUCT_CODE_SS_SUBM1_AN</th>\n",
       "      <th>PRODUCT_CODE_SS_SUBM2_AN</th>\n",
       "      <th>PRODUCT_CODE_SS_SUBM3.1_AN</th>\n",
       "      <th>PRODUCT_CODE_SS_SUBM3_AN</th>\n",
       "      <th>PRODUCT_CODE_SS_WORK_AN</th>\n",
       "    </tr>\n",
       "  </thead>\n",
       "  <tbody>\n",
       "    <tr>\n",
       "      <th>2</th>\n",
       "      <td>-0.358426</td>\n",
       "      <td>0</td>\n",
       "      <td>0</td>\n",
       "      <td>0</td>\n",
       "      <td>0</td>\n",
       "      <td>0</td>\n",
       "      <td>0</td>\n",
       "      <td>0</td>\n",
       "      <td>0</td>\n",
       "      <td>0</td>\n",
       "      <td>1</td>\n",
       "      <td>0</td>\n",
       "      <td>0</td>\n",
       "      <td>0</td>\n",
       "      <td>0</td>\n",
       "      <td>0</td>\n",
       "      <td>0</td>\n",
       "      <td>0</td>\n",
       "      <td>0</td>\n",
       "      <td>0</td>\n",
       "    </tr>\n",
       "    <tr>\n",
       "      <th>3</th>\n",
       "      <td>-0.358426</td>\n",
       "      <td>0</td>\n",
       "      <td>0</td>\n",
       "      <td>0</td>\n",
       "      <td>1</td>\n",
       "      <td>0</td>\n",
       "      <td>0</td>\n",
       "      <td>0</td>\n",
       "      <td>0</td>\n",
       "      <td>0</td>\n",
       "      <td>0</td>\n",
       "      <td>0</td>\n",
       "      <td>0</td>\n",
       "      <td>0</td>\n",
       "      <td>0</td>\n",
       "      <td>0</td>\n",
       "      <td>0</td>\n",
       "      <td>0</td>\n",
       "      <td>0</td>\n",
       "      <td>0</td>\n",
       "    </tr>\n",
       "    <tr>\n",
       "      <th>4</th>\n",
       "      <td>-0.358426</td>\n",
       "      <td>0</td>\n",
       "      <td>0</td>\n",
       "      <td>0</td>\n",
       "      <td>1</td>\n",
       "      <td>0</td>\n",
       "      <td>0</td>\n",
       "      <td>0</td>\n",
       "      <td>0</td>\n",
       "      <td>0</td>\n",
       "      <td>0</td>\n",
       "      <td>0</td>\n",
       "      <td>0</td>\n",
       "      <td>0</td>\n",
       "      <td>0</td>\n",
       "      <td>0</td>\n",
       "      <td>0</td>\n",
       "      <td>0</td>\n",
       "      <td>0</td>\n",
       "      <td>0</td>\n",
       "    </tr>\n",
       "    <tr>\n",
       "      <th>5</th>\n",
       "      <td>-0.358426</td>\n",
       "      <td>0</td>\n",
       "      <td>0</td>\n",
       "      <td>0</td>\n",
       "      <td>0</td>\n",
       "      <td>0</td>\n",
       "      <td>0</td>\n",
       "      <td>0</td>\n",
       "      <td>0</td>\n",
       "      <td>1</td>\n",
       "      <td>0</td>\n",
       "      <td>0</td>\n",
       "      <td>0</td>\n",
       "      <td>0</td>\n",
       "      <td>0</td>\n",
       "      <td>0</td>\n",
       "      <td>0</td>\n",
       "      <td>0</td>\n",
       "      <td>0</td>\n",
       "      <td>0</td>\n",
       "    </tr>\n",
       "    <tr>\n",
       "      <th>6</th>\n",
       "      <td>-0.358426</td>\n",
       "      <td>0</td>\n",
       "      <td>0</td>\n",
       "      <td>0</td>\n",
       "      <td>1</td>\n",
       "      <td>0</td>\n",
       "      <td>0</td>\n",
       "      <td>0</td>\n",
       "      <td>0</td>\n",
       "      <td>0</td>\n",
       "      <td>0</td>\n",
       "      <td>0</td>\n",
       "      <td>0</td>\n",
       "      <td>0</td>\n",
       "      <td>0</td>\n",
       "      <td>0</td>\n",
       "      <td>0</td>\n",
       "      <td>0</td>\n",
       "      <td>0</td>\n",
       "      <td>0</td>\n",
       "    </tr>\n",
       "    <tr>\n",
       "      <th>...</th>\n",
       "      <td>...</td>\n",
       "      <td>...</td>\n",
       "      <td>...</td>\n",
       "      <td>...</td>\n",
       "      <td>...</td>\n",
       "      <td>...</td>\n",
       "      <td>...</td>\n",
       "      <td>...</td>\n",
       "      <td>...</td>\n",
       "      <td>...</td>\n",
       "      <td>...</td>\n",
       "      <td>...</td>\n",
       "      <td>...</td>\n",
       "      <td>...</td>\n",
       "      <td>...</td>\n",
       "      <td>...</td>\n",
       "      <td>...</td>\n",
       "      <td>...</td>\n",
       "      <td>...</td>\n",
       "      <td>...</td>\n",
       "    </tr>\n",
       "    <tr>\n",
       "      <th>995</th>\n",
       "      <td>1.455967</td>\n",
       "      <td>0</td>\n",
       "      <td>0</td>\n",
       "      <td>0</td>\n",
       "      <td>1</td>\n",
       "      <td>0</td>\n",
       "      <td>0</td>\n",
       "      <td>0</td>\n",
       "      <td>0</td>\n",
       "      <td>0</td>\n",
       "      <td>0</td>\n",
       "      <td>0</td>\n",
       "      <td>0</td>\n",
       "      <td>0</td>\n",
       "      <td>0</td>\n",
       "      <td>0</td>\n",
       "      <td>0</td>\n",
       "      <td>0</td>\n",
       "      <td>0</td>\n",
       "      <td>0</td>\n",
       "    </tr>\n",
       "    <tr>\n",
       "      <th>996</th>\n",
       "      <td>1.455967</td>\n",
       "      <td>0</td>\n",
       "      <td>0</td>\n",
       "      <td>0</td>\n",
       "      <td>0</td>\n",
       "      <td>0</td>\n",
       "      <td>0</td>\n",
       "      <td>0</td>\n",
       "      <td>0</td>\n",
       "      <td>0</td>\n",
       "      <td>1</td>\n",
       "      <td>0</td>\n",
       "      <td>0</td>\n",
       "      <td>0</td>\n",
       "      <td>0</td>\n",
       "      <td>0</td>\n",
       "      <td>0</td>\n",
       "      <td>0</td>\n",
       "      <td>0</td>\n",
       "      <td>0</td>\n",
       "    </tr>\n",
       "    <tr>\n",
       "      <th>997</th>\n",
       "      <td>-0.358426</td>\n",
       "      <td>0</td>\n",
       "      <td>0</td>\n",
       "      <td>0</td>\n",
       "      <td>1</td>\n",
       "      <td>0</td>\n",
       "      <td>0</td>\n",
       "      <td>0</td>\n",
       "      <td>0</td>\n",
       "      <td>0</td>\n",
       "      <td>0</td>\n",
       "      <td>0</td>\n",
       "      <td>0</td>\n",
       "      <td>0</td>\n",
       "      <td>0</td>\n",
       "      <td>0</td>\n",
       "      <td>0</td>\n",
       "      <td>0</td>\n",
       "      <td>0</td>\n",
       "      <td>0</td>\n",
       "    </tr>\n",
       "    <tr>\n",
       "      <th>998</th>\n",
       "      <td>-0.358426</td>\n",
       "      <td>0</td>\n",
       "      <td>0</td>\n",
       "      <td>1</td>\n",
       "      <td>0</td>\n",
       "      <td>0</td>\n",
       "      <td>0</td>\n",
       "      <td>0</td>\n",
       "      <td>0</td>\n",
       "      <td>0</td>\n",
       "      <td>0</td>\n",
       "      <td>0</td>\n",
       "      <td>0</td>\n",
       "      <td>0</td>\n",
       "      <td>0</td>\n",
       "      <td>0</td>\n",
       "      <td>0</td>\n",
       "      <td>0</td>\n",
       "      <td>0</td>\n",
       "      <td>0</td>\n",
       "    </tr>\n",
       "    <tr>\n",
       "      <th>999</th>\n",
       "      <td>-0.358426</td>\n",
       "      <td>0</td>\n",
       "      <td>0</td>\n",
       "      <td>0</td>\n",
       "      <td>0</td>\n",
       "      <td>0</td>\n",
       "      <td>0</td>\n",
       "      <td>0</td>\n",
       "      <td>0</td>\n",
       "      <td>0</td>\n",
       "      <td>0</td>\n",
       "      <td>0</td>\n",
       "      <td>0</td>\n",
       "      <td>0</td>\n",
       "      <td>0</td>\n",
       "      <td>0</td>\n",
       "      <td>0</td>\n",
       "      <td>0</td>\n",
       "      <td>0</td>\n",
       "      <td>1</td>\n",
       "    </tr>\n",
       "  </tbody>\n",
       "</table>\n",
       "<p>579 rows × 20 columns</p>\n",
       "</div>"
      ],
      "text/plain": [
       "     std_CONTRACT_DURATION  PRODUCT_CODE_API_DEV_AN  PRODUCT_CODE_API_PGC1_AN  \\\n",
       "2                -0.358426                        0                         0   \n",
       "3                -0.358426                        0                         0   \n",
       "4                -0.358426                        0                         0   \n",
       "5                -0.358426                        0                         0   \n",
       "6                -0.358426                        0                         0   \n",
       "..                     ...                      ...                       ...   \n",
       "995               1.455967                        0                         0   \n",
       "996               1.455967                        0                         0   \n",
       "997              -0.358426                        0                         0   \n",
       "998              -0.358426                        0                         0   \n",
       "999              -0.358426                        0                         0   \n",
       "\n",
       "     PRODUCT_CODE_SS_550_AN_P2  PRODUCT_CODE_SS_5K_AN_P2  \\\n",
       "2                            0                         0   \n",
       "3                            0                         1   \n",
       "4                            0                         1   \n",
       "5                            0                         0   \n",
       "6                            0                         1   \n",
       "..                         ...                       ...   \n",
       "995                          0                         1   \n",
       "996                          0                         0   \n",
       "997                          0                         1   \n",
       "998                          1                         0   \n",
       "999                          0                         0   \n",
       "\n",
       "     PRODUCT_CODE_SS_ASL1.1_AN  PRODUCT_CODE_SS_ASL2.1_AN  \\\n",
       "2                            0                          0   \n",
       "3                            0                          0   \n",
       "4                            0                          0   \n",
       "5                            0                          0   \n",
       "6                            0                          0   \n",
       "..                         ...                        ...   \n",
       "995                          0                          0   \n",
       "996                          0                          0   \n",
       "997                          0                          0   \n",
       "998                          0                          0   \n",
       "999                          0                          0   \n",
       "\n",
       "     PRODUCT_CODE_SS_ASL3.1_AN  PRODUCT_CODE_SS_ASL4.1_AN  \\\n",
       "2                            0                          0   \n",
       "3                            0                          0   \n",
       "4                            0                          0   \n",
       "5                            0                          0   \n",
       "6                            0                          0   \n",
       "..                         ...                        ...   \n",
       "995                          0                          0   \n",
       "996                          0                          0   \n",
       "997                          0                          0   \n",
       "998                          0                          0   \n",
       "999                          0                          0   \n",
       "\n",
       "     PRODUCT_CODE_SS_EC_T0  PRODUCT_CODE_SS_INF_AN_P2  PRODUCT_CODE_SS_INF_EN  \\\n",
       "2                        0                          1                       0   \n",
       "3                        0                          0                       0   \n",
       "4                        0                          0                       0   \n",
       "5                        1                          0                       0   \n",
       "6                        0                          0                       0   \n",
       "..                     ...                        ...                     ...   \n",
       "995                      0                          0                       0   \n",
       "996                      0                          1                       0   \n",
       "997                      0                          0                       0   \n",
       "998                      0                          0                       0   \n",
       "999                      0                          0                       0   \n",
       "\n",
       "     PRODUCT_CODE_SS_RFI_AN  PRODUCT_CODE_SS_SSO1_AN  PRODUCT_CODE_SS_SSO2_AN  \\\n",
       "2                         0                        0                        0   \n",
       "3                         0                        0                        0   \n",
       "4                         0                        0                        0   \n",
       "5                         0                        0                        0   \n",
       "6                         0                        0                        0   \n",
       "..                      ...                      ...                      ...   \n",
       "995                       0                        0                        0   \n",
       "996                       0                        0                        0   \n",
       "997                       0                        0                        0   \n",
       "998                       0                        0                        0   \n",
       "999                       0                        0                        0   \n",
       "\n",
       "     PRODUCT_CODE_SS_SUBM1_AN  PRODUCT_CODE_SS_SUBM2_AN  \\\n",
       "2                           0                         0   \n",
       "3                           0                         0   \n",
       "4                           0                         0   \n",
       "5                           0                         0   \n",
       "6                           0                         0   \n",
       "..                        ...                       ...   \n",
       "995                         0                         0   \n",
       "996                         0                         0   \n",
       "997                         0                         0   \n",
       "998                         0                         0   \n",
       "999                         0                         0   \n",
       "\n",
       "     PRODUCT_CODE_SS_SUBM3.1_AN  PRODUCT_CODE_SS_SUBM3_AN  \\\n",
       "2                             0                         0   \n",
       "3                             0                         0   \n",
       "4                             0                         0   \n",
       "5                             0                         0   \n",
       "6                             0                         0   \n",
       "..                          ...                       ...   \n",
       "995                           0                         0   \n",
       "996                           0                         0   \n",
       "997                           0                         0   \n",
       "998                           0                         0   \n",
       "999                           0                         0   \n",
       "\n",
       "     PRODUCT_CODE_SS_WORK_AN  \n",
       "2                          0  \n",
       "3                          0  \n",
       "4                          0  \n",
       "5                          0  \n",
       "6                          0  \n",
       "..                       ...  \n",
       "995                        0  \n",
       "996                        0  \n",
       "997                        0  \n",
       "998                        0  \n",
       "999                        1  \n",
       "\n",
       "[579 rows x 20 columns]"
      ]
     },
     "execution_count": 241,
     "metadata": {},
     "output_type": "execute_result"
    }
   ],
   "source": [
    "train.iloc[:, 11:]"
   ]
  },
  {
   "cell_type": "code",
   "execution_count": 106,
   "metadata": {},
   "outputs": [
    {
     "data": {
      "text/plain": [
       "False"
      ]
     },
     "execution_count": 106,
     "metadata": {},
     "output_type": "execute_result"
    }
   ],
   "source": [
    "pd.isnull(X_train).sum() > 0"
   ]
  },
  {
   "cell_type": "code",
   "execution_count": 107,
   "metadata": {},
   "outputs": [
    {
     "data": {
      "text/plain": [
       "False"
      ]
     },
     "execution_count": 107,
     "metadata": {},
     "output_type": "execute_result"
    }
   ],
   "source": [
    "pd.isnull(y_train).sum() > 0"
   ]
  },
  {
   "cell_type": "markdown",
   "metadata": {},
   "source": [
    "## Part three: Modeling and Prediction\n",
    "\n",
    "\n"
   ]
  },
  {
   "cell_type": "markdown",
   "metadata": {},
   "source": [
    " **1. Simple Logistic Regression**"
   ]
  },
  {
   "cell_type": "code",
   "execution_count": 108,
   "metadata": {},
   "outputs": [],
   "source": [
    "# Train on the training data with logistic regression\n",
    "log_reg = LogisticRegression(solver='liblinear', C=10.0, random_state=0)\n",
    "log_reg.fit(X_train, y_train)\n",
    "y_pred=log_reg.predict(X_test)"
   ]
  },
  {
   "cell_type": "code",
   "execution_count": 109,
   "metadata": {},
   "outputs": [
    {
     "data": {
      "text/plain": [
       "array([0, 1])"
      ]
     },
     "execution_count": 109,
     "metadata": {},
     "output_type": "execute_result"
    }
   ],
   "source": [
    "log_reg .classes_"
   ]
  },
  {
   "cell_type": "code",
   "execution_count": 110,
   "metadata": {
    "scrolled": true
   },
   "outputs": [
    {
     "data": {
      "text/plain": [
       "array([[ 1.13160518e+00,  2.15481052e+00,  5.91728732e-02,\n",
       "         5.81517275e-02,  9.56078392e-02, -1.02422226e-01,\n",
       "         1.40529289e+00,  5.81517275e-02,  5.81517275e-02,\n",
       "         0.00000000e+00,  9.50823430e-01, -4.47238427e-02,\n",
       "        -3.09147091e+00,  1.67395829e+00,  1.02722252e-03,\n",
       "         5.81517275e-02,  3.86743624e-01,  5.81517275e-02,\n",
       "         5.81517275e-02,  0.00000000e+00,  5.88954375e-01]])"
      ]
     },
     "execution_count": 110,
     "metadata": {},
     "output_type": "execute_result"
    }
   ],
   "source": [
    "log_reg .coef_"
   ]
  },
  {
   "cell_type": "code",
   "execution_count": 111,
   "metadata": {},
   "outputs": [],
   "source": [
    "# Make predictions\n",
    "# In the test, the first column is the probability of the target being 0 and the second column is the probability of the target being 1 .\n",
    "# Making sure to select the second column only.\n",
    "y_pred = log_reg.predict(X_test)\n",
    "log_reg_pred = log_reg.predict_proba(X_test)[:, 1]"
   ]
  },
  {
   "cell_type": "code",
   "execution_count": 112,
   "metadata": {},
   "outputs": [
    {
     "name": "stdout",
     "output_type": "stream",
     "text": [
      "1.0\n",
      "              precision    recall  f1-score   support\n",
      "\n",
      "           0       0.00      0.00      0.00        31\n",
      "           1       0.84      0.99      0.91       161\n",
      "\n",
      "    accuracy                           0.83       192\n",
      "   macro avg       0.42      0.50      0.45       192\n",
      "weighted avg       0.70      0.83      0.76       192\n",
      "\n"
     ]
    }
   ],
   "source": [
    "# Looking at the performance of the model to measure  the model's relevance.\n",
    "score_ = log_reg.score(X_test, y_pred)\n",
    "report = classification_report(y_test, y_pred)\n",
    "print(score_)\n",
    "print(report)"
   ]
  },
  {
   "cell_type": "code",
   "execution_count": 113,
   "metadata": {},
   "outputs": [
    {
     "data": {
      "text/plain": [
       "array([[  0,  31],\n",
       "       [  1, 160]], dtype=int64)"
      ]
     },
     "execution_count": 113,
     "metadata": {},
     "output_type": "execute_result"
    }
   ],
   "source": [
    "# Confision matrix to look at performance of the learning algorithm.\n",
    "from sklearn import metrics\n",
    "cnf_matrix = metrics.confusion_matrix(y_test, y_pred)\n",
    "cnf_matrix"
   ]
  },
  {
   "cell_type": "code",
   "execution_count": 114,
   "metadata": {},
   "outputs": [
    {
     "data": {
      "text/plain": [
       "Text(0.5, 257.44, 'Predicted label')"
      ]
     },
     "execution_count": 114,
     "metadata": {},
     "output_type": "execute_result"
    },
    {
     "data": {
      "image/png": "[encoded data removed]",
      "text/plain": [
       "<Figure size 432x288 with 2 Axes>"
      ]
     },
     "metadata": {
      "needs_background": "light"
     },
     "output_type": "display_data"
    }
   ],
   "source": [
    "# Ploting Confision matrix \n",
    "%matplotlib inline\n",
    "class_names=[0,1]\n",
    "fig, ax = plt.subplots()\n",
    "tick_marks = np.arange(len(class_names))\n",
    "plt.xticks(tick_marks, class_names)\n",
    "plt.yticks(tick_marks, class_names)\n",
    "# create heatmap\n",
    "sns.heatmap(pd.DataFrame(cnf_matrix), annot=True, cmap=\"YlGnBu\" ,fmt='g')\n",
    "ax.xaxis.set_label_position(\"top\")\n",
    "plt.tight_layout()\n",
    "plt.title('Confusion matrix', y=1.1)\n",
    "plt.ylabel('Actual label')\n",
    "plt.xlabel('Predicted label')"
   ]
  },
  {
   "cell_type": "code",
   "execution_count": 115,
   "metadata": {},
   "outputs": [
    {
     "data": {
      "text/plain": [
       "(array([1, 1, 1, 1, 1, 1, 1, 1, 1, 1, 1, 1, 1, 1, 1, 1, 1, 1, 1, 1, 1, 1,\n",
       "        1, 1, 1, 1, 1, 1, 1, 1, 1, 1, 1, 1, 1, 1, 1, 1, 1, 1, 1, 1, 1, 1,\n",
       "        1, 1, 1, 1, 1, 1, 1, 1, 1, 1, 1, 1, 1, 1, 1, 1, 1, 1, 1, 1, 1, 1,\n",
       "        1, 1, 1, 1, 1, 1, 1, 1, 1, 1, 1, 1, 1, 1, 1, 1, 1, 1, 1, 1, 1, 1,\n",
       "        1, 1, 1, 1, 1, 1, 1, 1, 1, 1, 1, 1, 1, 1, 1, 1, 1, 1, 1, 0, 1, 1,\n",
       "        1, 1, 1, 1, 1, 1, 1, 1, 1, 1, 1, 1, 1, 1, 1, 1, 1, 1, 1, 1, 1, 1,\n",
       "        1, 1, 1, 1, 1, 1, 1, 1, 1, 1, 1, 1, 1, 1, 1, 1, 1, 1, 1, 1, 1, 1,\n",
       "        1, 1, 1, 1, 1, 1, 1, 1, 1, 1, 1, 1, 1, 1, 1, 1, 1, 1, 1, 1, 1, 1,\n",
       "        1, 1, 1, 1, 1, 1, 1, 1, 1, 1, 1, 1, 1, 1, 1, 1]),\n",
       " array([0.79521762, 0.75631174, 0.80375887, 0.821158  , 0.99989332,\n",
       "        0.89974478, 0.78123802, 0.91387837, 0.8939522 , 0.7455211 ,\n",
       "        0.75631174, 0.79521762, 0.7455211 , 0.78123802, 0.7455211 ,\n",
       "        0.7996136 , 0.7455211 , 0.7455211 , 0.77598329, 0.79521762,\n",
       "        0.7455211 , 0.83313147, 0.84445516, 0.75631174, 0.8166371 ,\n",
       "        0.85398972, 0.7455211 , 0.79521762, 0.821158  , 0.94449022,\n",
       "        0.77598329, 0.80852284, 0.79020851, 0.92407144, 0.7455211 ,\n",
       "        0.76108513, 0.99993129, 0.97309155, 0.9999159 , 0.99987053,\n",
       "        0.85398972, 0.79521762, 0.79521762, 0.87468956, 0.75631174,\n",
       "        0.7455211 , 0.78123802, 0.99582187, 0.7455211 , 0.87468956,\n",
       "        0.99848745, 0.7455211 , 0.75631174, 0.76108513, 0.85398972,\n",
       "        0.77141816, 0.91798087, 0.75631174, 0.7455211 , 0.77598329,\n",
       "        0.78585328, 0.85398972, 0.75631174, 0.99990189, 0.99835549,\n",
       "        0.99992598, 0.97948987, 0.89360556, 0.85398972, 0.99995215,\n",
       "        0.77494733, 0.83313147, 0.7455211 , 0.7455211 , 0.99338756,\n",
       "        0.99995215, 0.83313147, 0.7455211 , 0.86521562, 0.77598329,\n",
       "        0.7455211 , 0.88358717, 0.93170973, 0.85398972, 0.93502321,\n",
       "        0.78123802, 0.80375887, 0.99989652, 0.821158  , 0.85132671,\n",
       "        0.77141816, 0.85398972, 0.84445516, 0.99358217, 0.89360556,\n",
       "        0.78585328, 0.78123802, 0.85398972, 0.80375887, 0.89360556,\n",
       "        0.7455211 , 0.78585328, 0.99743629, 0.99761884, 0.85398972,\n",
       "        0.79521762, 0.85398972, 0.26100066, 0.7455211 , 0.94538306,\n",
       "        0.76108513, 0.99991951, 0.86521562, 0.86521562, 0.89360556,\n",
       "        0.9998993 , 0.78123802, 0.7455211 , 0.89360556, 0.7455211 ,\n",
       "        0.99600082, 0.89360556, 0.78123802, 0.89360556, 0.78123802,\n",
       "        0.78123802, 0.99988748, 0.88041458, 0.99996963, 0.7455211 ,\n",
       "        0.89360556, 0.85514403, 0.85132671, 0.89360556, 0.78123802,\n",
       "        0.75631174, 0.8889573 , 0.78123802, 0.83313147, 0.7455211 ,\n",
       "        0.89360556, 0.85398972, 0.76108513, 0.90705241, 0.7455211 ,\n",
       "        0.78123802, 0.82885016, 0.99761884, 0.86162076, 0.79020851,\n",
       "        0.82885016, 0.75631174, 0.77598329, 0.89360556, 0.76108513,\n",
       "        0.92618292, 0.99995215, 0.85398972, 0.7455211 , 0.7455211 ,\n",
       "        0.99986284, 0.86162076, 0.78123802, 0.84040873, 0.77141816,\n",
       "        0.89360556, 0.85398972, 0.77141816, 0.50216909, 0.77598329,\n",
       "        0.7455211 , 0.78123802, 0.7455211 , 0.78123802, 0.85398972,\n",
       "        0.7455211 , 0.77598329, 0.9998905 , 0.84445516, 0.85398972,\n",
       "        0.85398972, 0.77141816, 0.9915143 , 1.        , 0.86521562,\n",
       "        0.99992369, 0.77598329, 0.79521762, 0.89461966, 0.89193108,\n",
       "        0.98911618, 0.90705241]))"
      ]
     },
     "execution_count": 115,
     "metadata": {},
     "output_type": "execute_result"
    }
   ],
   "source": [
    "# Predicting the 04/21/2020-04/30/2020 renewals likelihood.\n",
    "y_pred,log_reg_pred"
   ]
  },
  {
   "cell_type": "code",
   "execution_count": 116,
   "metadata": {},
   "outputs": [
    {
     "name": "stdout",
     "output_type": "stream",
     "text": [
      "Cross-Validation Accuracy Scores [0.84615385 0.84615385 0.82051282 0.84615385 0.84615385 0.84615385\n",
      " 0.84615385 0.84210526 0.84210526 0.84210526]\n"
     ]
    }
   ],
   "source": [
    "from sklearn.model_selection import cross_val_score\n",
    "scores = cross_val_score(log_reg, X_train,y_train, cv=10)\n",
    "print('Cross-Validation Accuracy Scores', scores)\n"
   ]
  },
  {
   "cell_type": "code",
   "execution_count": 117,
   "metadata": {},
   "outputs": [
    {
     "data": {
      "text/plain": [
       "(0.8205128205128205, 0.8423751686909581, 0.8461538461538461)"
      ]
     },
     "execution_count": 117,
     "metadata": {},
     "output_type": "execute_result"
    }
   ],
   "source": [
    "# Evaliating the model\n",
    "# We can then see the range of how our scores are\n",
    "scores = pd.Series(scores)\n",
    "scores.min(), scores.mean(), scores.max()"
   ]
  },
  {
   "cell_type": "markdown",
   "metadata": {},
   "source": [
    "#### 2. Imporoving the model via using grid search\n",
    "**Tuning hyperparameters via grid search like regulariation parameters.**"
   ]
  },
  {
   "cell_type": "code",
   "execution_count": 118,
   "metadata": {},
   "outputs": [
    {
     "name": "stdout",
     "output_type": "stream",
     "text": [
      "Best Score: 0.8406882591093118\n",
      "Best Hyperparameters: {'C': 10, 'penalty': 'l1', 'solver': 'liblinear'}\n"
     ]
    }
   ],
   "source": [
    "# grid search for finding best parameters for the model\n",
    "model = LogisticRegression()\n",
    "# define evaluation\n",
    "cv = RepeatedStratifiedKFold(n_splits=10, n_repeats=3, random_state=1)\n",
    "# define search space\n",
    "space = dict()\n",
    "space['solver'] = ['newton-cg', 'lbfgs', 'liblinear']\n",
    "space['penalty'] = ['l1', 'l2', 'elasticnet']\n",
    "space['C'] = [1e-5, 1e-4, 1e-3, 1e-2, 1e-1, 1, 10, 100]\n",
    "# define search\n",
    "search = GridSearchCV(model, space, scoring='accuracy', n_jobs=-1, cv=cv)\n",
    "# execute search\n",
    "result = search.fit(X_train, y_train)\n",
    "# summarize result\n",
    "print('Best Score: %s' % result.best_score_)\n",
    "print('Best Hyperparameters: %s' % result.best_params_)"
   ]
  },
  {
   "cell_type": "code",
   "execution_count": 119,
   "metadata": {},
   "outputs": [
    {
     "data": {
      "text/plain": [
       "LogisticRegression(C=10, penalty='l1', solver='liblinear')"
      ]
     },
     "execution_count": 119,
     "metadata": {},
     "output_type": "execute_result"
    }
   ],
   "source": [
    "clf = search.best_estimator_\n",
    "clf"
   ]
  },
  {
   "cell_type": "code",
   "execution_count": 120,
   "metadata": {},
   "outputs": [
    {
     "name": "stdout",
     "output_type": "stream",
     "text": [
      "Test Accuracy: 0.828\n"
     ]
    }
   ],
   "source": [
    "# Fiting test set with the best parameters\n",
    "clf.fit(X_train,y_train)\n",
    "print('Test Accuracy: %.3f' % clf.score(X_test, y_test))"
   ]
  },
  {
   "cell_type": "code",
   "execution_count": 121,
   "metadata": {},
   "outputs": [],
   "source": [
    "y_pred = clf.predict(X_prediction)\n",
    "clf_pred = clf.predict_proba(X_prediction)[:, 1]"
   ]
  },
  {
   "cell_type": "code",
   "execution_count": 122,
   "metadata": {},
   "outputs": [
    {
     "name": "stdout",
     "output_type": "stream",
     "text": [
      "(419, 31)\n",
      "419\n"
     ]
    }
   ],
   "source": [
    "print(prediction.shape)\n",
    "print(clf_pred.size)"
   ]
  },
  {
   "cell_type": "markdown",
   "metadata": {},
   "source": [
    "# Part four: Improving the model\n",
    "**In this section, I will see if I can improve the predictions of the logistic regression model using an ensemble method, such as Random Forest, and adding a new feature to the model.**\n",
    "\n",
    "### Adding new feature to the model to improve the previous model.\n",
    "**The previous model's accuracy result with three features was around 83%. A new feature from the sample_event_history file will be added to the prediction model for improving the model. So, the sum of each EVENT_COUNT for each ACCOUNT_ID is calculated from sample_event_history and added to its ACCOUNT_ID in the sample_opps file. Also, ensemble models such as Random Forest, cross-validation will be used to make a better prediction.**"
   ]
  },
  {
   "cell_type": "code",
   "execution_count": 202,
   "metadata": {},
   "outputs": [
    {
     "data": {
      "text/html": [
       "<div>\n",
       "<style scoped>\n",
       "    .dataframe tbody tr th:only-of-type {\n",
       "        vertical-align: middle;\n",
       "    }\n",
       "\n",
       "    .dataframe tbody tr th {\n",
       "        vertical-align: top;\n",
       "    }\n",
       "\n",
       "    .dataframe thead th {\n",
       "        text-align: right;\n",
       "    }\n",
       "</style>\n",
       "<table border=\"1\" class=\"dataframe\">\n",
       "  <thead>\n",
       "    <tr style=\"text-align: right;\">\n",
       "      <th></th>\n",
       "      <th>ACCOUNT_ID</th>\n",
       "      <th>OPPORTUNITY_ID</th>\n",
       "      <th>RENEWAL_DATE_C</th>\n",
       "      <th>PRODUCT_CODE</th>\n",
       "      <th>NAME</th>\n",
       "      <th>QUANTITY</th>\n",
       "      <th>START_DATE_C</th>\n",
       "      <th>END_DATE_C</th>\n",
       "      <th>IS_WON</th>\n",
       "      <th>EVENT_COUNT</th>\n",
       "    </tr>\n",
       "  </thead>\n",
       "  <tbody>\n",
       "    <tr>\n",
       "      <th>0</th>\n",
       "      <td>acc1</td>\n",
       "      <td>opp1</td>\n",
       "      <td>4/23/2020</td>\n",
       "      <td>SS_550_AN_P2</td>\n",
       "      <td>PlanGrid (Nailgun - 550 Sheets)</td>\n",
       "      <td>4</td>\n",
       "      <td>4/24/2020</td>\n",
       "      <td>4/23/2021</td>\n",
       "      <td>NaN</td>\n",
       "      <td>712.0</td>\n",
       "    </tr>\n",
       "    <tr>\n",
       "      <th>1</th>\n",
       "      <td>acc1</td>\n",
       "      <td>opp1</td>\n",
       "      <td>4/23/2020</td>\n",
       "      <td>SS_5K_AN_P2</td>\n",
       "      <td>PlanGrid (Dozer - 5000 Sheets)</td>\n",
       "      <td>2</td>\n",
       "      <td>4/24/2020</td>\n",
       "      <td>4/23/2021</td>\n",
       "      <td>NaN</td>\n",
       "      <td>712.0</td>\n",
       "    </tr>\n",
       "    <tr>\n",
       "      <th>2</th>\n",
       "      <td>acc2</td>\n",
       "      <td>opp2</td>\n",
       "      <td>4/16/2020</td>\n",
       "      <td>SS_INF_AN_P2</td>\n",
       "      <td>PlanGrid (Crane - Infinite Sheets)</td>\n",
       "      <td>1</td>\n",
       "      <td>4/17/2020</td>\n",
       "      <td>4/16/2021</td>\n",
       "      <td>True</td>\n",
       "      <td>129883.0</td>\n",
       "    </tr>\n",
       "  </tbody>\n",
       "</table>\n",
       "</div>"
      ],
      "text/plain": [
       "  ACCOUNT_ID OPPORTUNITY_ID RENEWAL_DATE_C  PRODUCT_CODE  \\\n",
       "0       acc1           opp1      4/23/2020  SS_550_AN_P2   \n",
       "1       acc1           opp1      4/23/2020   SS_5K_AN_P2   \n",
       "2       acc2           opp2      4/16/2020  SS_INF_AN_P2   \n",
       "\n",
       "                                 NAME  QUANTITY START_DATE_C END_DATE_C  \\\n",
       "0     PlanGrid (Nailgun - 550 Sheets)         4    4/24/2020  4/23/2021   \n",
       "1      PlanGrid (Dozer - 5000 Sheets)         2    4/24/2020  4/23/2021   \n",
       "2  PlanGrid (Crane - Infinite Sheets)         1    4/17/2020  4/16/2021   \n",
       "\n",
       "  IS_WON  EVENT_COUNT  \n",
       "0    NaN        712.0  \n",
       "1    NaN        712.0  \n",
       "2   True     129883.0  "
      ]
     },
     "execution_count": 202,
     "metadata": {},
     "output_type": "execute_result"
    }
   ],
   "source": [
    "# Reading the sample_opps file, which EVENT_COUNT for each account is added to it. \n",
    "# The process of adding EVENT_COUNT has been done by SQL queries.\n",
    "pd.set_option('display.max_colwidth',100)\n",
    "df_opps = pd.read_csv(\"new_sample_opps.csv\") \n",
    "df_opps.head(3)"
   ]
  },
  {
   "cell_type": "code",
   "execution_count": 203,
   "metadata": {},
   "outputs": [
    {
     "data": {
      "text/plain": [
       "array([[<AxesSubplot:title={'center':'EVENT_COUNT'}>]], dtype=object)"
      ]
     },
     "execution_count": 203,
     "metadata": {},
     "output_type": "execute_result"
    },
    {
     "data": {
      "image/png": "[encoded data removed]",
      "text/plain": [
       "<Figure size 432x288 with 1 Axes>"
      ]
     },
     "metadata": {
      "needs_background": "light"
     },
     "output_type": "display_data"
    }
   ],
   "source": [
    "df_opps.hist(column='EVENT_COUNT')"
   ]
  },
  {
   "cell_type": "code",
   "execution_count": 204,
   "metadata": {},
   "outputs": [
    {
     "data": {
      "text/plain": [
       "0       6.568078\n",
       "1       6.568078\n",
       "2      11.774389\n",
       "3      11.774389\n",
       "4       8.238008\n",
       "         ...    \n",
       "995    13.131496\n",
       "996    13.131496\n",
       "997    13.536497\n",
       "998    13.536497\n",
       "999    13.536497\n",
       "Name: log_EVENT_COUNT, Length: 1000, dtype: float64"
      ]
     },
     "execution_count": 204,
     "metadata": {},
     "output_type": "execute_result"
    }
   ],
   "source": [
    "# Event_count is skewed so we will log transform it\n",
    "# Since using log gives better results than using Standard Scalar for normalization, log of EVENT_COUNT is used.\n",
    "df_opps['log_EVENT_COUNT'] = pd.DataFrame(np.log(df_opps['EVENT_COUNT']))\n",
    "df_opps['log_EVENT_COUNT']"
   ]
  },
  {
   "cell_type": "code",
   "execution_count": 205,
   "metadata": {},
   "outputs": [
    {
     "data": {
      "text/plain": [
       "array([[<AxesSubplot:title={'center':'log_EVENT_COUNT'}>]], dtype=object)"
      ]
     },
     "execution_count": 205,
     "metadata": {},
     "output_type": "execute_result"
    },
    {
     "data": {
      "image/png": "[encoded data removed]",
      "text/plain": [
       "<Figure size 432x288 with 1 Axes>"
      ]
     },
     "metadata": {
      "needs_background": "light"
     },
     "output_type": "display_data"
    }
   ],
   "source": [
    "df_opps.hist(column='log_EVENT_COUNT')"
   ]
  },
  {
   "cell_type": "code",
   "execution_count": 206,
   "metadata": {},
   "outputs": [
    {
     "data": {
      "text/html": [
       "<div>\n",
       "<style scoped>\n",
       "    .dataframe tbody tr th:only-of-type {\n",
       "        vertical-align: middle;\n",
       "    }\n",
       "\n",
       "    .dataframe tbody tr th {\n",
       "        vertical-align: top;\n",
       "    }\n",
       "\n",
       "    .dataframe thead th {\n",
       "        text-align: right;\n",
       "    }\n",
       "</style>\n",
       "<table border=\"1\" class=\"dataframe\">\n",
       "  <thead>\n",
       "    <tr style=\"text-align: right;\">\n",
       "      <th></th>\n",
       "      <th>ACCOUNT_ID</th>\n",
       "      <th>OPPORTUNITY_ID</th>\n",
       "      <th>RENEWAL_DATE_C</th>\n",
       "      <th>PRODUCT_CODE</th>\n",
       "      <th>NAME</th>\n",
       "      <th>QUANTITY</th>\n",
       "      <th>START_DATE_C</th>\n",
       "      <th>END_DATE_C</th>\n",
       "      <th>IS_WON</th>\n",
       "      <th>EVENT_COUNT</th>\n",
       "      <th>log_EVENT_COUNT</th>\n",
       "    </tr>\n",
       "  </thead>\n",
       "  <tbody>\n",
       "    <tr>\n",
       "      <th>0</th>\n",
       "      <td>acc1</td>\n",
       "      <td>opp1</td>\n",
       "      <td>4/23/2020</td>\n",
       "      <td>SS_550_AN_P2</td>\n",
       "      <td>PlanGrid (Nailgun - 550 Sheets)</td>\n",
       "      <td>4</td>\n",
       "      <td>4/24/2020</td>\n",
       "      <td>4/23/2021</td>\n",
       "      <td>NaN</td>\n",
       "      <td>712.0</td>\n",
       "      <td>6.568078</td>\n",
       "    </tr>\n",
       "    <tr>\n",
       "      <th>1</th>\n",
       "      <td>acc1</td>\n",
       "      <td>opp1</td>\n",
       "      <td>4/23/2020</td>\n",
       "      <td>SS_5K_AN_P2</td>\n",
       "      <td>PlanGrid (Dozer - 5000 Sheets)</td>\n",
       "      <td>2</td>\n",
       "      <td>4/24/2020</td>\n",
       "      <td>4/23/2021</td>\n",
       "      <td>NaN</td>\n",
       "      <td>712.0</td>\n",
       "      <td>6.568078</td>\n",
       "    </tr>\n",
       "    <tr>\n",
       "      <th>2</th>\n",
       "      <td>acc2</td>\n",
       "      <td>opp2</td>\n",
       "      <td>4/16/2020</td>\n",
       "      <td>SS_INF_AN_P2</td>\n",
       "      <td>PlanGrid (Crane - Infinite Sheets)</td>\n",
       "      <td>1</td>\n",
       "      <td>4/17/2020</td>\n",
       "      <td>4/16/2021</td>\n",
       "      <td>True</td>\n",
       "      <td>129883.0</td>\n",
       "      <td>11.774389</td>\n",
       "    </tr>\n",
       "  </tbody>\n",
       "</table>\n",
       "</div>"
      ],
      "text/plain": [
       "  ACCOUNT_ID OPPORTUNITY_ID RENEWAL_DATE_C  PRODUCT_CODE  \\\n",
       "0       acc1           opp1      4/23/2020  SS_550_AN_P2   \n",
       "1       acc1           opp1      4/23/2020   SS_5K_AN_P2   \n",
       "2       acc2           opp2      4/16/2020  SS_INF_AN_P2   \n",
       "\n",
       "                                 NAME  QUANTITY START_DATE_C END_DATE_C  \\\n",
       "0     PlanGrid (Nailgun - 550 Sheets)         4    4/24/2020  4/23/2021   \n",
       "1      PlanGrid (Dozer - 5000 Sheets)         2    4/24/2020  4/23/2021   \n",
       "2  PlanGrid (Crane - Infinite Sheets)         1    4/17/2020  4/16/2021   \n",
       "\n",
       "  IS_WON  EVENT_COUNT  log_EVENT_COUNT  \n",
       "0    NaN        712.0         6.568078  \n",
       "1    NaN        712.0         6.568078  \n",
       "2   True     129883.0        11.774389  "
      ]
     },
     "execution_count": 206,
     "metadata": {},
     "output_type": "execute_result"
    }
   ],
   "source": [
    "df_opps.head(3)"
   ]
  },
  {
   "cell_type": "markdown",
   "metadata": {},
   "source": [
    "**Data preparation like the previous model**"
   ]
  },
  {
   "cell_type": "code",
   "execution_count": 207,
   "metadata": {},
   "outputs": [
    {
     "name": "stdout",
     "output_type": "stream",
     "text": [
      "Sample opps data shape:  (1000, 11)\n"
     ]
    }
   ],
   "source": [
    "print('Sample opps data shape: ', df_opps.shape)"
   ]
  },
  {
   "cell_type": "code",
   "execution_count": 208,
   "metadata": {},
   "outputs": [],
   "source": [
    "# This Function calculate missing values by columns\n",
    "def missing_values_table(df):\n",
    "        # Total missing values\n",
    "        mis_val = df.isnull().sum()\n",
    "        # Percentage of missing values\n",
    "        mis_val_percent = 100 * df.isnull().sum() / len(df)\n",
    "        # Make a table with the results\n",
    "        mis_val_table = pd.concat([mis_val, mis_val_percent], axis=1)\n",
    "        # Rename the columns\n",
    "        mis_val_table_ren_columns = mis_val_table.rename(\n",
    "        columns = {0 : 'Missing Values', 1 : '% of Total Values'})\n",
    "        # Sort the table by percentage of missing descending\n",
    "        mis_val_table_ren_columns = mis_val_table_ren_columns[\n",
    "            mis_val_table_ren_columns.iloc[:,1] != 0].sort_values(\n",
    "        '% of Total Values', ascending=False).round(1)\n",
    "        # Print some summary information\n",
    "        print (\"Your selected dataframe has \" + str(df.shape[1]) + \" columns.\\n\"      \n",
    "            \"There are \" + str(mis_val_table_ren_columns.shape[0]) +\n",
    "              \" columns that have missing values.\")\n",
    "        # Return the dataframe with missing information\n",
    "        return mis_val_table_ren_columns"
   ]
  },
  {
   "cell_type": "code",
   "execution_count": 209,
   "metadata": {},
   "outputs": [
    {
     "name": "stdout",
     "output_type": "stream",
     "text": [
      "Your selected dataframe has 11 columns.\n",
      "There are 5 columns that have missing values.\n"
     ]
    },
    {
     "data": {
      "text/html": [
       "<div>\n",
       "<style scoped>\n",
       "    .dataframe tbody tr th:only-of-type {\n",
       "        vertical-align: middle;\n",
       "    }\n",
       "\n",
       "    .dataframe tbody tr th {\n",
       "        vertical-align: top;\n",
       "    }\n",
       "\n",
       "    .dataframe thead th {\n",
       "        text-align: right;\n",
       "    }\n",
       "</style>\n",
       "<table border=\"1\" class=\"dataframe\">\n",
       "  <thead>\n",
       "    <tr style=\"text-align: right;\">\n",
       "      <th></th>\n",
       "      <th>Missing Values</th>\n",
       "      <th>% of Total Values</th>\n",
       "    </tr>\n",
       "  </thead>\n",
       "  <tbody>\n",
       "    <tr>\n",
       "      <th>IS_WON</th>\n",
       "      <td>420</td>\n",
       "      <td>42.0</td>\n",
       "    </tr>\n",
       "    <tr>\n",
       "      <th>EVENT_COUNT</th>\n",
       "      <td>44</td>\n",
       "      <td>4.4</td>\n",
       "    </tr>\n",
       "    <tr>\n",
       "      <th>log_EVENT_COUNT</th>\n",
       "      <td>44</td>\n",
       "      <td>4.4</td>\n",
       "    </tr>\n",
       "    <tr>\n",
       "      <th>START_DATE_C</th>\n",
       "      <td>2</td>\n",
       "      <td>0.2</td>\n",
       "    </tr>\n",
       "    <tr>\n",
       "      <th>END_DATE_C</th>\n",
       "      <td>2</td>\n",
       "      <td>0.2</td>\n",
       "    </tr>\n",
       "  </tbody>\n",
       "</table>\n",
       "</div>"
      ],
      "text/plain": [
       "                 Missing Values  % of Total Values\n",
       "IS_WON                      420               42.0\n",
       "EVENT_COUNT                  44                4.4\n",
       "log_EVENT_COUNT              44                4.4\n",
       "START_DATE_C                  2                0.2\n",
       "END_DATE_C                    2                0.2"
      ]
     },
     "execution_count": 209,
     "metadata": {},
     "output_type": "execute_result"
    }
   ],
   "source": [
    "# looking for missing values statistics\n",
    "missing_values = missing_values_table(df_opps)\n",
    "missing_values.head(20)"
   ]
  },
  {
   "cell_type": "markdown",
   "metadata": {},
   "source": [
    "**The sample_event_history file contains 496 unique ACCOUNT_ID.\n",
    "The sample_opps contains 527 unique ACCOUNT_ID which 492 of them are in sample_event_history.\n",
    "So, when Sum of EVENT_COUNT for each account is added to sample_opps, just 492 ACCOUNT_ID is updated with the Sum of EVENT_COUNT.\n",
    "Since the number of rows that do not have EVENT_COUNT is 44, they could be removed or filled with data.**"
   ]
  },
  {
   "cell_type": "code",
   "execution_count": 210,
   "metadata": {},
   "outputs": [
    {
     "name": "stdout",
     "output_type": "stream",
     "text": [
      "<class 'pandas.core.frame.DataFrame'>\n",
      "Int64Index: 954 entries, 0 to 999\n",
      "Data columns (total 11 columns):\n",
      " #   Column           Non-Null Count  Dtype  \n",
      "---  ------           --------------  -----  \n",
      " 0   ACCOUNT_ID       954 non-null    object \n",
      " 1   OPPORTUNITY_ID   954 non-null    object \n",
      " 2   RENEWAL_DATE_C   954 non-null    object \n",
      " 3   PRODUCT_CODE     954 non-null    object \n",
      " 4   NAME             954 non-null    object \n",
      " 5   QUANTITY         954 non-null    int64  \n",
      " 6   START_DATE_C     954 non-null    object \n",
      " 7   END_DATE_C       954 non-null    object \n",
      " 8   IS_WON           552 non-null    object \n",
      " 9   EVENT_COUNT      954 non-null    float64\n",
      " 10  log_EVENT_COUNT  954 non-null    float64\n",
      "dtypes: float64(2), int64(1), object(8)\n",
      "memory usage: 89.4+ KB\n"
     ]
    }
   ],
   "source": [
    "# For addressing missing values, there are some solutions like filling in them (imputation).\n",
    "# Since the dataset just has two rows with null values; they can be removed.\n",
    "# Removing two rows with null values.('START_DATE_C','END_DATE_C')\n",
    "# Removing 44 rows with null values.('EVENT_COUNT')\n",
    "df_opps.dropna(subset=['START_DATE_C','END_DATE_C','EVENT_COUNT'],inplace=True)\n",
    "df_opps.info()"
   ]
  },
  {
   "cell_type": "code",
   "execution_count": 211,
   "metadata": {},
   "outputs": [],
   "source": [
    "# Converting date columns to DateTime because of two reasons:\n",
    "#1) splitting data to train/test set for prediction\n",
    "#2) Evaluating each contract's duration\n",
    "cols = ['RENEWAL_DATE_C','START_DATE_C','END_DATE_C']\n",
    "df_opps[cols] = df_opps[cols].apply(pd.to_datetime)"
   ]
  },
  {
   "cell_type": "code",
   "execution_count": 212,
   "metadata": {},
   "outputs": [
    {
     "name": "stdout",
     "output_type": "stream",
     "text": [
      "1094 days 00:00:00\n",
      "126 days 00:00:00\n"
     ]
    }
   ],
   "source": [
    "# Using contract durations as a feature in the training set\n",
    "df_opps['CONTRACT_DURATION'] = df_opps['END_DATE_C'].sub(df_opps['START_DATE_C'], axis=0)\n",
    "print(df_opps['CONTRACT_DURATION'].max())\n",
    "print(df_opps['CONTRACT_DURATION'].min())"
   ]
  },
  {
   "cell_type": "code",
   "execution_count": 213,
   "metadata": {},
   "outputs": [],
   "source": [
    "# Changing contract's duration to number for using in the prediction model\n",
    "df_opps['CONTRACT_DURATION'] = df_opps['CONTRACT_DURATION'].dt.days.astype(int)"
   ]
  },
  {
   "cell_type": "code",
   "execution_count": 214,
   "metadata": {},
   "outputs": [
    {
     "data": {
      "text/html": [
       "<div>\n",
       "<style scoped>\n",
       "    .dataframe tbody tr th:only-of-type {\n",
       "        vertical-align: middle;\n",
       "    }\n",
       "\n",
       "    .dataframe tbody tr th {\n",
       "        vertical-align: top;\n",
       "    }\n",
       "\n",
       "    .dataframe thead th {\n",
       "        text-align: right;\n",
       "    }\n",
       "</style>\n",
       "<table border=\"1\" class=\"dataframe\">\n",
       "  <thead>\n",
       "    <tr style=\"text-align: right;\">\n",
       "      <th></th>\n",
       "      <th>IS_WON</th>\n",
       "      <th>ACCOUNT_ID</th>\n",
       "      <th>OPPORTUNITY_ID</th>\n",
       "      <th>EVENT_COUNT</th>\n",
       "      <th>RENEWAL_DATE_C</th>\n",
       "      <th>START_DATE_C</th>\n",
       "      <th>END_DATE_C</th>\n",
       "      <th>NAME</th>\n",
       "      <th>PRODUCT_CODE</th>\n",
       "      <th>QUANTITY</th>\n",
       "      <th>CONTRACT_DURATION</th>\n",
       "      <th>log_EVENT_COUNT</th>\n",
       "    </tr>\n",
       "  </thead>\n",
       "  <tbody>\n",
       "    <tr>\n",
       "      <th>0</th>\n",
       "      <td>NaN</td>\n",
       "      <td>acc1</td>\n",
       "      <td>opp1</td>\n",
       "      <td>712.0</td>\n",
       "      <td>2020-04-23</td>\n",
       "      <td>2020-04-24</td>\n",
       "      <td>2021-04-23</td>\n",
       "      <td>PlanGrid (Nailgun - 550 Sheets)</td>\n",
       "      <td>SS_550_AN_P2</td>\n",
       "      <td>4</td>\n",
       "      <td>364</td>\n",
       "      <td>6.568078</td>\n",
       "    </tr>\n",
       "    <tr>\n",
       "      <th>1</th>\n",
       "      <td>NaN</td>\n",
       "      <td>acc1</td>\n",
       "      <td>opp1</td>\n",
       "      <td>712.0</td>\n",
       "      <td>2020-04-23</td>\n",
       "      <td>2020-04-24</td>\n",
       "      <td>2021-04-23</td>\n",
       "      <td>PlanGrid (Dozer - 5000 Sheets)</td>\n",
       "      <td>SS_5K_AN_P2</td>\n",
       "      <td>2</td>\n",
       "      <td>364</td>\n",
       "      <td>6.568078</td>\n",
       "    </tr>\n",
       "    <tr>\n",
       "      <th>2</th>\n",
       "      <td>True</td>\n",
       "      <td>acc2</td>\n",
       "      <td>opp2</td>\n",
       "      <td>129883.0</td>\n",
       "      <td>2020-04-16</td>\n",
       "      <td>2020-04-17</td>\n",
       "      <td>2021-04-16</td>\n",
       "      <td>PlanGrid (Crane - Infinite Sheets)</td>\n",
       "      <td>SS_INF_AN_P2</td>\n",
       "      <td>1</td>\n",
       "      <td>364</td>\n",
       "      <td>11.774389</td>\n",
       "    </tr>\n",
       "  </tbody>\n",
       "</table>\n",
       "</div>"
      ],
      "text/plain": [
       "  IS_WON ACCOUNT_ID OPPORTUNITY_ID  EVENT_COUNT RENEWAL_DATE_C START_DATE_C  \\\n",
       "0    NaN       acc1           opp1        712.0     2020-04-23   2020-04-24   \n",
       "1    NaN       acc1           opp1        712.0     2020-04-23   2020-04-24   \n",
       "2   True       acc2           opp2     129883.0     2020-04-16   2020-04-17   \n",
       "\n",
       "  END_DATE_C                                NAME  PRODUCT_CODE  QUANTITY  \\\n",
       "0 2021-04-23     PlanGrid (Nailgun - 550 Sheets)  SS_550_AN_P2         4   \n",
       "1 2021-04-23      PlanGrid (Dozer - 5000 Sheets)   SS_5K_AN_P2         2   \n",
       "2 2021-04-16  PlanGrid (Crane - Infinite Sheets)  SS_INF_AN_P2         1   \n",
       "\n",
       "   CONTRACT_DURATION  log_EVENT_COUNT  \n",
       "0                364         6.568078  \n",
       "1                364         6.568078  \n",
       "2                364        11.774389  "
      ]
     },
     "execution_count": 214,
     "metadata": {},
     "output_type": "execute_result"
    }
   ],
   "source": [
    "# Ordering columns\n",
    "column_names = ['IS_WON','ACCOUNT_ID', 'OPPORTUNITY_ID','EVENT_COUNT', 'RENEWAL_DATE_C','START_DATE_C','END_DATE_C','NAME','PRODUCT_CODE',\n",
    "       'QUANTITY', 'CONTRACT_DURATION','log_EVENT_COUNT']\n",
    "df_opps = df_opps.reindex(columns=column_names)\n",
    "df_opps.head(3)"
   ]
  },
  {
   "cell_type": "code",
   "execution_count": 215,
   "metadata": {},
   "outputs": [
    {
     "name": "stdout",
     "output_type": "stream",
     "text": [
      "['ACCOUNT_ID', 'OPPORTUNITY_ID', 'EVENT_COUNT', 'RENEWAL_DATE_C', 'START_DATE_C', 'END_DATE_C', 'NAME', 'PRODUCT_CODE', 'QUANTITY', 'CONTRACT_DURATION', 'log_EVENT_COUNT']\n"
     ]
    }
   ],
   "source": [
    "train_features = df_opps.drop(columns = ['IS_WON'])\n",
    "features = list(train_features.columns)\n",
    "print(features)"
   ]
  },
  {
   "cell_type": "code",
   "execution_count": 216,
   "metadata": {},
   "outputs": [
    {
     "name": "stdout",
     "output_type": "stream",
     "text": [
      "<class 'pandas.core.frame.DataFrame'>\n",
      "Int64Index: 954 entries, 0 to 999\n",
      "Data columns (total 12 columns):\n",
      " #   Column             Non-Null Count  Dtype         \n",
      "---  ------             --------------  -----         \n",
      " 0   IS_WON             552 non-null    object        \n",
      " 1   ACCOUNT_ID         954 non-null    object        \n",
      " 2   OPPORTUNITY_ID     954 non-null    object        \n",
      " 3   EVENT_COUNT        954 non-null    float64       \n",
      " 4   RENEWAL_DATE_C     954 non-null    datetime64[ns]\n",
      " 5   START_DATE_C       954 non-null    datetime64[ns]\n",
      " 6   END_DATE_C         954 non-null    datetime64[ns]\n",
      " 7   NAME               954 non-null    object        \n",
      " 8   PRODUCT_CODE       954 non-null    object        \n",
      " 9   QUANTITY           954 non-null    int64         \n",
      " 10  CONTRACT_DURATION  954 non-null    int32         \n",
      " 11  log_EVENT_COUNT    954 non-null    float64       \n",
      "dtypes: datetime64[ns](3), float64(2), int32(1), int64(1), object(5)\n",
      "memory usage: 93.2+ KB\n"
     ]
    }
   ],
   "source": [
    "df_opps.info()"
   ]
  },
  {
   "cell_type": "markdown",
   "metadata": {},
   "source": [
    "### **Feature scaling**"
   ]
  },
  {
   "cell_type": "code",
   "execution_count": 217,
   "metadata": {},
   "outputs": [],
   "source": [
    "# CONTRACT_DURATION and QUANTITY will be used in classification. So, they are normalized.\n",
    "sc_Q = StandardScaler()\n",
    "sc_D = StandardScaler()\n",
    "sc_E = StandardScaler()\n",
    "df_opps[['std_QUANTITY ']] = sc_Q.fit_transform(df_opps[['QUANTITY']])\n",
    "df_opps[['std_CONTRACT_DURATION']] = sc_D.fit_transform(df_opps[['CONTRACT_DURATION']])\n",
    "# df_opps[['EVENT_COUNT']] = sc_E.fit_transform(df_opps[['EVENT_COUNT']])\n",
    "# Since using log gives better results than using Standard Scalar for normalization, log of EVENT_CPOUNT is used.\n"
   ]
  },
  {
   "cell_type": "code",
   "execution_count": 218,
   "metadata": {},
   "outputs": [
    {
     "data": {
      "text/plain": [
       "IS_WON              2\n",
       "ACCOUNT_ID        492\n",
       "OPPORTUNITY_ID    501\n",
       "NAME               19\n",
       "PRODUCT_CODE       19\n",
       "dtype: int64"
      ]
     },
     "execution_count": 218,
     "metadata": {},
     "output_type": "execute_result"
    }
   ],
   "source": [
    "# Looking at the number of unique entries in each of the object (categorical) columns\n",
    "df_opps.select_dtypes('object').apply(pd.Series.nunique, axis = 0)\n",
    "# Most of the categorical variables have a relatively small number of unique entries."
   ]
  },
  {
   "cell_type": "markdown",
   "metadata": {},
   "source": [
    "### One-Hot Encoding"
   ]
  },
  {
   "cell_type": "code",
   "execution_count": 219,
   "metadata": {},
   "outputs": [
    {
     "data": {
      "text/html": [
       "<div>\n",
       "<style scoped>\n",
       "    .dataframe tbody tr th:only-of-type {\n",
       "        vertical-align: middle;\n",
       "    }\n",
       "\n",
       "    .dataframe tbody tr th {\n",
       "        vertical-align: top;\n",
       "    }\n",
       "\n",
       "    .dataframe thead th {\n",
       "        text-align: right;\n",
       "    }\n",
       "</style>\n",
       "<table border=\"1\" class=\"dataframe\">\n",
       "  <thead>\n",
       "    <tr style=\"text-align: right;\">\n",
       "      <th></th>\n",
       "      <th>IS_WON</th>\n",
       "      <th>ACCOUNT_ID</th>\n",
       "      <th>OPPORTUNITY_ID</th>\n",
       "      <th>EVENT_COUNT</th>\n",
       "      <th>RENEWAL_DATE_C</th>\n",
       "      <th>START_DATE_C</th>\n",
       "      <th>END_DATE_C</th>\n",
       "      <th>NAME</th>\n",
       "      <th>PRODUCT_CODE</th>\n",
       "      <th>QUANTITY</th>\n",
       "      <th>...</th>\n",
       "      <th>PRODUCT_CODE_SS_INF_AN_P2</th>\n",
       "      <th>PRODUCT_CODE_SS_INF_EN</th>\n",
       "      <th>PRODUCT_CODE_SS_RFI_AN</th>\n",
       "      <th>PRODUCT_CODE_SS_SSO1_AN</th>\n",
       "      <th>PRODUCT_CODE_SS_SSO2_AN</th>\n",
       "      <th>PRODUCT_CODE_SS_SUBM1_AN</th>\n",
       "      <th>PRODUCT_CODE_SS_SUBM2_AN</th>\n",
       "      <th>PRODUCT_CODE_SS_SUBM3.1_AN</th>\n",
       "      <th>PRODUCT_CODE_SS_SUBM3_AN</th>\n",
       "      <th>PRODUCT_CODE_SS_WORK_AN</th>\n",
       "    </tr>\n",
       "  </thead>\n",
       "  <tbody>\n",
       "    <tr>\n",
       "      <th>0</th>\n",
       "      <td>NaN</td>\n",
       "      <td>acc1</td>\n",
       "      <td>opp1</td>\n",
       "      <td>712.0</td>\n",
       "      <td>2020-04-23</td>\n",
       "      <td>2020-04-24</td>\n",
       "      <td>2021-04-23</td>\n",
       "      <td>PlanGrid (Nailgun - 550 Sheets)</td>\n",
       "      <td>SS_550_AN_P2</td>\n",
       "      <td>4</td>\n",
       "      <td>...</td>\n",
       "      <td>0</td>\n",
       "      <td>0</td>\n",
       "      <td>0</td>\n",
       "      <td>0</td>\n",
       "      <td>0</td>\n",
       "      <td>0</td>\n",
       "      <td>0</td>\n",
       "      <td>0</td>\n",
       "      <td>0</td>\n",
       "      <td>0</td>\n",
       "    </tr>\n",
       "    <tr>\n",
       "      <th>1</th>\n",
       "      <td>NaN</td>\n",
       "      <td>acc1</td>\n",
       "      <td>opp1</td>\n",
       "      <td>712.0</td>\n",
       "      <td>2020-04-23</td>\n",
       "      <td>2020-04-24</td>\n",
       "      <td>2021-04-23</td>\n",
       "      <td>PlanGrid (Dozer - 5000 Sheets)</td>\n",
       "      <td>SS_5K_AN_P2</td>\n",
       "      <td>2</td>\n",
       "      <td>...</td>\n",
       "      <td>0</td>\n",
       "      <td>0</td>\n",
       "      <td>0</td>\n",
       "      <td>0</td>\n",
       "      <td>0</td>\n",
       "      <td>0</td>\n",
       "      <td>0</td>\n",
       "      <td>0</td>\n",
       "      <td>0</td>\n",
       "      <td>0</td>\n",
       "    </tr>\n",
       "  </tbody>\n",
       "</table>\n",
       "<p>2 rows × 33 columns</p>\n",
       "</div>"
      ],
      "text/plain": [
       "  IS_WON ACCOUNT_ID OPPORTUNITY_ID  EVENT_COUNT RENEWAL_DATE_C START_DATE_C  \\\n",
       "0    NaN       acc1           opp1        712.0     2020-04-23   2020-04-24   \n",
       "1    NaN       acc1           opp1        712.0     2020-04-23   2020-04-24   \n",
       "\n",
       "  END_DATE_C                             NAME  PRODUCT_CODE  QUANTITY  ...  \\\n",
       "0 2021-04-23  PlanGrid (Nailgun - 550 Sheets)  SS_550_AN_P2         4  ...   \n",
       "1 2021-04-23   PlanGrid (Dozer - 5000 Sheets)   SS_5K_AN_P2         2  ...   \n",
       "\n",
       "   PRODUCT_CODE_SS_INF_AN_P2  PRODUCT_CODE_SS_INF_EN  PRODUCT_CODE_SS_RFI_AN  \\\n",
       "0                          0                       0                       0   \n",
       "1                          0                       0                       0   \n",
       "\n",
       "   PRODUCT_CODE_SS_SSO1_AN  PRODUCT_CODE_SS_SSO2_AN  PRODUCT_CODE_SS_SUBM1_AN  \\\n",
       "0                        0                        0                         0   \n",
       "1                        0                        0                         0   \n",
       "\n",
       "   PRODUCT_CODE_SS_SUBM2_AN  PRODUCT_CODE_SS_SUBM3.1_AN  \\\n",
       "0                         0                           0   \n",
       "1                         0                           0   \n",
       "\n",
       "   PRODUCT_CODE_SS_SUBM3_AN  PRODUCT_CODE_SS_WORK_AN  \n",
       "0                         0                        0  \n",
       "1                         0                        0  \n",
       "\n",
       "[2 rows x 33 columns]"
      ]
     },
     "execution_count": 219,
     "metadata": {},
     "output_type": "execute_result"
    }
   ],
   "source": [
    "df_opps = pd.concat([df_opps, pd.get_dummies(df_opps['PRODUCT_CODE'], prefix='PRODUCT_CODE')], axis=1)\n",
    "df_opps.head(2)"
   ]
  },
  {
   "cell_type": "code",
   "execution_count": 220,
   "metadata": {},
   "outputs": [],
   "source": [
    "split_date ='2020-04-20'\n",
    "train = df_opps.loc[df_opps['RENEWAL_DATE_C'] <= split_date]\n",
    "prediction = df_opps.loc[df_opps['RENEWAL_DATE_C'] > split_date]"
   ]
  },
  {
   "cell_type": "code",
   "execution_count": 221,
   "metadata": {},
   "outputs": [
    {
     "name": "stdout",
     "output_type": "stream",
     "text": [
      "Training Features shape:  (552, 33)\n",
      "Prediction Features shape:  (402, 33)\n"
     ]
    }
   ],
   "source": [
    "print('Training Features shape: ', train.shape)\n",
    "print('Prediction Features shape: ', prediction.shape)"
   ]
  },
  {
   "cell_type": "markdown",
   "metadata": {},
   "source": [
    "### Label Encoding "
   ]
  },
  {
   "cell_type": "code",
   "execution_count": 222,
   "metadata": {},
   "outputs": [
    {
     "data": {
      "text/plain": [
       "2    1\n",
       "3    1\n",
       "4    1\n",
       "Name: IS_WON, dtype: int32"
      ]
     },
     "execution_count": 222,
     "metadata": {},
     "output_type": "execute_result"
    }
   ],
   "source": [
    "# Create a label encoder object for train/test set(IS_WON)\n",
    "# using 0 and 1 rather than True and False values for IS_WON\n",
    "le = LabelEncoder()\n",
    "train= train.dropna().copy()\n",
    "train['IS_WON'] = le.fit_transform(train['IS_WON'])   \n",
    "train['IS_WON'].head(3)"
   ]
  },
  {
   "cell_type": "code",
   "execution_count": 223,
   "metadata": {},
   "outputs": [],
   "source": [
    "from sklearn.model_selection import train_test_split\n",
    "X_train= train.iloc[:, 11:].values\n",
    "y_train = train.iloc[:, 0].values\n",
    "X_train, X_test, y_train, y_test = train_test_split( X_train, y_train, test_size=0.33, random_state=42)\n",
    "X_prediction= prediction.iloc[:, 11:].values"
   ]
  },
  {
   "cell_type": "code",
   "execution_count": 224,
   "metadata": {},
   "outputs": [
    {
     "data": {
      "text/html": [
       "<div>\n",
       "<style scoped>\n",
       "    .dataframe tbody tr th:only-of-type {\n",
       "        vertical-align: middle;\n",
       "    }\n",
       "\n",
       "    .dataframe tbody tr th {\n",
       "        vertical-align: top;\n",
       "    }\n",
       "\n",
       "    .dataframe thead th {\n",
       "        text-align: right;\n",
       "    }\n",
       "</style>\n",
       "<table border=\"1\" class=\"dataframe\">\n",
       "  <thead>\n",
       "    <tr style=\"text-align: right;\">\n",
       "      <th></th>\n",
       "      <th>log_EVENT_COUNT</th>\n",
       "      <th>std_QUANTITY</th>\n",
       "      <th>std_CONTRACT_DURATION</th>\n",
       "      <th>PRODUCT_CODE_API_DEV_AN</th>\n",
       "      <th>PRODUCT_CODE_API_PGC1_AN</th>\n",
       "      <th>PRODUCT_CODE_SS_550_AN_P2</th>\n",
       "      <th>PRODUCT_CODE_SS_5K_AN_P2</th>\n",
       "      <th>PRODUCT_CODE_SS_ASL1.1_AN</th>\n",
       "      <th>PRODUCT_CODE_SS_ASL2.1_AN</th>\n",
       "      <th>PRODUCT_CODE_SS_ASL3.1_AN</th>\n",
       "      <th>...</th>\n",
       "      <th>PRODUCT_CODE_SS_INF_AN_P2</th>\n",
       "      <th>PRODUCT_CODE_SS_INF_EN</th>\n",
       "      <th>PRODUCT_CODE_SS_RFI_AN</th>\n",
       "      <th>PRODUCT_CODE_SS_SSO1_AN</th>\n",
       "      <th>PRODUCT_CODE_SS_SSO2_AN</th>\n",
       "      <th>PRODUCT_CODE_SS_SUBM1_AN</th>\n",
       "      <th>PRODUCT_CODE_SS_SUBM2_AN</th>\n",
       "      <th>PRODUCT_CODE_SS_SUBM3.1_AN</th>\n",
       "      <th>PRODUCT_CODE_SS_SUBM3_AN</th>\n",
       "      <th>PRODUCT_CODE_SS_WORK_AN</th>\n",
       "    </tr>\n",
       "  </thead>\n",
       "  <tbody>\n",
       "    <tr>\n",
       "      <th>2</th>\n",
       "      <td>11.774389</td>\n",
       "      <td>-0.284110</td>\n",
       "      <td>-0.364094</td>\n",
       "      <td>0</td>\n",
       "      <td>0</td>\n",
       "      <td>0</td>\n",
       "      <td>0</td>\n",
       "      <td>0</td>\n",
       "      <td>0</td>\n",
       "      <td>0</td>\n",
       "      <td>...</td>\n",
       "      <td>1</td>\n",
       "      <td>0</td>\n",
       "      <td>0</td>\n",
       "      <td>0</td>\n",
       "      <td>0</td>\n",
       "      <td>0</td>\n",
       "      <td>0</td>\n",
       "      <td>0</td>\n",
       "      <td>0</td>\n",
       "      <td>0</td>\n",
       "    </tr>\n",
       "    <tr>\n",
       "      <th>3</th>\n",
       "      <td>11.774389</td>\n",
       "      <td>0.228393</td>\n",
       "      <td>-0.364094</td>\n",
       "      <td>0</td>\n",
       "      <td>0</td>\n",
       "      <td>0</td>\n",
       "      <td>1</td>\n",
       "      <td>0</td>\n",
       "      <td>0</td>\n",
       "      <td>0</td>\n",
       "      <td>...</td>\n",
       "      <td>0</td>\n",
       "      <td>0</td>\n",
       "      <td>0</td>\n",
       "      <td>0</td>\n",
       "      <td>0</td>\n",
       "      <td>0</td>\n",
       "      <td>0</td>\n",
       "      <td>0</td>\n",
       "      <td>0</td>\n",
       "      <td>0</td>\n",
       "    </tr>\n",
       "    <tr>\n",
       "      <th>4</th>\n",
       "      <td>8.238008</td>\n",
       "      <td>-0.137680</td>\n",
       "      <td>-0.364094</td>\n",
       "      <td>0</td>\n",
       "      <td>0</td>\n",
       "      <td>0</td>\n",
       "      <td>1</td>\n",
       "      <td>0</td>\n",
       "      <td>0</td>\n",
       "      <td>0</td>\n",
       "      <td>...</td>\n",
       "      <td>0</td>\n",
       "      <td>0</td>\n",
       "      <td>0</td>\n",
       "      <td>0</td>\n",
       "      <td>0</td>\n",
       "      <td>0</td>\n",
       "      <td>0</td>\n",
       "      <td>0</td>\n",
       "      <td>0</td>\n",
       "      <td>0</td>\n",
       "    </tr>\n",
       "    <tr>\n",
       "      <th>5</th>\n",
       "      <td>8.238008</td>\n",
       "      <td>-0.284110</td>\n",
       "      <td>-0.364094</td>\n",
       "      <td>0</td>\n",
       "      <td>0</td>\n",
       "      <td>0</td>\n",
       "      <td>0</td>\n",
       "      <td>0</td>\n",
       "      <td>0</td>\n",
       "      <td>0</td>\n",
       "      <td>...</td>\n",
       "      <td>0</td>\n",
       "      <td>0</td>\n",
       "      <td>0</td>\n",
       "      <td>0</td>\n",
       "      <td>0</td>\n",
       "      <td>0</td>\n",
       "      <td>0</td>\n",
       "      <td>0</td>\n",
       "      <td>0</td>\n",
       "      <td>0</td>\n",
       "    </tr>\n",
       "    <tr>\n",
       "      <th>6</th>\n",
       "      <td>10.566304</td>\n",
       "      <td>-0.064466</td>\n",
       "      <td>-0.364094</td>\n",
       "      <td>0</td>\n",
       "      <td>0</td>\n",
       "      <td>0</td>\n",
       "      <td>1</td>\n",
       "      <td>0</td>\n",
       "      <td>0</td>\n",
       "      <td>0</td>\n",
       "      <td>...</td>\n",
       "      <td>0</td>\n",
       "      <td>0</td>\n",
       "      <td>0</td>\n",
       "      <td>0</td>\n",
       "      <td>0</td>\n",
       "      <td>0</td>\n",
       "      <td>0</td>\n",
       "      <td>0</td>\n",
       "      <td>0</td>\n",
       "      <td>0</td>\n",
       "    </tr>\n",
       "    <tr>\n",
       "      <th>...</th>\n",
       "      <td>...</td>\n",
       "      <td>...</td>\n",
       "      <td>...</td>\n",
       "      <td>...</td>\n",
       "      <td>...</td>\n",
       "      <td>...</td>\n",
       "      <td>...</td>\n",
       "      <td>...</td>\n",
       "      <td>...</td>\n",
       "      <td>...</td>\n",
       "      <td>...</td>\n",
       "      <td>...</td>\n",
       "      <td>...</td>\n",
       "      <td>...</td>\n",
       "      <td>...</td>\n",
       "      <td>...</td>\n",
       "      <td>...</td>\n",
       "      <td>...</td>\n",
       "      <td>...</td>\n",
       "      <td>...</td>\n",
       "      <td>...</td>\n",
       "    </tr>\n",
       "    <tr>\n",
       "      <th>995</th>\n",
       "      <td>13.131496</td>\n",
       "      <td>0.960539</td>\n",
       "      <td>1.434219</td>\n",
       "      <td>0</td>\n",
       "      <td>0</td>\n",
       "      <td>0</td>\n",
       "      <td>1</td>\n",
       "      <td>0</td>\n",
       "      <td>0</td>\n",
       "      <td>0</td>\n",
       "      <td>...</td>\n",
       "      <td>0</td>\n",
       "      <td>0</td>\n",
       "      <td>0</td>\n",
       "      <td>0</td>\n",
       "      <td>0</td>\n",
       "      <td>0</td>\n",
       "      <td>0</td>\n",
       "      <td>0</td>\n",
       "      <td>0</td>\n",
       "      <td>0</td>\n",
       "    </tr>\n",
       "    <tr>\n",
       "      <th>996</th>\n",
       "      <td>13.131496</td>\n",
       "      <td>0.521251</td>\n",
       "      <td>1.434219</td>\n",
       "      <td>0</td>\n",
       "      <td>0</td>\n",
       "      <td>0</td>\n",
       "      <td>0</td>\n",
       "      <td>0</td>\n",
       "      <td>0</td>\n",
       "      <td>0</td>\n",
       "      <td>...</td>\n",
       "      <td>1</td>\n",
       "      <td>0</td>\n",
       "      <td>0</td>\n",
       "      <td>0</td>\n",
       "      <td>0</td>\n",
       "      <td>0</td>\n",
       "      <td>0</td>\n",
       "      <td>0</td>\n",
       "      <td>0</td>\n",
       "      <td>0</td>\n",
       "    </tr>\n",
       "    <tr>\n",
       "      <th>997</th>\n",
       "      <td>13.536497</td>\n",
       "      <td>0.081964</td>\n",
       "      <td>-0.364094</td>\n",
       "      <td>0</td>\n",
       "      <td>0</td>\n",
       "      <td>0</td>\n",
       "      <td>1</td>\n",
       "      <td>0</td>\n",
       "      <td>0</td>\n",
       "      <td>0</td>\n",
       "      <td>...</td>\n",
       "      <td>0</td>\n",
       "      <td>0</td>\n",
       "      <td>0</td>\n",
       "      <td>0</td>\n",
       "      <td>0</td>\n",
       "      <td>0</td>\n",
       "      <td>0</td>\n",
       "      <td>0</td>\n",
       "      <td>0</td>\n",
       "      <td>0</td>\n",
       "    </tr>\n",
       "    <tr>\n",
       "      <th>998</th>\n",
       "      <td>13.536497</td>\n",
       "      <td>-0.284110</td>\n",
       "      <td>-0.364094</td>\n",
       "      <td>0</td>\n",
       "      <td>0</td>\n",
       "      <td>1</td>\n",
       "      <td>0</td>\n",
       "      <td>0</td>\n",
       "      <td>0</td>\n",
       "      <td>0</td>\n",
       "      <td>...</td>\n",
       "      <td>0</td>\n",
       "      <td>0</td>\n",
       "      <td>0</td>\n",
       "      <td>0</td>\n",
       "      <td>0</td>\n",
       "      <td>0</td>\n",
       "      <td>0</td>\n",
       "      <td>0</td>\n",
       "      <td>0</td>\n",
       "      <td>0</td>\n",
       "    </tr>\n",
       "    <tr>\n",
       "      <th>999</th>\n",
       "      <td>13.536497</td>\n",
       "      <td>-0.284110</td>\n",
       "      <td>-0.364094</td>\n",
       "      <td>0</td>\n",
       "      <td>0</td>\n",
       "      <td>0</td>\n",
       "      <td>0</td>\n",
       "      <td>0</td>\n",
       "      <td>0</td>\n",
       "      <td>0</td>\n",
       "      <td>...</td>\n",
       "      <td>0</td>\n",
       "      <td>0</td>\n",
       "      <td>0</td>\n",
       "      <td>0</td>\n",
       "      <td>0</td>\n",
       "      <td>0</td>\n",
       "      <td>0</td>\n",
       "      <td>0</td>\n",
       "      <td>0</td>\n",
       "      <td>1</td>\n",
       "    </tr>\n",
       "  </tbody>\n",
       "</table>\n",
       "<p>552 rows × 22 columns</p>\n",
       "</div>"
      ],
      "text/plain": [
       "     log_EVENT_COUNT  std_QUANTITY   std_CONTRACT_DURATION  \\\n",
       "2          11.774389      -0.284110              -0.364094   \n",
       "3          11.774389       0.228393              -0.364094   \n",
       "4           8.238008      -0.137680              -0.364094   \n",
       "5           8.238008      -0.284110              -0.364094   \n",
       "6          10.566304      -0.064466              -0.364094   \n",
       "..               ...            ...                    ...   \n",
       "995        13.131496       0.960539               1.434219   \n",
       "996        13.131496       0.521251               1.434219   \n",
       "997        13.536497       0.081964              -0.364094   \n",
       "998        13.536497      -0.284110              -0.364094   \n",
       "999        13.536497      -0.284110              -0.364094   \n",
       "\n",
       "     PRODUCT_CODE_API_DEV_AN  PRODUCT_CODE_API_PGC1_AN  \\\n",
       "2                          0                         0   \n",
       "3                          0                         0   \n",
       "4                          0                         0   \n",
       "5                          0                         0   \n",
       "6                          0                         0   \n",
       "..                       ...                       ...   \n",
       "995                        0                         0   \n",
       "996                        0                         0   \n",
       "997                        0                         0   \n",
       "998                        0                         0   \n",
       "999                        0                         0   \n",
       "\n",
       "     PRODUCT_CODE_SS_550_AN_P2  PRODUCT_CODE_SS_5K_AN_P2  \\\n",
       "2                            0                         0   \n",
       "3                            0                         1   \n",
       "4                            0                         1   \n",
       "5                            0                         0   \n",
       "6                            0                         1   \n",
       "..                         ...                       ...   \n",
       "995                          0                         1   \n",
       "996                          0                         0   \n",
       "997                          0                         1   \n",
       "998                          1                         0   \n",
       "999                          0                         0   \n",
       "\n",
       "     PRODUCT_CODE_SS_ASL1.1_AN  PRODUCT_CODE_SS_ASL2.1_AN  \\\n",
       "2                            0                          0   \n",
       "3                            0                          0   \n",
       "4                            0                          0   \n",
       "5                            0                          0   \n",
       "6                            0                          0   \n",
       "..                         ...                        ...   \n",
       "995                          0                          0   \n",
       "996                          0                          0   \n",
       "997                          0                          0   \n",
       "998                          0                          0   \n",
       "999                          0                          0   \n",
       "\n",
       "     PRODUCT_CODE_SS_ASL3.1_AN  ...  PRODUCT_CODE_SS_INF_AN_P2  \\\n",
       "2                            0  ...                          1   \n",
       "3                            0  ...                          0   \n",
       "4                            0  ...                          0   \n",
       "5                            0  ...                          0   \n",
       "6                            0  ...                          0   \n",
       "..                         ...  ...                        ...   \n",
       "995                          0  ...                          0   \n",
       "996                          0  ...                          1   \n",
       "997                          0  ...                          0   \n",
       "998                          0  ...                          0   \n",
       "999                          0  ...                          0   \n",
       "\n",
       "     PRODUCT_CODE_SS_INF_EN  PRODUCT_CODE_SS_RFI_AN  PRODUCT_CODE_SS_SSO1_AN  \\\n",
       "2                         0                       0                        0   \n",
       "3                         0                       0                        0   \n",
       "4                         0                       0                        0   \n",
       "5                         0                       0                        0   \n",
       "6                         0                       0                        0   \n",
       "..                      ...                     ...                      ...   \n",
       "995                       0                       0                        0   \n",
       "996                       0                       0                        0   \n",
       "997                       0                       0                        0   \n",
       "998                       0                       0                        0   \n",
       "999                       0                       0                        0   \n",
       "\n",
       "     PRODUCT_CODE_SS_SSO2_AN  PRODUCT_CODE_SS_SUBM1_AN  \\\n",
       "2                          0                         0   \n",
       "3                          0                         0   \n",
       "4                          0                         0   \n",
       "5                          0                         0   \n",
       "6                          0                         0   \n",
       "..                       ...                       ...   \n",
       "995                        0                         0   \n",
       "996                        0                         0   \n",
       "997                        0                         0   \n",
       "998                        0                         0   \n",
       "999                        0                         0   \n",
       "\n",
       "     PRODUCT_CODE_SS_SUBM2_AN  PRODUCT_CODE_SS_SUBM3.1_AN  \\\n",
       "2                           0                           0   \n",
       "3                           0                           0   \n",
       "4                           0                           0   \n",
       "5                           0                           0   \n",
       "6                           0                           0   \n",
       "..                        ...                         ...   \n",
       "995                         0                           0   \n",
       "996                         0                           0   \n",
       "997                         0                           0   \n",
       "998                         0                           0   \n",
       "999                         0                           0   \n",
       "\n",
       "     PRODUCT_CODE_SS_SUBM3_AN  PRODUCT_CODE_SS_WORK_AN  \n",
       "2                           0                        0  \n",
       "3                           0                        0  \n",
       "4                           0                        0  \n",
       "5                           0                        0  \n",
       "6                           0                        0  \n",
       "..                        ...                      ...  \n",
       "995                         0                        0  \n",
       "996                         0                        0  \n",
       "997                         0                        0  \n",
       "998                         0                        0  \n",
       "999                         0                        1  \n",
       "\n",
       "[552 rows x 22 columns]"
      ]
     },
     "execution_count": 224,
     "metadata": {},
     "output_type": "execute_result"
    }
   ],
   "source": [
    "train.iloc[:, 11:]"
   ]
  },
  {
   "cell_type": "code",
   "execution_count": 225,
   "metadata": {},
   "outputs": [
    {
     "name": "stdout",
     "output_type": "stream",
     "text": [
      "{'n_estimators': [200, 400, 600, 800, 1000, 1200, 1400, 1600, 1800, 2000], 'max_features': ['auto', 'sqrt', 'log2'], 'max_depth': [10, 20, 30, 40, 50, 60, 70, 80, 90, 100, 110, None], 'min_samples_split': [2, 5, 10], 'min_samples_leaf': [1, 2, 4], 'bootstrap': [True, False]}\n",
      "Fitting 4 folds for each of 100 candidates, totalling 400 fits\n"
     ]
    },
    {
     "name": "stderr",
     "output_type": "stream",
     "text": [
      "[Parallel(n_jobs=-1)]: Using backend LokyBackend with 8 concurrent workers.\n",
      "[Parallel(n_jobs=-1)]: Done  25 tasks      | elapsed:   10.6s\n",
      "[Parallel(n_jobs=-1)]: Done 146 tasks      | elapsed:   32.8s\n",
      "[Parallel(n_jobs=-1)]: Done 349 tasks      | elapsed:  1.5min\n",
      "[Parallel(n_jobs=-1)]: Done 400 out of 400 | elapsed:  1.7min finished\n"
     ]
    },
    {
     "data": {
      "text/plain": [
       "RandomizedSearchCV(cv=4, estimator=RandomForestClassifier(), n_iter=100,\n",
       "                   n_jobs=-1,\n",
       "                   param_distributions={'bootstrap': [True, False],\n",
       "                                        'max_depth': [10, 20, 30, 40, 50, 60,\n",
       "                                                      70, 80, 90, 100, 110,\n",
       "                                                      None],\n",
       "                                        'max_features': ['auto', 'sqrt',\n",
       "                                                         'log2'],\n",
       "                                        'min_samples_leaf': [1, 2, 4],\n",
       "                                        'min_samples_split': [2, 5, 10],\n",
       "                                        'n_estimators': [200, 400, 600, 800,\n",
       "                                                         1000, 1200, 1400, 1600,\n",
       "                                                         1800, 2000]},\n",
       "                   random_state=0, verbose=2)"
      ]
     },
     "execution_count": 225,
     "metadata": {},
     "output_type": "execute_result"
    }
   ],
   "source": [
    "# Use the random grid to search for the best hyperparameters\n",
    "# Number of trees in random forest\n",
    "n_estimators = [int(x) for x in np.linspace(start = 200, stop = 2000, num = 10)]\n",
    "# Number of features to consider at every split\n",
    "max_features = ['auto', 'sqrt','log2']\n",
    "# Maximum number of levels in tree\n",
    "max_depth = [int(x) for x in np.linspace(10, 110, num = 11)]\n",
    "max_depth.append(None)\n",
    "# Minimum number of samples required to split a node\n",
    "min_samples_split = [2, 5, 10]\n",
    "# Minimum number of samples required at each leaf node\n",
    "min_samples_leaf = [1, 2, 4]\n",
    "# Method of selecting samples for training each tree\n",
    "bootstrap = [True, False]\n",
    "# Create the random grid\n",
    "random_grid = {'n_estimators': n_estimators,\n",
    "               'max_features': max_features,\n",
    "               'max_depth': max_depth,\n",
    "               'min_samples_split': min_samples_split,\n",
    "               'min_samples_leaf': min_samples_leaf,\n",
    "               'bootstrap': bootstrap}\n",
    "print(random_grid)\n",
    "\n",
    "# First create the base model to tune\n",
    "rf = RandomForestClassifier()\n",
    "# Random search of parameters, using 3 fold cross validation, \n",
    "# search across 100 different combinations, and use all available cores\n",
    "rf_random = RandomizedSearchCV(estimator = rf, param_distributions = random_grid, n_iter = 100, cv = 4, verbose=2, random_state=0, n_jobs = -1)\n",
    "# Fit the random search model\n",
    "rf_random.fit(X_train, y_train)"
   ]
  },
  {
   "cell_type": "code",
   "execution_count": 255,
   "metadata": {},
   "outputs": [
    {
     "data": {
      "text/plain": [
       "{'n_estimators': 600,\n",
       " 'min_samples_split': 10,\n",
       " 'min_samples_leaf': 1,\n",
       " 'max_features': 'auto',\n",
       " 'max_depth': 70,\n",
       " 'bootstrap': True}"
      ]
     },
     "execution_count": 255,
     "metadata": {},
     "output_type": "execute_result"
    }
   ],
   "source": [
    "rf_random.best_params_"
   ]
  },
  {
   "cell_type": "code",
   "execution_count": 256,
   "metadata": {},
   "outputs": [
    {
     "data": {
      "text/plain": [
       "RandomForestClassifier(max_depth=70, min_samples_split=10, n_estimators=600)"
      ]
     },
     "execution_count": 256,
     "metadata": {},
     "output_type": "execute_result"
    }
   ],
   "source": [
    "rf_r = rf_random.best_estimator_\n",
    "rf_r"
   ]
  },
  {
   "cell_type": "code",
   "execution_count": 257,
   "metadata": {},
   "outputs": [
    {
     "name": "stdout",
     "output_type": "stream",
     "text": [
      "Test Accuracy: 0.863\n"
     ]
    }
   ],
   "source": [
    "# Fiting with the best parameters\n",
    "rf_r.fit(X_train, y_train)\n",
    "y_pred=rf_r.predict(X_test)\n",
    "print('Test Accuracy: %.3f' % rf_r.score(X_test, y_test))"
   ]
  },
  {
   "cell_type": "code",
   "execution_count": 258,
   "metadata": {},
   "outputs": [],
   "source": [
    "y_pred = rf_r.predict_proba(X_prediction)[:,1]"
   ]
  },
  {
   "cell_type": "code",
   "execution_count": 260,
   "metadata": {},
   "outputs": [
    {
     "data": {
      "text/plain": [
       "array([[  7,  23],\n",
       "       [  2, 151]], dtype=int64)"
      ]
     },
     "execution_count": 260,
     "metadata": {},
     "output_type": "execute_result"
    }
   ],
   "source": [
    "from sklearn import metrics\n",
    "cnf_matrix = metrics.confusion_matrix(y_test, pred)\n",
    "cnf_matrix"
   ]
  },
  {
   "cell_type": "code",
   "execution_count": 261,
   "metadata": {},
   "outputs": [
    {
     "data": {
      "text/plain": [
       "Text(0.5, 257.44, 'Predicted label')"
      ]
     },
     "execution_count": 261,
     "metadata": {},
     "output_type": "execute_result"
    },
    {
     "data": {
      "image/png": "[encoded data removed]",
      "text/plain": [
       "<Figure size 432x288 with 2 Axes>"
      ]
     },
     "metadata": {
      "needs_background": "light"
     },
     "output_type": "display_data"
    }
   ],
   "source": [
    "# Ploting Confision matrix \n",
    "%matplotlib inline\n",
    "class_names=[0,1]\n",
    "fig, ax = plt.subplots()\n",
    "tick_marks = np.arange(len(class_names))\n",
    "plt.xticks(tick_marks, class_names)\n",
    "plt.yticks(tick_marks, class_names)\n",
    "# create heatmap\n",
    "sns.heatmap(pd.DataFrame(cnf_matrix), annot=True, cmap=\"YlGnBu\" ,fmt='g')\n",
    "ax.xaxis.set_label_position(\"top\")\n",
    "plt.tight_layout()\n",
    "plt.title('Confusion matrix', y=1.1)\n",
    "plt.ylabel('Actual label')\n",
    "plt.xlabel('Predicted label')"
   ]
  },
  {
   "cell_type": "code",
   "execution_count": 262,
   "metadata": {},
   "outputs": [
    {
     "data": {
      "text/plain": [
       "array([0.87449783, 0.85543076, 0.93476451, 0.99239815, 0.84851254,\n",
       "       0.93874536, 0.84604561, 0.9997619 , 0.97819028, 0.98893075,\n",
       "       0.87803102, 0.97901509, 0.93637892, 0.82646744, 0.96869241,\n",
       "       0.908137  , 0.97304584, 0.96638389, 0.84999514, 0.9631968 ,\n",
       "       0.99895588, 0.31230596, 0.99801874, 0.64478529, 0.95434252,\n",
       "       0.71333462, 0.9661936 , 0.99928922, 0.7191641 , 0.84588647,\n",
       "       0.68177835, 0.72892951, 0.99045339, 0.95851256, 0.29882749,\n",
       "       0.74762575, 0.968775  , 0.94889425, 0.98034803, 0.99306509,\n",
       "       0.89792109, 0.54270495, 0.99450307, 0.99009237, 0.98818759,\n",
       "       0.96991876, 0.98697654, 0.7498735 , 0.63030805, 0.98227924,\n",
       "       0.97380297, 0.8363677 , 0.91568115, 0.54043203, 0.93356624,\n",
       "       0.76310038, 0.7156641 , 0.95656586, 0.64478529, 0.92029581,\n",
       "       0.99140732, 0.88843069, 0.98832478, 0.992371  , 0.99611083,\n",
       "       0.86297896, 0.83496021, 0.9726287 , 0.72052879, 0.96596306,\n",
       "       0.96513536, 0.98430078, 0.85964563, 0.92121667, 0.2215404 ,\n",
       "       0.47574758, 0.99223342, 0.72458296, 0.83532338, 0.99342529,\n",
       "       0.99240107, 0.98129127, 0.8931405 , 0.9298953 , 0.87019323,\n",
       "       0.94730347, 0.93131014, 0.87823278, 0.7911311 , 0.98865751,\n",
       "       0.89439544, 0.97133894, 0.95800919, 0.31044431, 0.77341213,\n",
       "       0.99371433, 0.99299267, 0.83762674, 0.92112601, 0.50793597,\n",
       "       0.98691985, 0.99004782, 0.69766546, 0.87036946, 0.90297988,\n",
       "       0.75763533, 0.9050663 , 0.94893854, 0.99668567, 0.95739919,\n",
       "       0.993506  , 0.92902361, 0.86721883, 0.8447336 , 0.70612164,\n",
       "       0.64612788, 0.9992037 , 0.95789901, 0.98914363, 0.77761209,\n",
       "       0.99679114, 0.985329  , 0.76002829, 0.98914363, 0.7191641 ,\n",
       "       0.54235145, 0.64101304, 0.96463078, 0.99487191, 0.95929902,\n",
       "       0.96949783, 0.93509087, 0.98203473, 0.85134044, 0.75160638,\n",
       "       0.88729549, 0.8536721 , 0.99396268, 0.63113618, 0.93348352,\n",
       "       0.79810546, 0.2913174 , 0.97012098, 0.98237446, 0.81875634,\n",
       "       0.95800919, 0.95821569, 0.99353488, 0.89115909, 0.99849966,\n",
       "       0.29249597, 0.99859477, 0.99764833, 0.99224497, 0.98003996,\n",
       "       0.95394439, 0.86082145, 0.70594063, 0.99223342, 0.55065012,\n",
       "       0.63452986, 0.9522652 , 0.97126541, 0.99727996, 0.96572495,\n",
       "       0.98671307, 0.76278201, 0.89012912, 0.647094  , 0.82374925,\n",
       "       0.98519136, 0.9946854 , 0.68349316, 0.91666515, 0.89865187,\n",
       "       0.98237446, 0.64667733, 0.6545303 , 0.93152499, 0.99306156,\n",
       "       0.77130395, 0.97121617, 0.8447336 , 0.70469307, 0.81092704,\n",
       "       0.55811364, 0.42539278, 0.54935685, 0.63274994, 0.9722047 ,\n",
       "       0.98981103, 0.99065159, 0.97034306, 0.99925   , 0.97287704,\n",
       "       0.95520853, 0.89105588, 0.98689481, 0.88714581, 0.27596833,\n",
       "       0.99003695, 0.99194683, 0.85459845, 0.9868189 , 0.90801199,\n",
       "       0.92457745, 0.65663262, 0.67076982, 0.74778213, 0.69733355,\n",
       "       0.7191641 , 0.85459845, 0.89665893, 0.95332824, 0.82939716,\n",
       "       0.8155453 , 0.95710834, 0.99578946, 0.94166523, 0.91318273,\n",
       "       0.98064045, 0.89807967, 0.92003696, 0.96465404, 0.84588647,\n",
       "       0.85459845, 0.97294241, 0.89238909, 0.97971943, 0.87457695,\n",
       "       0.87530093, 0.99017885, 0.97356366, 0.87019323, 0.56251453,\n",
       "       0.97120748, 0.92066524, 0.97133894, 0.7665095 , 0.94491459,\n",
       "       0.98540476, 0.84588647, 0.88172886, 0.98095547, 0.75764916,\n",
       "       0.98109835, 0.99801874, 0.92066524, 0.99566125, 0.98818759,\n",
       "       0.90623705, 0.96475274, 0.98540476, 0.9296274 , 0.94580946,\n",
       "       0.5686996 , 0.98384921, 0.98540476, 0.94947503, 0.9544765 ,\n",
       "       0.98818759, 0.97775795, 0.99578946, 0.8447336 , 0.78474509,\n",
       "       0.99964164, 0.99720684, 0.92066524, 0.74290622, 0.99668567,\n",
       "       0.95125101, 0.63240654, 0.98818759, 0.71691606, 0.71691606,\n",
       "       0.79405763, 0.93706424, 0.75160638, 0.53587178, 0.39825073,\n",
       "       0.48486177, 0.66232943, 0.53628928, 0.56038472, 0.9992037 ,\n",
       "       0.87823278, 0.97703374, 0.9997619 , 0.9900464 , 0.99181292,\n",
       "       0.84629731, 0.9992037 , 0.99788068, 0.99054752, 0.72291629,\n",
       "       0.89067912, 0.92011672, 0.80299692, 0.98720437, 0.98692199,\n",
       "       0.98635154, 0.71567623, 0.99972222, 0.84884044, 0.84686098,\n",
       "       0.87767722, 0.98540476, 0.917017  , 0.95800919, 0.99169329,\n",
       "       0.99429652, 0.63616061, 0.81777782, 0.71455299, 0.94152495,\n",
       "       0.95839901, 0.93015166, 0.94144777, 0.95110584, 0.84589454,\n",
       "       0.97705676, 0.97901243, 0.9490876 , 0.87684389, 0.98899125,\n",
       "       0.9992037 , 0.88511022, 0.87368456, 0.63616061, 0.97859382,\n",
       "       0.98713603, 0.94735828, 0.87825382, 0.80929728, 0.27672206,\n",
       "       0.98214521, 0.974727  , 0.86859838, 0.82567528, 0.7485772 ,\n",
       "       0.96867693, 0.31635215, 0.58290167, 0.917017  , 0.87566   ,\n",
       "       0.99801874, 0.99500704, 0.84999514, 0.96475274, 0.56251453,\n",
       "       0.87403211, 0.94166523, 0.99578946, 0.87233404, 0.96593713,\n",
       "       0.59067944, 0.99032605, 0.99022094, 0.99149211, 0.7498735 ,\n",
       "       0.92213342, 0.993506  , 0.76967363, 0.97348133, 0.79339451,\n",
       "       0.98842862, 0.98305576, 0.94780332, 0.99399096, 0.88415203,\n",
       "       0.97201558, 0.97775795, 0.77600886, 0.92191089, 0.948834  ,\n",
       "       0.82335204, 0.72458296, 0.77341213, 0.87307574, 0.87684389,\n",
       "       0.99267763, 0.96040302, 0.97616144, 0.9992037 , 0.84776557,\n",
       "       0.86064257, 0.78021474, 0.26937465, 0.93678005, 0.86297896,\n",
       "       0.99809747, 0.99395042, 1.        , 0.9362123 , 0.99803175,\n",
       "       0.98624139, 0.99712932, 0.99045339, 0.95173735, 0.99062625,\n",
       "       0.91667198, 0.99833328])"
      ]
     },
     "execution_count": 262,
     "metadata": {},
     "output_type": "execute_result"
    }
   ],
   "source": [
    "y_pred "
   ]
  },
  {
   "cell_type": "code",
   "execution_count": 263,
   "metadata": {},
   "outputs": [
    {
     "name": "stdout",
     "output_type": "stream",
     "text": [
      "1.0\n",
      "              precision    recall  f1-score   support\n",
      "\n",
      "           0       0.78      0.23      0.36        30\n",
      "           1       0.87      0.99      0.92       153\n",
      "\n",
      "    accuracy                           0.86       183\n",
      "   macro avg       0.82      0.61      0.64       183\n",
      "weighted avg       0.85      0.86      0.83       183\n",
      "\n"
     ]
    }
   ],
   "source": [
    "score_ = rf_r.score(X_test, pred)\n",
    "report = classification_report(y_test, pred)\n",
    "print(score_)\n",
    "print(report)"
   ]
  },
  {
   "cell_type": "code",
   "execution_count": 264,
   "metadata": {},
   "outputs": [
    {
     "name": "stdout",
     "output_type": "stream",
     "text": [
      "Cross-Validation Accuracy Scores [0.83783784 0.89189189 0.86486486 0.91891892 0.89189189 0.86486486\n",
      " 0.94594595 0.83783784 0.83783784 0.91666667]\n"
     ]
    }
   ],
   "source": [
    "from sklearn.model_selection import cross_val_score\n",
    "scores = cross_val_score(rf_r, X_train, y_train, cv=10)\n",
    "print('Cross-Validation Accuracy Scores', scores)"
   ]
  },
  {
   "cell_type": "code",
   "execution_count": 265,
   "metadata": {},
   "outputs": [
    {
     "data": {
      "text/plain": [
       "(0.8378378378378378, 0.8808558558558557, 0.9459459459459459)"
      ]
     },
     "execution_count": 265,
     "metadata": {},
     "output_type": "execute_result"
    }
   ],
   "source": [
    "# We can then see the range of how our scores are doing\n",
    "scores = pd.Series(scores)\n",
    "scores.min(), scores.mean(), scores.max()"
   ]
  },
  {
   "cell_type": "code",
   "execution_count": 266,
   "metadata": {},
   "outputs": [
    {
     "data": {
      "text/html": [
       "<div>\n",
       "<style scoped>\n",
       "    .dataframe tbody tr th:only-of-type {\n",
       "        vertical-align: middle;\n",
       "    }\n",
       "\n",
       "    .dataframe tbody tr th {\n",
       "        vertical-align: top;\n",
       "    }\n",
       "\n",
       "    .dataframe thead th {\n",
       "        text-align: right;\n",
       "    }\n",
       "</style>\n",
       "<table border=\"1\" class=\"dataframe\">\n",
       "  <thead>\n",
       "    <tr style=\"text-align: right;\">\n",
       "      <th></th>\n",
       "      <th>IS_WON</th>\n",
       "      <th>ACCOUNT_ID</th>\n",
       "      <th>OPPORTUNITY_ID</th>\n",
       "      <th>EVENT_COUNT</th>\n",
       "      <th>RENEWAL_DATE_C</th>\n",
       "      <th>START_DATE_C</th>\n",
       "      <th>END_DATE_C</th>\n",
       "      <th>NAME</th>\n",
       "      <th>PRODUCT_CODE</th>\n",
       "      <th>QUANTITY</th>\n",
       "      <th>...</th>\n",
       "      <th>PRODUCT_CODE_SS_INF_EN</th>\n",
       "      <th>PRODUCT_CODE_SS_RFI_AN</th>\n",
       "      <th>PRODUCT_CODE_SS_SSO1_AN</th>\n",
       "      <th>PRODUCT_CODE_SS_SSO2_AN</th>\n",
       "      <th>PRODUCT_CODE_SS_SUBM1_AN</th>\n",
       "      <th>PRODUCT_CODE_SS_SUBM2_AN</th>\n",
       "      <th>PRODUCT_CODE_SS_SUBM3.1_AN</th>\n",
       "      <th>PRODUCT_CODE_SS_SUBM3_AN</th>\n",
       "      <th>PRODUCT_CODE_SS_WORK_AN</th>\n",
       "      <th>win_probability</th>\n",
       "    </tr>\n",
       "  </thead>\n",
       "  <tbody>\n",
       "    <tr>\n",
       "      <th>0</th>\n",
       "      <td>NaN</td>\n",
       "      <td>acc1</td>\n",
       "      <td>opp1</td>\n",
       "      <td>712.0</td>\n",
       "      <td>2020-04-23</td>\n",
       "      <td>2020-04-24</td>\n",
       "      <td>2021-04-23</td>\n",
       "      <td>PlanGrid (Nailgun - 550 Sheets)</td>\n",
       "      <td>SS_550_AN_P2</td>\n",
       "      <td>4</td>\n",
       "      <td>...</td>\n",
       "      <td>0</td>\n",
       "      <td>0</td>\n",
       "      <td>0</td>\n",
       "      <td>0</td>\n",
       "      <td>0</td>\n",
       "      <td>0</td>\n",
       "      <td>0</td>\n",
       "      <td>0</td>\n",
       "      <td>0</td>\n",
       "      <td>0.874498</td>\n",
       "    </tr>\n",
       "    <tr>\n",
       "      <th>1</th>\n",
       "      <td>NaN</td>\n",
       "      <td>acc1</td>\n",
       "      <td>opp1</td>\n",
       "      <td>712.0</td>\n",
       "      <td>2020-04-23</td>\n",
       "      <td>2020-04-24</td>\n",
       "      <td>2021-04-23</td>\n",
       "      <td>PlanGrid (Dozer - 5000 Sheets)</td>\n",
       "      <td>SS_5K_AN_P2</td>\n",
       "      <td>2</td>\n",
       "      <td>...</td>\n",
       "      <td>0</td>\n",
       "      <td>0</td>\n",
       "      <td>0</td>\n",
       "      <td>0</td>\n",
       "      <td>0</td>\n",
       "      <td>0</td>\n",
       "      <td>0</td>\n",
       "      <td>0</td>\n",
       "      <td>0</td>\n",
       "      <td>0.855431</td>\n",
       "    </tr>\n",
       "    <tr>\n",
       "      <th>20</th>\n",
       "      <td>NaN</td>\n",
       "      <td>acc9</td>\n",
       "      <td>opp9</td>\n",
       "      <td>88350.0</td>\n",
       "      <td>2020-04-25</td>\n",
       "      <td>2020-04-26</td>\n",
       "      <td>2021-04-25</td>\n",
       "      <td>PlanGrid (Nailgun - 550 Sheets)</td>\n",
       "      <td>SS_550_AN_P2</td>\n",
       "      <td>19</td>\n",
       "      <td>...</td>\n",
       "      <td>0</td>\n",
       "      <td>0</td>\n",
       "      <td>0</td>\n",
       "      <td>0</td>\n",
       "      <td>0</td>\n",
       "      <td>0</td>\n",
       "      <td>0</td>\n",
       "      <td>0</td>\n",
       "      <td>0</td>\n",
       "      <td>0.934765</td>\n",
       "    </tr>\n",
       "  </tbody>\n",
       "</table>\n",
       "<p>3 rows × 34 columns</p>\n",
       "</div>"
      ],
      "text/plain": [
       "   IS_WON ACCOUNT_ID OPPORTUNITY_ID  EVENT_COUNT RENEWAL_DATE_C START_DATE_C  \\\n",
       "0     NaN       acc1           opp1        712.0     2020-04-23   2020-04-24   \n",
       "1     NaN       acc1           opp1        712.0     2020-04-23   2020-04-24   \n",
       "20    NaN       acc9           opp9      88350.0     2020-04-25   2020-04-26   \n",
       "\n",
       "   END_DATE_C                             NAME  PRODUCT_CODE  QUANTITY  ...  \\\n",
       "0  2021-04-23  PlanGrid (Nailgun - 550 Sheets)  SS_550_AN_P2         4  ...   \n",
       "1  2021-04-23   PlanGrid (Dozer - 5000 Sheets)   SS_5K_AN_P2         2  ...   \n",
       "20 2021-04-25  PlanGrid (Nailgun - 550 Sheets)  SS_550_AN_P2        19  ...   \n",
       "\n",
       "    PRODUCT_CODE_SS_INF_EN  PRODUCT_CODE_SS_RFI_AN  PRODUCT_CODE_SS_SSO1_AN  \\\n",
       "0                        0                       0                        0   \n",
       "1                        0                       0                        0   \n",
       "20                       0                       0                        0   \n",
       "\n",
       "    PRODUCT_CODE_SS_SSO2_AN  PRODUCT_CODE_SS_SUBM1_AN  \\\n",
       "0                         0                         0   \n",
       "1                         0                         0   \n",
       "20                        0                         0   \n",
       "\n",
       "    PRODUCT_CODE_SS_SUBM2_AN  PRODUCT_CODE_SS_SUBM3.1_AN  \\\n",
       "0                          0                           0   \n",
       "1                          0                           0   \n",
       "20                         0                           0   \n",
       "\n",
       "    PRODUCT_CODE_SS_SUBM3_AN  PRODUCT_CODE_SS_WORK_AN  win_probability  \n",
       "0                          0                        0         0.874498  \n",
       "1                          0                        0         0.855431  \n",
       "20                         0                        0         0.934765  \n",
       "\n",
       "[3 rows x 34 columns]"
      ]
     },
     "execution_count": 266,
     "metadata": {},
     "output_type": "execute_result"
    }
   ],
   "source": [
    "df_test = pd.DataFrame(prediction)\n",
    "df_test['win_probability'] =  y_pred \n",
    "df_test.head(3)"
   ]
  },
  {
   "cell_type": "code",
   "execution_count": 267,
   "metadata": {},
   "outputs": [],
   "source": [
    "header = ['OPPORTUNITY_ID','RENEWAL_DATE_C','win_probability']\n",
    "df_test.to_csv('Jebeli_prediction.csv', columns = header, index=False)"
   ]
  },
  {
   "cell_type": "code",
   "execution_count": 268,
   "metadata": {},
   "outputs": [
    {
     "name": "stdout",
     "output_type": "stream",
     "text": [
      "Testing data shape:  (402, 3)\n"
     ]
    },
    {
     "data": {
      "text/html": [
       "<div>\n",
       "<style scoped>\n",
       "    .dataframe tbody tr th:only-of-type {\n",
       "        vertical-align: middle;\n",
       "    }\n",
       "\n",
       "    .dataframe tbody tr th {\n",
       "        vertical-align: top;\n",
       "    }\n",
       "\n",
       "    .dataframe thead th {\n",
       "        text-align: right;\n",
       "    }\n",
       "</style>\n",
       "<table border=\"1\" class=\"dataframe\">\n",
       "  <thead>\n",
       "    <tr style=\"text-align: right;\">\n",
       "      <th></th>\n",
       "      <th>OPPORTUNITY_ID</th>\n",
       "      <th>RENEWAL_DATE_C</th>\n",
       "      <th>win_probability</th>\n",
       "    </tr>\n",
       "  </thead>\n",
       "  <tbody>\n",
       "    <tr>\n",
       "      <th>0</th>\n",
       "      <td>opp1</td>\n",
       "      <td>2020-04-23</td>\n",
       "      <td>0.874498</td>\n",
       "    </tr>\n",
       "    <tr>\n",
       "      <th>1</th>\n",
       "      <td>opp1</td>\n",
       "      <td>2020-04-23</td>\n",
       "      <td>0.855431</td>\n",
       "    </tr>\n",
       "    <tr>\n",
       "      <th>2</th>\n",
       "      <td>opp9</td>\n",
       "      <td>2020-04-25</td>\n",
       "      <td>0.934765</td>\n",
       "    </tr>\n",
       "    <tr>\n",
       "      <th>3</th>\n",
       "      <td>opp9</td>\n",
       "      <td>2020-04-25</td>\n",
       "      <td>0.992398</td>\n",
       "    </tr>\n",
       "    <tr>\n",
       "      <th>4</th>\n",
       "      <td>opp9</td>\n",
       "      <td>2020-04-25</td>\n",
       "      <td>0.848513</td>\n",
       "    </tr>\n",
       "    <tr>\n",
       "      <th>5</th>\n",
       "      <td>opp10</td>\n",
       "      <td>2020-04-23</td>\n",
       "      <td>0.938745</td>\n",
       "    </tr>\n",
       "    <tr>\n",
       "      <th>6</th>\n",
       "      <td>opp10</td>\n",
       "      <td>2020-04-23</td>\n",
       "      <td>0.846046</td>\n",
       "    </tr>\n",
       "    <tr>\n",
       "      <th>7</th>\n",
       "      <td>opp13</td>\n",
       "      <td>2020-04-30</td>\n",
       "      <td>0.999762</td>\n",
       "    </tr>\n",
       "    <tr>\n",
       "      <th>8</th>\n",
       "      <td>opp13</td>\n",
       "      <td>2020-04-30</td>\n",
       "      <td>0.978190</td>\n",
       "    </tr>\n",
       "    <tr>\n",
       "      <th>9</th>\n",
       "      <td>opp13</td>\n",
       "      <td>2020-04-30</td>\n",
       "      <td>0.988931</td>\n",
       "    </tr>\n",
       "  </tbody>\n",
       "</table>\n",
       "</div>"
      ],
      "text/plain": [
       "  OPPORTUNITY_ID RENEWAL_DATE_C  win_probability\n",
       "0           opp1     2020-04-23         0.874498\n",
       "1           opp1     2020-04-23         0.855431\n",
       "2           opp9     2020-04-25         0.934765\n",
       "3           opp9     2020-04-25         0.992398\n",
       "4           opp9     2020-04-25         0.848513\n",
       "5          opp10     2020-04-23         0.938745\n",
       "6          opp10     2020-04-23         0.846046\n",
       "7          opp13     2020-04-30         0.999762\n",
       "8          opp13     2020-04-30         0.978190\n",
       "9          opp13     2020-04-30         0.988931"
      ]
     },
     "execution_count": 268,
     "metadata": {},
     "output_type": "execute_result"
    }
   ],
   "source": [
    "# Checking the submission\n",
    "submit_file = pd.read_csv('Jebeli_prediction.csv')\n",
    "print('Testing data shape: ', submit_file.shape)\n",
    "submit_file.head(10)"
   ]
  },
  {
   "cell_type": "markdown",
   "metadata": {},
   "source": [
    "# Model Interpretation\n",
    "## Feature Importances\n",
    "\n",
    "**A simple method to see which variables are the most relevant, is looking at the feature importances of our model.**\n",
    "\n",
    "**Feature importances plot let us to understand what factors our model takes into account when it makes predictions.**"
   ]
  },
  {
   "cell_type": "code",
   "execution_count": 269,
   "metadata": {},
   "outputs": [
    {
     "data": {
      "text/html": [
       "<div>\n",
       "<style scoped>\n",
       "    .dataframe tbody tr th:only-of-type {\n",
       "        vertical-align: middle;\n",
       "    }\n",
       "\n",
       "    .dataframe tbody tr th {\n",
       "        vertical-align: top;\n",
       "    }\n",
       "\n",
       "    .dataframe thead th {\n",
       "        text-align: right;\n",
       "    }\n",
       "</style>\n",
       "<table border=\"1\" class=\"dataframe\">\n",
       "  <thead>\n",
       "    <tr style=\"text-align: right;\">\n",
       "      <th></th>\n",
       "      <th>importance</th>\n",
       "    </tr>\n",
       "  </thead>\n",
       "  <tbody>\n",
       "    <tr>\n",
       "      <th>log_EVENT_COUNT</th>\n",
       "      <td>0.640459</td>\n",
       "    </tr>\n",
       "    <tr>\n",
       "      <th>std_QUANTITY</th>\n",
       "      <td>0.154371</td>\n",
       "    </tr>\n",
       "    <tr>\n",
       "      <th>std_CONTRACT_DURATION</th>\n",
       "      <td>0.063689</td>\n",
       "    </tr>\n",
       "    <tr>\n",
       "      <th>PRODUCT_CODE_SS_5K_AN_P2</th>\n",
       "      <td>0.037983</td>\n",
       "    </tr>\n",
       "    <tr>\n",
       "      <th>PRODUCT_CODE_SS_INF_EN</th>\n",
       "      <td>0.025467</td>\n",
       "    </tr>\n",
       "    <tr>\n",
       "      <th>PRODUCT_CODE_API_DEV_AN</th>\n",
       "      <td>0.020542</td>\n",
       "    </tr>\n",
       "    <tr>\n",
       "      <th>PRODUCT_CODE_SS_550_AN_P2</th>\n",
       "      <td>0.016531</td>\n",
       "    </tr>\n",
       "    <tr>\n",
       "      <th>PRODUCT_CODE_SS_EC_T0</th>\n",
       "      <td>0.015036</td>\n",
       "    </tr>\n",
       "    <tr>\n",
       "      <th>PRODUCT_CODE_SS_INF_AN_P2</th>\n",
       "      <td>0.012050</td>\n",
       "    </tr>\n",
       "    <tr>\n",
       "      <th>PRODUCT_CODE_SS_WORK_AN</th>\n",
       "      <td>0.008436</td>\n",
       "    </tr>\n",
       "    <tr>\n",
       "      <th>PRODUCT_CODE_SS_SUBM1_AN</th>\n",
       "      <td>0.002356</td>\n",
       "    </tr>\n",
       "    <tr>\n",
       "      <th>PRODUCT_CODE_SS_RFI_AN</th>\n",
       "      <td>0.001786</td>\n",
       "    </tr>\n",
       "    <tr>\n",
       "      <th>PRODUCT_CODE_SS_ASL1.1_AN</th>\n",
       "      <td>0.001075</td>\n",
       "    </tr>\n",
       "    <tr>\n",
       "      <th>PRODUCT_CODE_SS_SSO1_AN</th>\n",
       "      <td>0.000111</td>\n",
       "    </tr>\n",
       "    <tr>\n",
       "      <th>PRODUCT_CODE_SS_SUBM2_AN</th>\n",
       "      <td>0.000108</td>\n",
       "    </tr>\n",
       "    <tr>\n",
       "      <th>PRODUCT_CODE_SS_ASL2.1_AN</th>\n",
       "      <td>0.000000</td>\n",
       "    </tr>\n",
       "    <tr>\n",
       "      <th>PRODUCT_CODE_SS_ASL3.1_AN</th>\n",
       "      <td>0.000000</td>\n",
       "    </tr>\n",
       "    <tr>\n",
       "      <th>PRODUCT_CODE_SS_ASL4.1_AN</th>\n",
       "      <td>0.000000</td>\n",
       "    </tr>\n",
       "    <tr>\n",
       "      <th>PRODUCT_CODE_API_PGC1_AN</th>\n",
       "      <td>0.000000</td>\n",
       "    </tr>\n",
       "    <tr>\n",
       "      <th>PRODUCT_CODE_SS_SSO2_AN</th>\n",
       "      <td>0.000000</td>\n",
       "    </tr>\n",
       "    <tr>\n",
       "      <th>PRODUCT_CODE_SS_SUBM3.1_AN</th>\n",
       "      <td>0.000000</td>\n",
       "    </tr>\n",
       "    <tr>\n",
       "      <th>PRODUCT_CODE_SS_SUBM3_AN</th>\n",
       "      <td>0.000000</td>\n",
       "    </tr>\n",
       "  </tbody>\n",
       "</table>\n",
       "</div>"
      ],
      "text/plain": [
       "                            importance\n",
       "log_EVENT_COUNT               0.640459\n",
       "std_QUANTITY                  0.154371\n",
       "std_CONTRACT_DURATION         0.063689\n",
       "PRODUCT_CODE_SS_5K_AN_P2      0.037983\n",
       "PRODUCT_CODE_SS_INF_EN        0.025467\n",
       "PRODUCT_CODE_API_DEV_AN       0.020542\n",
       "PRODUCT_CODE_SS_550_AN_P2     0.016531\n",
       "PRODUCT_CODE_SS_EC_T0         0.015036\n",
       "PRODUCT_CODE_SS_INF_AN_P2     0.012050\n",
       "PRODUCT_CODE_SS_WORK_AN       0.008436\n",
       "PRODUCT_CODE_SS_SUBM1_AN      0.002356\n",
       "PRODUCT_CODE_SS_RFI_AN        0.001786\n",
       "PRODUCT_CODE_SS_ASL1.1_AN     0.001075\n",
       "PRODUCT_CODE_SS_SSO1_AN       0.000111\n",
       "PRODUCT_CODE_SS_SUBM2_AN      0.000108\n",
       "PRODUCT_CODE_SS_ASL2.1_AN     0.000000\n",
       "PRODUCT_CODE_SS_ASL3.1_AN     0.000000\n",
       "PRODUCT_CODE_SS_ASL4.1_AN     0.000000\n",
       "PRODUCT_CODE_API_PGC1_AN      0.000000\n",
       "PRODUCT_CODE_SS_SSO2_AN       0.000000\n",
       "PRODUCT_CODE_SS_SUBM3.1_AN    0.000000\n",
       "PRODUCT_CODE_SS_SUBM3_AN      0.000000"
      ]
     },
     "execution_count": 269,
     "metadata": {},
     "output_type": "execute_result"
    }
   ],
   "source": [
    "import pandas as pd\n",
    "columns_ =train.iloc[:, 11:].columns\n",
    "feature_importances = pd.DataFrame(rf_r.feature_importances_,\n",
    "                                   index = columns_,\n",
    "                                    columns=['importance']).sort_values('importance', ascending=False)\n",
    "feature_importances"
   ]
  },
  {
   "cell_type": "code",
   "execution_count": 270,
   "metadata": {},
   "outputs": [
    {
     "name": "stdout",
     "output_type": "stream",
     "text": [
      "['log_EVENT_COUNT', 'std_QUANTITY ', 'std_CONTRACT_DURATION', 'PRODUCT_CODE_API_DEV_AN', 'PRODUCT_CODE_API_PGC1_AN', 'PRODUCT_CODE_SS_550_AN_P2', 'PRODUCT_CODE_SS_5K_AN_P2', 'PRODUCT_CODE_SS_ASL1.1_AN', 'PRODUCT_CODE_SS_ASL2.1_AN', 'PRODUCT_CODE_SS_ASL3.1_AN', 'PRODUCT_CODE_SS_ASL4.1_AN', 'PRODUCT_CODE_SS_EC_T0', 'PRODUCT_CODE_SS_INF_AN_P2', 'PRODUCT_CODE_SS_INF_EN', 'PRODUCT_CODE_SS_RFI_AN', 'PRODUCT_CODE_SS_SSO1_AN', 'PRODUCT_CODE_SS_SSO2_AN', 'PRODUCT_CODE_SS_SUBM1_AN', 'PRODUCT_CODE_SS_SUBM2_AN', 'PRODUCT_CODE_SS_SUBM3.1_AN', 'PRODUCT_CODE_SS_SUBM3_AN', 'PRODUCT_CODE_SS_WORK_AN']\n"
     ]
    }
   ],
   "source": [
    "train_features = df_opps.drop(columns = ['IS_WON'])\n",
    "features = list(train.iloc[:, 11:].columns)\n",
    "print(features)"
   ]
  },
  {
   "cell_type": "code",
   "execution_count": 271,
   "metadata": {},
   "outputs": [],
   "source": [
    "# Train on the training data\n",
    "rf_r.fit(X_train, y_train)\n",
    "# Extract feature importances\n",
    "feature_importance_values =rf_r.feature_importances_\n",
    "feature_importances = pd.DataFrame({'feature': features, 'importance': feature_importance_values})\n",
    "# Make predictions on the test data\n",
    "predictions = rf_r.predict_proba(X_test)[:, 1]\n",
    "y_train_pred_random = rf_r.predict(X_train)"
   ]
  },
  {
   "cell_type": "code",
   "execution_count": 272,
   "metadata": {},
   "outputs": [],
   "source": [
    "# Plot importances returned by a model. This can work with any measure of feature importance provided that higher importance is better. \n",
    "# Returns: shows a plot of the 22 most importance features df (dataframe): feature importances sorted by importance (highest to lowest) with a column for normalized importance\n",
    "def plot_feature_importances(df):\n",
    "    # Sort features according to importance\n",
    "    df = df.sort_values('importance', ascending = False).reset_index()\n",
    "    \n",
    "    # Normalize the feature importances to add up to one\n",
    "    df['importance_normalized'] = df['importance'] / df['importance'].sum()\n",
    "\n",
    "    # Make a horizontal bar chart of feature importances\n",
    "    plt.figure(figsize = (10, 6))\n",
    "    ax = plt.subplot()\n",
    "    \n",
    "    # Need to reverse the index to plot most important on top\n",
    "    ax.barh(list(reversed(list(df.index[:15]))), \n",
    "            df['importance_normalized'].head(15), \n",
    "            align = 'center', edgecolor = 'k')\n",
    "    \n",
    "    # Set the yticks and labels\n",
    "    ax.set_yticks(list(reversed(list(df.index[:15]))))\n",
    "    ax.set_yticklabels(df['feature'].head(15))\n",
    "    \n",
    "    # Plot labeling\n",
    "    plt.xlabel('Normalized Importance'); plt.title('Feature Importances')\n",
    "    plt.show()\n",
    "    \n",
    "    return df"
   ]
  },
  {
   "cell_type": "code",
   "execution_count": 273,
   "metadata": {},
   "outputs": [
    {
     "data": {
      "image/png": "[encoded data removed]",
      "text/plain": [
       "<Figure size 720x432 with 1 Axes>"
      ]
     },
     "metadata": {
      "needs_background": "light"
     },
     "output_type": "display_data"
    }
   ],
   "source": [
    "# Show the feature importances for the default features\n",
    "feature_importances_sorted = plot_feature_importances(feature_importances)"
   ]
  },
  {
   "cell_type": "code",
   "execution_count": null,
   "metadata": {},
   "outputs": [],
   "source": []
  }
 ],
 "metadata": {
  "kernelspec": {
   "display_name": "Python 3",
   "language": "python",
   "name": "python3"
  },
  "language_info": {
   "codemirror_mode": {
    "name": "ipython",
    "version": 3
   },
   "file_extension": ".py",
   "mimetype": "text/x-python",
   "name": "python",
   "nbconvert_exporter": "python",
   "pygments_lexer": "ipython3",
   "version": "3.8.5"
  }
 },
 "nbformat": 4,
 "nbformat_minor": 4
}
