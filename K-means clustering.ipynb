{
 "cells": [
  {
   "cell_type": "code",
   "execution_count": 108,
   "metadata": {},
   "outputs": [],
   "source": [
    "import pandas as pd\n",
    "import seaborn as sns\n",
    "from matplotlib import pyplot as plt\n",
    "from PIL import Image\n",
    "from sklearn.cluster import KMeans\n",
    "%matplotlib inline"
   ]
  },
  {
   "cell_type": "code",
   "execution_count": 157,
   "metadata": {},
   "outputs": [
    {
     "data": {
      "text/html": [
       "<div>\n",
       "<style scoped>\n",
       "    .dataframe tbody tr th:only-of-type {\n",
       "        vertical-align: middle;\n",
       "    }\n",
       "\n",
       "    .dataframe tbody tr th {\n",
       "        vertical-align: top;\n",
       "    }\n",
       "\n",
       "    .dataframe thead th {\n",
       "        text-align: right;\n",
       "    }\n",
       "</style>\n",
       "<table border=\"1\" class=\"dataframe\">\n",
       "  <thead>\n",
       "    <tr style=\"text-align: right;\">\n",
       "      <th></th>\n",
       "      <th>State</th>\n",
       "      <th>Uninsured Rate (2010)</th>\n",
       "      <th>Uninsured Rate (2015)</th>\n",
       "      <th>Uninsured Rate Change (2010-2015)</th>\n",
       "      <th>Health Insurance Coverage Change (2010-2015)</th>\n",
       "      <th>Employer Health Insurance Coverage (2015)</th>\n",
       "      <th>Marketplace Health Insurance Coverage (2016)</th>\n",
       "      <th>Marketplace Tax Credits (2016)</th>\n",
       "      <th>Average Monthly Tax Credit (2016)</th>\n",
       "      <th>State Medicaid Expansion (2016)</th>\n",
       "      <th>Medicaid Enrollment (2013)</th>\n",
       "      <th>Medicaid Enrollment (2016)</th>\n",
       "      <th>Medicaid Enrollment Change (2013-2016)</th>\n",
       "      <th>Medicare Enrollment (2016)</th>\n",
       "    </tr>\n",
       "  </thead>\n",
       "  <tbody>\n",
       "    <tr>\n",
       "      <th>0</th>\n",
       "      <td>Maine</td>\n",
       "      <td>10.10%</td>\n",
       "      <td>8.40%</td>\n",
       "      <td>-1.70%</td>\n",
       "      <td>22000</td>\n",
       "      <td>702000</td>\n",
       "      <td>75240</td>\n",
       "      <td>63896</td>\n",
       "      <td>$342</td>\n",
       "      <td>True</td>\n",
       "      <td>NaN</td>\n",
       "      <td>273160</td>\n",
       "      <td>NaN</td>\n",
       "      <td>315160</td>\n",
       "    </tr>\n",
       "    <tr>\n",
       "      <th>1</th>\n",
       "      <td>Maryland</td>\n",
       "      <td>11.30%</td>\n",
       "      <td>6.60%</td>\n",
       "      <td>-4.70%</td>\n",
       "      <td>278000</td>\n",
       "      <td>3700000</td>\n",
       "      <td>135208</td>\n",
       "      <td>100844</td>\n",
       "      <td>$243</td>\n",
       "      <td>True</td>\n",
       "      <td>856297.0</td>\n",
       "      <td>1252304</td>\n",
       "      <td>396007.0</td>\n",
       "      <td>960848</td>\n",
       "    </tr>\n",
       "    <tr>\n",
       "      <th>2</th>\n",
       "      <td>Massachusetts</td>\n",
       "      <td>4.40%</td>\n",
       "      <td>2.80%</td>\n",
       "      <td>-1.60%</td>\n",
       "      <td>107000</td>\n",
       "      <td>4232000</td>\n",
       "      <td>207121</td>\n",
       "      <td>157751</td>\n",
       "      <td>$190</td>\n",
       "      <td>True</td>\n",
       "      <td>1296359.0</td>\n",
       "      <td>1684328</td>\n",
       "      <td>387969.0</td>\n",
       "      <td>1252277</td>\n",
       "    </tr>\n",
       "    <tr>\n",
       "      <th>3</th>\n",
       "      <td>Michigan</td>\n",
       "      <td>12.40%</td>\n",
       "      <td>6.10%</td>\n",
       "      <td>-6.30%</td>\n",
       "      <td>618000</td>\n",
       "      <td>5876000</td>\n",
       "      <td>313123</td>\n",
       "      <td>275080</td>\n",
       "      <td>$233</td>\n",
       "      <td>True</td>\n",
       "      <td>1912009.0</td>\n",
       "      <td>2300958</td>\n",
       "      <td>388949.0</td>\n",
       "      <td>1947787</td>\n",
       "    </tr>\n",
       "    <tr>\n",
       "      <th>4</th>\n",
       "      <td>Minnesota</td>\n",
       "      <td>9.10%</td>\n",
       "      <td>4.50%</td>\n",
       "      <td>-4.60%</td>\n",
       "      <td>250000</td>\n",
       "      <td>3319000</td>\n",
       "      <td>74060</td>\n",
       "      <td>47266</td>\n",
       "      <td>$203</td>\n",
       "      <td>True</td>\n",
       "      <td>873040.0</td>\n",
       "      <td>1051509</td>\n",
       "      <td>178469.0</td>\n",
       "      <td>944222</td>\n",
       "    </tr>\n",
       "  </tbody>\n",
       "</table>\n",
       "</div>"
      ],
      "text/plain": [
       "           State Uninsured Rate (2010) Uninsured Rate (2015)  \\\n",
       "0         Maine                 10.10%                 8.40%   \n",
       "1       Maryland                11.30%                 6.60%   \n",
       "2  Massachusetts                 4.40%                 2.80%   \n",
       "3      Michigan                 12.40%                 6.10%   \n",
       "4      Minnesota                 9.10%                 4.50%   \n",
       "\n",
       "  Uninsured Rate Change (2010-2015)  \\\n",
       "0                            -1.70%   \n",
       "1                            -4.70%   \n",
       "2                            -1.60%   \n",
       "3                            -6.30%   \n",
       "4                            -4.60%   \n",
       "\n",
       "   Health Insurance Coverage Change (2010-2015)  \\\n",
       "0                                         22000   \n",
       "1                                        278000   \n",
       "2                                        107000   \n",
       "3                                        618000   \n",
       "4                                        250000   \n",
       "\n",
       "   Employer Health Insurance Coverage (2015)  \\\n",
       "0                                     702000   \n",
       "1                                    3700000   \n",
       "2                                    4232000   \n",
       "3                                    5876000   \n",
       "4                                    3319000   \n",
       "\n",
       "   Marketplace Health Insurance Coverage (2016)  \\\n",
       "0                                         75240   \n",
       "1                                        135208   \n",
       "2                                        207121   \n",
       "3                                        313123   \n",
       "4                                         74060   \n",
       "\n",
       "   Marketplace Tax Credits (2016) Average Monthly Tax Credit (2016)  \\\n",
       "0                           63896                             $342    \n",
       "1                          100844                             $243    \n",
       "2                          157751                             $190    \n",
       "3                          275080                             $233    \n",
       "4                           47266                             $203    \n",
       "\n",
       "  State Medicaid Expansion (2016)  Medicaid Enrollment (2013)  \\\n",
       "0                            True                         NaN   \n",
       "1                            True                    856297.0   \n",
       "2                            True                   1296359.0   \n",
       "3                            True                   1912009.0   \n",
       "4                            True                    873040.0   \n",
       "\n",
       "   Medicaid Enrollment (2016)  Medicaid Enrollment Change (2013-2016)  \\\n",
       "0                      273160                                     NaN   \n",
       "1                     1252304                                396007.0   \n",
       "2                     1684328                                387969.0   \n",
       "3                     2300958                                388949.0   \n",
       "4                     1051509                                178469.0   \n",
       "\n",
       "   Medicare Enrollment (2016)  \n",
       "0                      315160  \n",
       "1                      960848  \n",
       "2                     1252277  \n",
       "3                     1947787  \n",
       "4                      944222  "
      ]
     },
     "execution_count": 157,
     "metadata": {},
     "output_type": "execute_result"
    }
   ],
   "source": [
    "filepath = \"datasets_905_1652_states.csv\"\n",
    "df=pd.read_csv(filepath)\n",
    "df.head()"
   ]
  },
  {
   "cell_type": "code",
   "execution_count": 110,
   "metadata": {},
   "outputs": [],
   "source": [
    "# Cleaning the data\n",
    "df.drop(df[df['State'] ==\"United States\"].index, inplace = True) "
   ]
  },
  {
   "cell_type": "code",
   "execution_count": 112,
   "metadata": {},
   "outputs": [
    {
     "data": {
      "text/html": [
       "<div>\n",
       "<style scoped>\n",
       "    .dataframe tbody tr th:only-of-type {\n",
       "        vertical-align: middle;\n",
       "    }\n",
       "\n",
       "    .dataframe tbody tr th {\n",
       "        vertical-align: top;\n",
       "    }\n",
       "\n",
       "    .dataframe thead th {\n",
       "        text-align: right;\n",
       "    }\n",
       "</style>\n",
       "<table border=\"1\" class=\"dataframe\">\n",
       "  <thead>\n",
       "    <tr style=\"text-align: right;\">\n",
       "      <th></th>\n",
       "      <th>State</th>\n",
       "      <th>Uninsured Rate (2010)</th>\n",
       "      <th>Uninsured Rate (2015)</th>\n",
       "      <th>Uninsured Rate Change (2010-2015)</th>\n",
       "      <th>Health Insurance Coverage Change (2010-2015)</th>\n",
       "      <th>Employer Health Insurance Coverage (2015)</th>\n",
       "      <th>Marketplace Health Insurance Coverage (2016)</th>\n",
       "      <th>Marketplace Tax Credits (2016)</th>\n",
       "      <th>Average Monthly Tax Credit (2016)</th>\n",
       "      <th>State Medicaid Expansion (2016)</th>\n",
       "      <th>Medicaid Enrollment (2013)</th>\n",
       "      <th>Medicaid Enrollment (2016)</th>\n",
       "      <th>Medicaid Enrollment Change (2013-2016)</th>\n",
       "      <th>Medicare Enrollment (2016)</th>\n",
       "    </tr>\n",
       "  </thead>\n",
       "  <tbody>\n",
       "    <tr>\n",
       "      <th>0</th>\n",
       "      <td>Maine</td>\n",
       "      <td>10.10%</td>\n",
       "      <td>8.40%</td>\n",
       "      <td>-1.70%</td>\n",
       "      <td>22000</td>\n",
       "      <td>702000</td>\n",
       "      <td>75240</td>\n",
       "      <td>63896</td>\n",
       "      <td>$342</td>\n",
       "      <td>True</td>\n",
       "      <td>NaN</td>\n",
       "      <td>273160</td>\n",
       "      <td>NaN</td>\n",
       "      <td>315160</td>\n",
       "    </tr>\n",
       "    <tr>\n",
       "      <th>1</th>\n",
       "      <td>Maryland</td>\n",
       "      <td>11.30%</td>\n",
       "      <td>6.60%</td>\n",
       "      <td>-4.70%</td>\n",
       "      <td>278000</td>\n",
       "      <td>3700000</td>\n",
       "      <td>135208</td>\n",
       "      <td>100844</td>\n",
       "      <td>$243</td>\n",
       "      <td>True</td>\n",
       "      <td>856297.0</td>\n",
       "      <td>1252304</td>\n",
       "      <td>396007.0</td>\n",
       "      <td>960848</td>\n",
       "    </tr>\n",
       "    <tr>\n",
       "      <th>2</th>\n",
       "      <td>Massachusetts</td>\n",
       "      <td>4.40%</td>\n",
       "      <td>2.80%</td>\n",
       "      <td>-1.60%</td>\n",
       "      <td>107000</td>\n",
       "      <td>4232000</td>\n",
       "      <td>207121</td>\n",
       "      <td>157751</td>\n",
       "      <td>$190</td>\n",
       "      <td>True</td>\n",
       "      <td>1296359.0</td>\n",
       "      <td>1684328</td>\n",
       "      <td>387969.0</td>\n",
       "      <td>1252277</td>\n",
       "    </tr>\n",
       "    <tr>\n",
       "      <th>3</th>\n",
       "      <td>Michigan</td>\n",
       "      <td>12.40%</td>\n",
       "      <td>6.10%</td>\n",
       "      <td>-6.30%</td>\n",
       "      <td>618000</td>\n",
       "      <td>5876000</td>\n",
       "      <td>313123</td>\n",
       "      <td>275080</td>\n",
       "      <td>$233</td>\n",
       "      <td>True</td>\n",
       "      <td>1912009.0</td>\n",
       "      <td>2300958</td>\n",
       "      <td>388949.0</td>\n",
       "      <td>1947787</td>\n",
       "    </tr>\n",
       "    <tr>\n",
       "      <th>4</th>\n",
       "      <td>Minnesota</td>\n",
       "      <td>9.10%</td>\n",
       "      <td>4.50%</td>\n",
       "      <td>-4.60%</td>\n",
       "      <td>250000</td>\n",
       "      <td>3319000</td>\n",
       "      <td>74060</td>\n",
       "      <td>47266</td>\n",
       "      <td>$203</td>\n",
       "      <td>True</td>\n",
       "      <td>873040.0</td>\n",
       "      <td>1051509</td>\n",
       "      <td>178469.0</td>\n",
       "      <td>944222</td>\n",
       "    </tr>\n",
       "  </tbody>\n",
       "</table>\n",
       "</div>"
      ],
      "text/plain": [
       "           State Uninsured Rate (2010) Uninsured Rate (2015)  \\\n",
       "0         Maine                 10.10%                 8.40%   \n",
       "1       Maryland                11.30%                 6.60%   \n",
       "2  Massachusetts                 4.40%                 2.80%   \n",
       "3      Michigan                 12.40%                 6.10%   \n",
       "4      Minnesota                 9.10%                 4.50%   \n",
       "\n",
       "  Uninsured Rate Change (2010-2015)  \\\n",
       "0                            -1.70%   \n",
       "1                            -4.70%   \n",
       "2                            -1.60%   \n",
       "3                            -6.30%   \n",
       "4                            -4.60%   \n",
       "\n",
       "   Health Insurance Coverage Change (2010-2015)  \\\n",
       "0                                         22000   \n",
       "1                                        278000   \n",
       "2                                        107000   \n",
       "3                                        618000   \n",
       "4                                        250000   \n",
       "\n",
       "   Employer Health Insurance Coverage (2015)  \\\n",
       "0                                     702000   \n",
       "1                                    3700000   \n",
       "2                                    4232000   \n",
       "3                                    5876000   \n",
       "4                                    3319000   \n",
       "\n",
       "   Marketplace Health Insurance Coverage (2016)  \\\n",
       "0                                         75240   \n",
       "1                                        135208   \n",
       "2                                        207121   \n",
       "3                                        313123   \n",
       "4                                         74060   \n",
       "\n",
       "   Marketplace Tax Credits (2016) Average Monthly Tax Credit (2016)  \\\n",
       "0                           63896                             $342    \n",
       "1                          100844                             $243    \n",
       "2                          157751                             $190    \n",
       "3                          275080                             $233    \n",
       "4                           47266                             $203    \n",
       "\n",
       "  State Medicaid Expansion (2016)  Medicaid Enrollment (2013)  \\\n",
       "0                            True                         NaN   \n",
       "1                            True                    856297.0   \n",
       "2                            True                   1296359.0   \n",
       "3                            True                   1912009.0   \n",
       "4                            True                    873040.0   \n",
       "\n",
       "   Medicaid Enrollment (2016)  Medicaid Enrollment Change (2013-2016)  \\\n",
       "0                      273160                                     NaN   \n",
       "1                     1252304                                396007.0   \n",
       "2                     1684328                                387969.0   \n",
       "3                     2300958                                388949.0   \n",
       "4                     1051509                                178469.0   \n",
       "\n",
       "   Medicare Enrollment (2016)  \n",
       "0                      315160  \n",
       "1                      960848  \n",
       "2                     1252277  \n",
       "3                     1947787  \n",
       "4                      944222  "
      ]
     },
     "execution_count": 112,
     "metadata": {},
     "output_type": "execute_result"
    }
   ],
   "source": [
    "df.head()"
   ]
  },
  {
   "cell_type": "code",
   "execution_count": 113,
   "metadata": {},
   "outputs": [
    {
     "data": {
      "text/plain": [
       "State                                            object\n",
       "Uninsured Rate (2010)                            object\n",
       "Uninsured Rate (2015)                            object\n",
       "Uninsured Rate Change (2010-2015)                object\n",
       "Health Insurance Coverage Change (2010-2015)      int64\n",
       "Employer Health Insurance Coverage (2015)         int64\n",
       "Marketplace Health Insurance Coverage (2016)      int64\n",
       "Marketplace Tax Credits (2016)                    int64\n",
       "Average Monthly Tax Credit (2016)                object\n",
       "State Medicaid Expansion (2016)                  object\n",
       "Medicaid Enrollment (2013)                      float64\n",
       "Medicaid Enrollment (2016)                        int64\n",
       "Medicaid Enrollment Change (2013-2016)          float64\n",
       "Medicare Enrollment (2016)                        int64\n",
       "dtype: object"
      ]
     },
     "execution_count": 113,
     "metadata": {},
     "output_type": "execute_result"
    }
   ],
   "source": [
    "df.dtypes"
   ]
  },
  {
   "cell_type": "code",
   "execution_count": 114,
   "metadata": {},
   "outputs": [
    {
     "data": {
      "text/plain": [
       "State                                           51\n",
       "Uninsured Rate (2010)                           51\n",
       "Uninsured Rate (2015)                           51\n",
       "Uninsured Rate Change (2010-2015)               51\n",
       "Health Insurance Coverage Change (2010-2015)    51\n",
       "Employer Health Insurance Coverage (2015)       51\n",
       "Marketplace Health Insurance Coverage (2016)    51\n",
       "Marketplace Tax Credits (2016)                  51\n",
       "Average Monthly Tax Credit (2016)               51\n",
       "State Medicaid Expansion (2016)                 51\n",
       "Medicaid Enrollment (2013)                      49\n",
       "Medicaid Enrollment (2016)                      51\n",
       "Medicaid Enrollment Change (2013-2016)          49\n",
       "Medicare Enrollment (2016)                      51\n",
       "dtype: int64"
      ]
     },
     "execution_count": 114,
     "metadata": {},
     "output_type": "execute_result"
    }
   ],
   "source": [
    "df.count()"
   ]
  },
  {
   "cell_type": "code",
   "execution_count": 115,
   "metadata": {},
   "outputs": [],
   "source": [
    "#Convert percentages from object to float\n",
    "df['Uninsured Rate Change (2010-2015)'] = df['Uninsured Rate Change (2010-2015)'].str.strip()\n",
    "df['Uninsured Rate Change (2010-2015)'] = df['Uninsured Rate Change (2010-2015)'].str.strip(\"%\").astype(float)"
   ]
  },
  {
   "cell_type": "code",
   "execution_count": 116,
   "metadata": {},
   "outputs": [],
   "source": [
    "# Convert dollars from object to int\n",
    "str_dol_to_int = lambda x: int(x.strip('$'))\n",
    "df['Average Monthly Tax Credit (2016)'] = df['Average Monthly Tax Credit (2016)'].map(str_dol_to_int)"
   ]
  },
  {
   "cell_type": "code",
   "execution_count": 117,
   "metadata": {},
   "outputs": [],
   "source": [
    "#Convert bool to int.\n",
    "df.drop([50], inplace=True) # getting rid of total US info ... (maybe stupid)\n",
    "df['State Medicaid Expansion (2016)'] = df['State Medicaid Expansion (2016)'].map(lambda x: int(x))"
   ]
  },
  {
   "cell_type": "code",
   "execution_count": 118,
   "metadata": {},
   "outputs": [
    {
     "data": {
      "text/html": [
       "<div>\n",
       "<style scoped>\n",
       "    .dataframe tbody tr th:only-of-type {\n",
       "        vertical-align: middle;\n",
       "    }\n",
       "\n",
       "    .dataframe tbody tr th {\n",
       "        vertical-align: top;\n",
       "    }\n",
       "\n",
       "    .dataframe thead th {\n",
       "        text-align: right;\n",
       "    }\n",
       "</style>\n",
       "<table border=\"1\" class=\"dataframe\">\n",
       "  <thead>\n",
       "    <tr style=\"text-align: right;\">\n",
       "      <th></th>\n",
       "      <th>State</th>\n",
       "      <th>Uninsured Rate (2010)</th>\n",
       "      <th>Uninsured Rate (2015)</th>\n",
       "      <th>Uninsured Rate Change (2010-2015)</th>\n",
       "      <th>Health Insurance Coverage Change (2010-2015)</th>\n",
       "      <th>Employer Health Insurance Coverage (2015)</th>\n",
       "      <th>Marketplace Health Insurance Coverage (2016)</th>\n",
       "      <th>Marketplace Tax Credits (2016)</th>\n",
       "      <th>Average Monthly Tax Credit (2016)</th>\n",
       "      <th>State Medicaid Expansion (2016)</th>\n",
       "      <th>Medicaid Enrollment (2013)</th>\n",
       "      <th>Medicaid Enrollment (2016)</th>\n",
       "      <th>Medicaid Enrollment Change (2013-2016)</th>\n",
       "      <th>Medicare Enrollment (2016)</th>\n",
       "    </tr>\n",
       "  </thead>\n",
       "  <tbody>\n",
       "    <tr>\n",
       "      <th>0</th>\n",
       "      <td>Maine</td>\n",
       "      <td>10.10%</td>\n",
       "      <td>8.40%</td>\n",
       "      <td>-1.7</td>\n",
       "      <td>22000</td>\n",
       "      <td>702000</td>\n",
       "      <td>75240</td>\n",
       "      <td>63896</td>\n",
       "      <td>342</td>\n",
       "      <td>1</td>\n",
       "      <td>NaN</td>\n",
       "      <td>273160</td>\n",
       "      <td>NaN</td>\n",
       "      <td>315160</td>\n",
       "    </tr>\n",
       "    <tr>\n",
       "      <th>1</th>\n",
       "      <td>Maryland</td>\n",
       "      <td>11.30%</td>\n",
       "      <td>6.60%</td>\n",
       "      <td>-4.7</td>\n",
       "      <td>278000</td>\n",
       "      <td>3700000</td>\n",
       "      <td>135208</td>\n",
       "      <td>100844</td>\n",
       "      <td>243</td>\n",
       "      <td>1</td>\n",
       "      <td>856297.0</td>\n",
       "      <td>1252304</td>\n",
       "      <td>396007.0</td>\n",
       "      <td>960848</td>\n",
       "    </tr>\n",
       "    <tr>\n",
       "      <th>2</th>\n",
       "      <td>Massachusetts</td>\n",
       "      <td>4.40%</td>\n",
       "      <td>2.80%</td>\n",
       "      <td>-1.6</td>\n",
       "      <td>107000</td>\n",
       "      <td>4232000</td>\n",
       "      <td>207121</td>\n",
       "      <td>157751</td>\n",
       "      <td>190</td>\n",
       "      <td>1</td>\n",
       "      <td>1296359.0</td>\n",
       "      <td>1684328</td>\n",
       "      <td>387969.0</td>\n",
       "      <td>1252277</td>\n",
       "    </tr>\n",
       "    <tr>\n",
       "      <th>3</th>\n",
       "      <td>Michigan</td>\n",
       "      <td>12.40%</td>\n",
       "      <td>6.10%</td>\n",
       "      <td>-6.3</td>\n",
       "      <td>618000</td>\n",
       "      <td>5876000</td>\n",
       "      <td>313123</td>\n",
       "      <td>275080</td>\n",
       "      <td>233</td>\n",
       "      <td>1</td>\n",
       "      <td>1912009.0</td>\n",
       "      <td>2300958</td>\n",
       "      <td>388949.0</td>\n",
       "      <td>1947787</td>\n",
       "    </tr>\n",
       "    <tr>\n",
       "      <th>4</th>\n",
       "      <td>Minnesota</td>\n",
       "      <td>9.10%</td>\n",
       "      <td>4.50%</td>\n",
       "      <td>-4.6</td>\n",
       "      <td>250000</td>\n",
       "      <td>3319000</td>\n",
       "      <td>74060</td>\n",
       "      <td>47266</td>\n",
       "      <td>203</td>\n",
       "      <td>1</td>\n",
       "      <td>873040.0</td>\n",
       "      <td>1051509</td>\n",
       "      <td>178469.0</td>\n",
       "      <td>944222</td>\n",
       "    </tr>\n",
       "  </tbody>\n",
       "</table>\n",
       "</div>"
      ],
      "text/plain": [
       "           State Uninsured Rate (2010) Uninsured Rate (2015)  \\\n",
       "0         Maine                 10.10%                 8.40%   \n",
       "1       Maryland                11.30%                 6.60%   \n",
       "2  Massachusetts                 4.40%                 2.80%   \n",
       "3      Michigan                 12.40%                 6.10%   \n",
       "4      Minnesota                 9.10%                 4.50%   \n",
       "\n",
       "   Uninsured Rate Change (2010-2015)  \\\n",
       "0                               -1.7   \n",
       "1                               -4.7   \n",
       "2                               -1.6   \n",
       "3                               -6.3   \n",
       "4                               -4.6   \n",
       "\n",
       "   Health Insurance Coverage Change (2010-2015)  \\\n",
       "0                                         22000   \n",
       "1                                        278000   \n",
       "2                                        107000   \n",
       "3                                        618000   \n",
       "4                                        250000   \n",
       "\n",
       "   Employer Health Insurance Coverage (2015)  \\\n",
       "0                                     702000   \n",
       "1                                    3700000   \n",
       "2                                    4232000   \n",
       "3                                    5876000   \n",
       "4                                    3319000   \n",
       "\n",
       "   Marketplace Health Insurance Coverage (2016)  \\\n",
       "0                                         75240   \n",
       "1                                        135208   \n",
       "2                                        207121   \n",
       "3                                        313123   \n",
       "4                                         74060   \n",
       "\n",
       "   Marketplace Tax Credits (2016)  Average Monthly Tax Credit (2016)  \\\n",
       "0                           63896                                342   \n",
       "1                          100844                                243   \n",
       "2                          157751                                190   \n",
       "3                          275080                                233   \n",
       "4                           47266                                203   \n",
       "\n",
       "   State Medicaid Expansion (2016)  Medicaid Enrollment (2013)  \\\n",
       "0                                1                         NaN   \n",
       "1                                1                    856297.0   \n",
       "2                                1                   1296359.0   \n",
       "3                                1                   1912009.0   \n",
       "4                                1                    873040.0   \n",
       "\n",
       "   Medicaid Enrollment (2016)  Medicaid Enrollment Change (2013-2016)  \\\n",
       "0                      273160                                     NaN   \n",
       "1                     1252304                                396007.0   \n",
       "2                     1684328                                387969.0   \n",
       "3                     2300958                                388949.0   \n",
       "4                     1051509                                178469.0   \n",
       "\n",
       "   Medicare Enrollment (2016)  \n",
       "0                      315160  \n",
       "1                      960848  \n",
       "2                     1252277  \n",
       "3                     1947787  \n",
       "4                      944222  "
      ]
     },
     "execution_count": 118,
     "metadata": {},
     "output_type": "execute_result"
    }
   ],
   "source": [
    "df.head()"
   ]
  },
  {
   "cell_type": "code",
   "execution_count": 119,
   "metadata": {},
   "outputs": [],
   "source": [
    "df = df.dropna(how='any',axis=0)"
   ]
  },
  {
   "cell_type": "code",
   "execution_count": 120,
   "metadata": {},
   "outputs": [
    {
     "data": {
      "text/plain": [
       "State                                           0\n",
       "Uninsured Rate (2010)                           0\n",
       "Uninsured Rate (2015)                           0\n",
       "Uninsured Rate Change (2010-2015)               0\n",
       "Health Insurance Coverage Change (2010-2015)    0\n",
       "Employer Health Insurance Coverage (2015)       0\n",
       "Marketplace Health Insurance Coverage (2016)    0\n",
       "Marketplace Tax Credits (2016)                  0\n",
       "Average Monthly Tax Credit (2016)               0\n",
       "State Medicaid Expansion (2016)                 0\n",
       "Medicaid Enrollment (2013)                      0\n",
       "Medicaid Enrollment (2016)                      0\n",
       "Medicaid Enrollment Change (2013-2016)          0\n",
       "Medicare Enrollment (2016)                      0\n",
       "dtype: int64"
      ]
     },
     "execution_count": 120,
     "metadata": {},
     "output_type": "execute_result"
    }
   ],
   "source": [
    "df.isnull().sum()"
   ]
  },
  {
   "cell_type": "code",
   "execution_count": 121,
   "metadata": {},
   "outputs": [],
   "source": [
    "# Finding correlation\n",
    "percent_to_convert = ['Uninsured Rate (2010)', 'Uninsured Rate (2015)', 'Uninsured Rate Change (2010-2015)']\n"
   ]
  },
  {
   "cell_type": "code",
   "execution_count": 122,
   "metadata": {},
   "outputs": [
    {
     "data": {
      "text/plain": [
       "Health Insurance Coverage Change (2010-2015)   -0.446210\n",
       "Medicaid Enrollment Change (2013-2016)         -0.441610\n",
       "Medicaid Enrollment (2016)                     -0.332004\n",
       "Marketplace Health Insurance Coverage (2016)   -0.295910\n",
       "Marketplace Tax Credits (2016)                 -0.295015\n",
       "Medicare Enrollment (2016)                     -0.291340\n",
       "Medicaid Enrollment (2013)                     -0.267465\n",
       "Employer Health Insurance Coverage (2015)      -0.258086\n",
       "Average Monthly Tax Credit (2016)               0.030673\n",
       "State Medicaid Expansion (2016)                 0.193900\n",
       "Uninsured Rate Change (2010-2015)               1.000000\n",
       "Name: Uninsured Rate Change (2010-2015), dtype: float64"
      ]
     },
     "execution_count": 122,
     "metadata": {},
     "output_type": "execute_result"
    }
   ],
   "source": [
    "# What factors do have effect on uninsured change rate\n",
    "# Medicaid Enrollment Change (2013-2016)\n",
    "# Marketplace Health Insurance Coverage (2016)\n",
    "\n",
    "correlations = df.corr()[\"Uninsured Rate Change (2010-2015)\"].sort_values()\n",
    "correlations"
   ]
  },
  {
   "cell_type": "code",
   "execution_count": 123,
   "metadata": {},
   "outputs": [
    {
     "data": {
      "image/png": "[encoded data removed]",
      "text/plain": [
       "<Figure size 864x720 with 2 Axes>"
      ]
     },
     "metadata": {
      "needs_background": "light"
     },
     "output_type": "display_data"
    }
   ],
   "source": [
    "#Using Pearson Correlation\n",
    "plt.figure(figsize=(12,10))\n",
    "cor = df.corr()\n",
    "sns.heatmap(cor, annot=True, cmap=plt.cm.Reds)\n",
    "plt.show()"
   ]
  },
  {
   "cell_type": "code",
   "execution_count": 124,
   "metadata": {},
   "outputs": [
    {
     "data": {
      "text/plain": [
       "Uninsured Rate Change (2010-2015)              -0.441610\n",
       "State Medicaid Expansion (2016)                -0.198294\n",
       "Average Monthly Tax Credit (2016)              -0.062249\n",
       "Marketplace Tax Credits (2016)                  0.600366\n",
       "Marketplace Health Insurance Coverage (2016)    0.620638\n",
       "Medicare Enrollment (2016)                      0.748000\n",
       "Employer Health Insurance Coverage (2015)       0.772999\n",
       "Medicaid Enrollment (2013)                      0.791952\n",
       "Health Insurance Coverage Change (2010-2015)    0.889060\n",
       "Medicaid Enrollment (2016)                      0.890577\n",
       "Medicaid Enrollment Change (2013-2016)          1.000000\n",
       "Name: Medicaid Enrollment Change (2013-2016), dtype: float64"
      ]
     },
     "execution_count": 124,
     "metadata": {},
     "output_type": "execute_result"
    }
   ],
   "source": [
    "# What factors do have effect on Medicaid Enrollment Change (2013-2016) change rate\n",
    "# Health Insurance Coverage Change (2010-2015)\n",
    "# Employer Health Insurance Coverage (2015) \n",
    "# Marketplace Health Insurance Coverage (2016)\n",
    "# Marketplace Tax Credits (2016) \n",
    "\n",
    "correlations = df.corr()[\"Medicaid Enrollment Change (2013-2016)\"].sort_values()\n",
    "correlations"
   ]
  },
  {
   "cell_type": "code",
   "execution_count": 125,
   "metadata": {},
   "outputs": [
    {
     "data": {
      "text/plain": [
       "Health Insurance Coverage Change (2010-2015)   -0.446210\n",
       "Medicaid Enrollment Change (2013-2016)         -0.441610\n",
       "Marketplace Tax Credits (2016)                 -0.295015\n",
       "Medicare Enrollment (2016)                     -0.291340\n",
       "Employer Health Insurance Coverage (2015)      -0.258086\n",
       "Average Monthly Tax Credit (2016)               0.030673\n",
       "State Medicaid Expansion (2016)                 0.193900\n",
       "Uninsured Rate Change (2010-2015)               1.000000\n",
       "Name: Uninsured Rate Change (2010-2015), dtype: float64"
      ]
     },
     "execution_count": 125,
     "metadata": {},
     "output_type": "execute_result"
    },
    {
     "data": {
      "text/plain": [
       "<Figure size 432x288 with 0 Axes>"
      ]
     },
     "metadata": {},
     "output_type": "display_data"
    }
   ],
   "source": [
    "plt.clf()\n",
    "X = df[['State Medicaid Expansion (2016)','Uninsured Rate Change (2010-2015)','Average Monthly Tax Credit (2016)','Marketplace Tax Credits (2016)','Health Insurance Coverage Change (2010-2015)', 'Medicaid Enrollment Change (2013-2016)','Employer Health Insurance Coverage (2015)','Medicare Enrollment (2016)']]\n",
    "X.corr()[\"Uninsured Rate Change (2010-2015)\"].sort_values()\n"
   ]
  },
  {
   "cell_type": "code",
   "execution_count": 127,
   "metadata": {},
   "outputs": [
    {
     "data": {
      "text/html": [
       "<div>\n",
       "<style scoped>\n",
       "    .dataframe tbody tr th:only-of-type {\n",
       "        vertical-align: middle;\n",
       "    }\n",
       "\n",
       "    .dataframe tbody tr th {\n",
       "        vertical-align: top;\n",
       "    }\n",
       "\n",
       "    .dataframe thead th {\n",
       "        text-align: right;\n",
       "    }\n",
       "</style>\n",
       "<table border=\"1\" class=\"dataframe\">\n",
       "  <thead>\n",
       "    <tr style=\"text-align: right;\">\n",
       "      <th></th>\n",
       "      <th>Uninsured Rate Change (2010-2015)</th>\n",
       "      <th>Average Monthly Tax Credit (2016)</th>\n",
       "      <th>Marketplace Tax Credits (2016)</th>\n",
       "      <th>Health Insurance Coverage Change (2010-2015)</th>\n",
       "      <th>Medicaid Enrollment Change (2013-2016)</th>\n",
       "      <th>Employer Health Insurance Coverage (2015)</th>\n",
       "      <th>Medicare Enrollment (2016)</th>\n",
       "    </tr>\n",
       "    <tr>\n",
       "      <th>State Medicaid Expansion (2016)</th>\n",
       "      <th></th>\n",
       "      <th></th>\n",
       "      <th></th>\n",
       "      <th></th>\n",
       "      <th></th>\n",
       "      <th></th>\n",
       "      <th></th>\n",
       "    </tr>\n",
       "  </thead>\n",
       "  <tbody>\n",
       "    <tr>\n",
       "      <th>0</th>\n",
       "      <td>-6.09</td>\n",
       "      <td>304.41</td>\n",
       "      <td>247241.59</td>\n",
       "      <td>553117.65</td>\n",
       "      <td>487347.18</td>\n",
       "      <td>3756000.00</td>\n",
       "      <td>1254539.00</td>\n",
       "    </tr>\n",
       "    <tr>\n",
       "      <th>1</th>\n",
       "      <td>-5.25</td>\n",
       "      <td>279.48</td>\n",
       "      <td>157130.35</td>\n",
       "      <td>315645.16</td>\n",
       "      <td>242333.35</td>\n",
       "      <td>3332096.77</td>\n",
       "      <td>1057750.39</td>\n",
       "    </tr>\n",
       "  </tbody>\n",
       "</table>\n",
       "</div>"
      ],
      "text/plain": [
       "                                 Uninsured Rate Change (2010-2015)  \\\n",
       "State Medicaid Expansion (2016)                                      \n",
       "0                                                            -6.09   \n",
       "1                                                            -5.25   \n",
       "\n",
       "                                 Average Monthly Tax Credit (2016)  \\\n",
       "State Medicaid Expansion (2016)                                      \n",
       "0                                                           304.41   \n",
       "1                                                           279.48   \n",
       "\n",
       "                                 Marketplace Tax Credits (2016)  \\\n",
       "State Medicaid Expansion (2016)                                   \n",
       "0                                                     247241.59   \n",
       "1                                                     157130.35   \n",
       "\n",
       "                                 Health Insurance Coverage Change (2010-2015)  \\\n",
       "State Medicaid Expansion (2016)                                                 \n",
       "0                                                                   553117.65   \n",
       "1                                                                   315645.16   \n",
       "\n",
       "                                 Medicaid Enrollment Change (2013-2016)  \\\n",
       "State Medicaid Expansion (2016)                                           \n",
       "0                                                             487347.18   \n",
       "1                                                             242333.35   \n",
       "\n",
       "                                 Employer Health Insurance Coverage (2015)  \\\n",
       "State Medicaid Expansion (2016)                                              \n",
       "0                                                               3756000.00   \n",
       "1                                                               3332096.77   \n",
       "\n",
       "                                 Medicare Enrollment (2016)  \n",
       "State Medicaid Expansion (2016)                              \n",
       "0                                                1254539.00  \n",
       "1                                                1057750.39  "
      ]
     },
     "execution_count": 127,
     "metadata": {},
     "output_type": "execute_result"
    }
   ],
   "source": [
    "# Finding states which lowest and highest Uninsured Rate Change (2010-2015)\n",
    "X.groupby('State Medicaid Expansion (2016)').mean().round(decimals=2)"
   ]
  },
  {
   "cell_type": "code",
   "execution_count": 128,
   "metadata": {},
   "outputs": [
    {
     "data": {
      "text/html": [
       "<div>\n",
       "<style scoped>\n",
       "    .dataframe tbody tr th:only-of-type {\n",
       "        vertical-align: middle;\n",
       "    }\n",
       "\n",
       "    .dataframe tbody tr th {\n",
       "        vertical-align: top;\n",
       "    }\n",
       "\n",
       "    .dataframe thead th {\n",
       "        text-align: right;\n",
       "    }\n",
       "</style>\n",
       "<table border=\"1\" class=\"dataframe\">\n",
       "  <thead>\n",
       "    <tr style=\"text-align: right;\">\n",
       "      <th></th>\n",
       "      <th>Health Insurance Coverage Change (2010-2015)</th>\n",
       "      <th>Medicaid Enrollment Change (2013-2016)</th>\n",
       "      <th>Uninsured Rate Change (2010-2015)</th>\n",
       "    </tr>\n",
       "  </thead>\n",
       "  <tbody>\n",
       "    <tr>\n",
       "      <th>1</th>\n",
       "      <td>278000</td>\n",
       "      <td>396007.0</td>\n",
       "      <td>-4.7</td>\n",
       "    </tr>\n",
       "    <tr>\n",
       "      <th>2</th>\n",
       "      <td>107000</td>\n",
       "      <td>387969.0</td>\n",
       "      <td>-1.6</td>\n",
       "    </tr>\n",
       "    <tr>\n",
       "      <th>3</th>\n",
       "      <td>618000</td>\n",
       "      <td>388949.0</td>\n",
       "      <td>-6.3</td>\n",
       "    </tr>\n",
       "    <tr>\n",
       "      <th>4</th>\n",
       "      <td>250000</td>\n",
       "      <td>178469.0</td>\n",
       "      <td>-4.6</td>\n",
       "    </tr>\n",
       "    <tr>\n",
       "      <th>5</th>\n",
       "      <td>161000</td>\n",
       "      <td>56640.0</td>\n",
       "      <td>-5.5</td>\n",
       "    </tr>\n",
       "  </tbody>\n",
       "</table>\n",
       "</div>"
      ],
      "text/plain": [
       "   Health Insurance Coverage Change (2010-2015)  \\\n",
       "1                                        278000   \n",
       "2                                        107000   \n",
       "3                                        618000   \n",
       "4                                        250000   \n",
       "5                                        161000   \n",
       "\n",
       "   Medicaid Enrollment Change (2013-2016)  Uninsured Rate Change (2010-2015)  \n",
       "1                                396007.0                               -4.7  \n",
       "2                                387969.0                               -1.6  \n",
       "3                                388949.0                               -6.3  \n",
       "4                                178469.0                               -4.6  \n",
       "5                                 56640.0                               -5.5  "
      ]
     },
     "execution_count": 128,
     "metadata": {},
     "output_type": "execute_result"
    }
   ],
   "source": [
    "X = df[['Health Insurance Coverage Change (2010-2015)', 'Medicaid Enrollment Change (2013-2016)', 'Uninsured Rate Change (2010-2015)']]\n",
    "X.head()"
   ]
  },
  {
   "cell_type": "code",
   "execution_count": 129,
   "metadata": {},
   "outputs": [
    {
     "data": {
      "text/html": [
       "<div>\n",
       "<style scoped>\n",
       "    .dataframe tbody tr th:only-of-type {\n",
       "        vertical-align: middle;\n",
       "    }\n",
       "\n",
       "    .dataframe tbody tr th {\n",
       "        vertical-align: top;\n",
       "    }\n",
       "\n",
       "    .dataframe thead th {\n",
       "        text-align: right;\n",
       "    }\n",
       "</style>\n",
       "<table border=\"1\" class=\"dataframe\">\n",
       "  <thead>\n",
       "    <tr style=\"text-align: right;\">\n",
       "      <th></th>\n",
       "      <th>Health Insurance Coverage Change (2010-2015)</th>\n",
       "      <th>Medicaid Enrollment Change (2013-2016)</th>\n",
       "      <th>Uninsured Rate Change (2010-2015)</th>\n",
       "    </tr>\n",
       "  </thead>\n",
       "  <tbody>\n",
       "    <tr>\n",
       "      <th>count</th>\n",
       "      <td>4.800000e+01</td>\n",
       "      <td>4.800000e+01</td>\n",
       "      <td>48.000000</td>\n",
       "    </tr>\n",
       "    <tr>\n",
       "      <th>mean</th>\n",
       "      <td>3.997500e+05</td>\n",
       "      <td>3.291091e+05</td>\n",
       "      <td>-5.550000</td>\n",
       "    </tr>\n",
       "    <tr>\n",
       "      <th>std</th>\n",
       "      <td>6.211413e+05</td>\n",
       "      <td>5.971948e+05</td>\n",
       "      <td>2.100051</td>\n",
       "    </tr>\n",
       "    <tr>\n",
       "      <th>min</th>\n",
       "      <td>1.500000e+04</td>\n",
       "      <td>-3.935000e+03</td>\n",
       "      <td>-10.300000</td>\n",
       "    </tr>\n",
       "    <tr>\n",
       "      <th>25%</th>\n",
       "      <td>9.725000e+04</td>\n",
       "      <td>5.325100e+04</td>\n",
       "      <td>-6.625000</td>\n",
       "    </tr>\n",
       "    <tr>\n",
       "      <th>50%</th>\n",
       "      <td>2.245000e+05</td>\n",
       "      <td>1.997850e+05</td>\n",
       "      <td>-5.000000</td>\n",
       "    </tr>\n",
       "    <tr>\n",
       "      <th>75%</th>\n",
       "      <td>4.122500e+05</td>\n",
       "      <td>4.160878e+05</td>\n",
       "      <td>-4.075000</td>\n",
       "    </tr>\n",
       "    <tr>\n",
       "      <th>max</th>\n",
       "      <td>3.826000e+06</td>\n",
       "      <td>4.087700e+06</td>\n",
       "      <td>-1.600000</td>\n",
       "    </tr>\n",
       "  </tbody>\n",
       "</table>\n",
       "</div>"
      ],
      "text/plain": [
       "       Health Insurance Coverage Change (2010-2015)  \\\n",
       "count                                  4.800000e+01   \n",
       "mean                                   3.997500e+05   \n",
       "std                                    6.211413e+05   \n",
       "min                                    1.500000e+04   \n",
       "25%                                    9.725000e+04   \n",
       "50%                                    2.245000e+05   \n",
       "75%                                    4.122500e+05   \n",
       "max                                    3.826000e+06   \n",
       "\n",
       "       Medicaid Enrollment Change (2013-2016)  \\\n",
       "count                            4.800000e+01   \n",
       "mean                             3.291091e+05   \n",
       "std                              5.971948e+05   \n",
       "min                             -3.935000e+03   \n",
       "25%                              5.325100e+04   \n",
       "50%                              1.997850e+05   \n",
       "75%                              4.160878e+05   \n",
       "max                              4.087700e+06   \n",
       "\n",
       "       Uninsured Rate Change (2010-2015)  \n",
       "count                          48.000000  \n",
       "mean                           -5.550000  \n",
       "std                             2.100051  \n",
       "min                           -10.300000  \n",
       "25%                            -6.625000  \n",
       "50%                            -5.000000  \n",
       "75%                            -4.075000  \n",
       "max                            -1.600000  "
      ]
     },
     "execution_count": 129,
     "metadata": {},
     "output_type": "execute_result"
    }
   ],
   "source": [
    "X.describe()"
   ]
  },
  {
   "cell_type": "code",
   "execution_count": 130,
   "metadata": {},
   "outputs": [
    {
     "data": {
      "image/png": "[encoded data removed]",
      "text/plain": [
       "<Figure size 432x288 with 1 Axes>"
      ]
     },
     "metadata": {
      "needs_background": "light"
     },
     "output_type": "display_data"
    }
   ],
   "source": [
    "# Finding number of cluster\n",
    "distortions = []\n",
    "for i in range(1, 10):\n",
    "    km = KMeans(n_clusters=i, \n",
    "                init='k-means++', \n",
    "                n_init=10, \n",
    "                max_iter=300, \n",
    "                random_state=0)\n",
    "    km.fit(X)\n",
    "    distortions.append(km.inertia_)\n",
    "plt.plot(range(1, 10), distortions, marker='o')\n",
    "plt.xlabel('Number of clusters')\n",
    "plt.ylabel('Distortion')\n",
    "plt.tight_layout()\n",
    "plt.show()"
   ]
  },
  {
   "cell_type": "code",
   "execution_count": 131,
   "metadata": {},
   "outputs": [
    {
     "data": {
      "text/html": [
       "<div>\n",
       "<style scoped>\n",
       "    .dataframe tbody tr th:only-of-type {\n",
       "        vertical-align: middle;\n",
       "    }\n",
       "\n",
       "    .dataframe tbody tr th {\n",
       "        vertical-align: top;\n",
       "    }\n",
       "\n",
       "    .dataframe thead th {\n",
       "        text-align: right;\n",
       "    }\n",
       "</style>\n",
       "<table border=\"1\" class=\"dataframe\">\n",
       "  <thead>\n",
       "    <tr style=\"text-align: right;\">\n",
       "      <th></th>\n",
       "      <th>Uninsured Rate Change (2010-2015)</th>\n",
       "      <th>Health Insurance Coverage Change (2010-2015)</th>\n",
       "      <th>Medicaid Enrollment Change (2013-2016)</th>\n",
       "    </tr>\n",
       "  </thead>\n",
       "  <tbody>\n",
       "    <tr>\n",
       "      <th>1</th>\n",
       "      <td>-4.7</td>\n",
       "      <td>278000</td>\n",
       "      <td>396007.0</td>\n",
       "    </tr>\n",
       "    <tr>\n",
       "      <th>2</th>\n",
       "      <td>-1.6</td>\n",
       "      <td>107000</td>\n",
       "      <td>387969.0</td>\n",
       "    </tr>\n",
       "    <tr>\n",
       "      <th>3</th>\n",
       "      <td>-6.3</td>\n",
       "      <td>618000</td>\n",
       "      <td>388949.0</td>\n",
       "    </tr>\n",
       "    <tr>\n",
       "      <th>4</th>\n",
       "      <td>-4.6</td>\n",
       "      <td>250000</td>\n",
       "      <td>178469.0</td>\n",
       "    </tr>\n",
       "    <tr>\n",
       "      <th>5</th>\n",
       "      <td>-5.5</td>\n",
       "      <td>161000</td>\n",
       "      <td>56640.0</td>\n",
       "    </tr>\n",
       "  </tbody>\n",
       "</table>\n",
       "</div>"
      ],
      "text/plain": [
       "   Uninsured Rate Change (2010-2015)  \\\n",
       "1                               -4.7   \n",
       "2                               -1.6   \n",
       "3                               -6.3   \n",
       "4                               -4.6   \n",
       "5                               -5.5   \n",
       "\n",
       "   Health Insurance Coverage Change (2010-2015)  \\\n",
       "1                                        278000   \n",
       "2                                        107000   \n",
       "3                                        618000   \n",
       "4                                        250000   \n",
       "5                                        161000   \n",
       "\n",
       "   Medicaid Enrollment Change (2013-2016)  \n",
       "1                                396007.0  \n",
       "2                                387969.0  \n",
       "3                                388949.0  \n",
       "4                                178469.0  \n",
       "5                                 56640.0  "
      ]
     },
     "execution_count": 131,
     "metadata": {},
     "output_type": "execute_result"
    }
   ],
   "source": [
    "data = df[['Uninsured Rate Change (2010-2015)','Health Insurance Coverage Change (2010-2015)','Medicaid Enrollment Change (2013-2016)']]\n",
    "data.head()"
   ]
  },
  {
   "cell_type": "code",
   "execution_count": 132,
   "metadata": {},
   "outputs": [
    {
     "name": "stderr",
     "output_type": "stream",
     "text": [
      "C:\\ProgramData\\Anaconda3\\lib\\site-packages\\scipy\\stats\\stats.py:1713: FutureWarning: Using a non-tuple sequence for multidimensional indexing is deprecated; use `arr[tuple(seq)]` instead of `arr[seq]`. In the future this will be interpreted as an array index, `arr[np.array(seq)]`, which will result either in an error or a different result.\n",
      "  return np.add.reduce(sorted[indexer] * weights, axis=axis) / sumval\n"
     ]
    },
    {
     "data": {
      "text/plain": [
       "<matplotlib.axes._subplots.AxesSubplot at 0xac71800c50>"
      ]
     },
     "execution_count": 132,
     "metadata": {},
     "output_type": "execute_result"
    },
    {
     "data": {
      "image/png": "[encoded data removed]",
      "text/plain": [
       "<Figure size 432x288 with 1 Axes>"
      ]
     },
     "metadata": {
      "needs_background": "light"
     },
     "output_type": "display_data"
    }
   ],
   "source": [
    "sns.distplot(data[\"Medicaid Enrollment Change (2013-2016)\"])"
   ]
  },
  {
   "cell_type": "code",
   "execution_count": 133,
   "metadata": {},
   "outputs": [
    {
     "data": {
      "text/plain": [
       "<matplotlib.axes._subplots.AxesSubplot at 0xac718e9080>"
      ]
     },
     "execution_count": 133,
     "metadata": {},
     "output_type": "execute_result"
    },
    {
     "data": {
      "image/png": "[encoded data removed]",
      "text/plain": [
       "<Figure size 432x288 with 1 Axes>"
      ]
     },
     "metadata": {
      "needs_background": "light"
     },
     "output_type": "display_data"
    }
   ],
   "source": [
    "sns.distplot(data[\"Health Insurance Coverage Change (2010-2015)\"])"
   ]
  },
  {
   "cell_type": "code",
   "execution_count": 134,
   "metadata": {},
   "outputs": [
    {
     "data": {
      "text/plain": [
       "<matplotlib.axes._subplots.AxesSubplot at 0xac7195f0b8>"
      ]
     },
     "execution_count": 134,
     "metadata": {},
     "output_type": "execute_result"
    },
    {
     "data": {
      "image/png": "[encoded data removed]",
      "text/plain": [
       "<Figure size 432x288 with 1 Axes>"
      ]
     },
     "metadata": {
      "needs_background": "light"
     },
     "output_type": "display_data"
    }
   ],
   "source": [
    "sns.distplot(data['Uninsured Rate Change (2010-2015)'])"
   ]
  },
  {
   "cell_type": "code",
   "execution_count": 135,
   "metadata": {},
   "outputs": [],
   "source": [
    "mean_cov = data['Health Insurance Coverage Change (2010-2015)'].mean()\n",
    "std_cov = data['Health Insurance Coverage Change (2010-2015)'].std()"
   ]
  },
  {
   "cell_type": "code",
   "execution_count": 136,
   "metadata": {},
   "outputs": [],
   "source": [
    "upper_std = mean_cov + (3 * std_cov)\n",
    "lower_std = mean_cov - (3 * std_cov)"
   ]
  },
  {
   "cell_type": "code",
   "execution_count": 137,
   "metadata": {},
   "outputs": [],
   "source": [
    "data_rm = data.loc[(data['Health Insurance Coverage Change (2010-2015)']>= lower_std) & (data['Health Insurance Coverage Change (2010-2015)'] <= upper_std)]"
   ]
  },
  {
   "cell_type": "code",
   "execution_count": 138,
   "metadata": {},
   "outputs": [
    {
     "data": {
      "text/html": [
       "<div>\n",
       "<style scoped>\n",
       "    .dataframe tbody tr th:only-of-type {\n",
       "        vertical-align: middle;\n",
       "    }\n",
       "\n",
       "    .dataframe tbody tr th {\n",
       "        vertical-align: top;\n",
       "    }\n",
       "\n",
       "    .dataframe thead th {\n",
       "        text-align: right;\n",
       "    }\n",
       "</style>\n",
       "<table border=\"1\" class=\"dataframe\">\n",
       "  <thead>\n",
       "    <tr style=\"text-align: right;\">\n",
       "      <th></th>\n",
       "      <th>Uninsured Rate Change (2010-2015)</th>\n",
       "      <th>Health Insurance Coverage Change (2010-2015)</th>\n",
       "      <th>Medicaid Enrollment Change (2013-2016)</th>\n",
       "    </tr>\n",
       "  </thead>\n",
       "  <tbody>\n",
       "    <tr>\n",
       "      <th>1</th>\n",
       "      <td>-4.7</td>\n",
       "      <td>278000</td>\n",
       "      <td>396007.0</td>\n",
       "    </tr>\n",
       "    <tr>\n",
       "      <th>2</th>\n",
       "      <td>-1.6</td>\n",
       "      <td>107000</td>\n",
       "      <td>387969.0</td>\n",
       "    </tr>\n",
       "    <tr>\n",
       "      <th>3</th>\n",
       "      <td>-6.3</td>\n",
       "      <td>618000</td>\n",
       "      <td>388949.0</td>\n",
       "    </tr>\n",
       "    <tr>\n",
       "      <th>4</th>\n",
       "      <td>-4.6</td>\n",
       "      <td>250000</td>\n",
       "      <td>178469.0</td>\n",
       "    </tr>\n",
       "    <tr>\n",
       "      <th>5</th>\n",
       "      <td>-5.5</td>\n",
       "      <td>161000</td>\n",
       "      <td>56640.0</td>\n",
       "    </tr>\n",
       "  </tbody>\n",
       "</table>\n",
       "</div>"
      ],
      "text/plain": [
       "   Uninsured Rate Change (2010-2015)  \\\n",
       "1                               -4.7   \n",
       "2                               -1.6   \n",
       "3                               -6.3   \n",
       "4                               -4.6   \n",
       "5                               -5.5   \n",
       "\n",
       "   Health Insurance Coverage Change (2010-2015)  \\\n",
       "1                                        278000   \n",
       "2                                        107000   \n",
       "3                                        618000   \n",
       "4                                        250000   \n",
       "5                                        161000   \n",
       "\n",
       "   Medicaid Enrollment Change (2013-2016)  \n",
       "1                                396007.0  \n",
       "2                                387969.0  \n",
       "3                                388949.0  \n",
       "4                                178469.0  \n",
       "5                                 56640.0  "
      ]
     },
     "execution_count": 138,
     "metadata": {},
     "output_type": "execute_result"
    }
   ],
   "source": [
    "data_rm.head()"
   ]
  },
  {
   "cell_type": "code",
   "execution_count": 139,
   "metadata": {},
   "outputs": [
    {
     "name": "stdout",
     "output_type": "stream",
     "text": [
      "48\n",
      "47\n"
     ]
    }
   ],
   "source": [
    "print(len(data))\n",
    "print(len(data_rm))"
   ]
  },
  {
   "cell_type": "code",
   "execution_count": 140,
   "metadata": {},
   "outputs": [],
   "source": [
    "mean_cov = data['Medicaid Enrollment Change (2013-2016)'].mean()\n",
    "std_cov = data['Medicaid Enrollment Change (2013-2016)'].std()"
   ]
  },
  {
   "cell_type": "code",
   "execution_count": 141,
   "metadata": {},
   "outputs": [],
   "source": [
    "upper_std = mean_cov + (3 * std_cov)\n",
    "lower_std = mean_cov - (3 * std_cov)\n",
    "data_rm = data.loc[(data['Medicaid Enrollment Change (2013-2016)']>= lower_std) & (data['Medicaid Enrollment Change (2013-2016)'] <= upper_std)]"
   ]
  },
  {
   "cell_type": "code",
   "execution_count": 142,
   "metadata": {},
   "outputs": [
    {
     "name": "stdout",
     "output_type": "stream",
     "text": [
      "48\n",
      "47\n"
     ]
    }
   ],
   "source": [
    "print(len(data))\n",
    "print(len(data_rm))"
   ]
  },
  {
   "cell_type": "code",
   "execution_count": 143,
   "metadata": {},
   "outputs": [],
   "source": [
    "\n",
    "\n",
    "def rate_group (rate):\n",
    "    global group \n",
    "    if rate <-11:\n",
    "        group = \"Decrease than 11 %\"\n",
    "    elif rate <-8:\n",
    "        group = \"Decrease from 8% to 11%\"\n",
    "    elif rate <-5:\n",
    "        group = \"Decrease from 5% to 8%\"\n",
    "    elif rate < -2:\n",
    "        group = \"Decrease from 0 to 2%\"\n",
    "    return group\n"
   ]
  },
  {
   "cell_type": "code",
   "execution_count": 144,
   "metadata": {},
   "outputs": [
    {
     "name": "stderr",
     "output_type": "stream",
     "text": [
      "C:\\ProgramData\\Anaconda3\\lib\\site-packages\\ipykernel_launcher.py:1: SettingWithCopyWarning: \n",
      "A value is trying to be set on a copy of a slice from a DataFrame.\n",
      "Try using .loc[row_indexer,col_indexer] = value instead\n",
      "\n",
      "See the caveats in the documentation: http://pandas.pydata.org/pandas-docs/stable/indexing.html#indexing-view-versus-copy\n",
      "  \"\"\"Entry point for launching an IPython kernel.\n"
     ]
    }
   ],
   "source": [
    "data_rm['rate_group'] = data_rm['Uninsured Rate Change (2010-2015)'].apply(rate_group)"
   ]
  },
  {
   "cell_type": "code",
   "execution_count": 145,
   "metadata": {},
   "outputs": [
    {
     "data": {
      "text/html": [
       "<div>\n",
       "<style scoped>\n",
       "    .dataframe tbody tr th:only-of-type {\n",
       "        vertical-align: middle;\n",
       "    }\n",
       "\n",
       "    .dataframe tbody tr th {\n",
       "        vertical-align: top;\n",
       "    }\n",
       "\n",
       "    .dataframe thead th {\n",
       "        text-align: right;\n",
       "    }\n",
       "</style>\n",
       "<table border=\"1\" class=\"dataframe\">\n",
       "  <thead>\n",
       "    <tr style=\"text-align: right;\">\n",
       "      <th></th>\n",
       "      <th>Uninsured Rate Change (2010-2015)</th>\n",
       "      <th>Health Insurance Coverage Change (2010-2015)</th>\n",
       "      <th>Medicaid Enrollment Change (2013-2016)</th>\n",
       "      <th>rate_group</th>\n",
       "    </tr>\n",
       "  </thead>\n",
       "  <tbody>\n",
       "    <tr>\n",
       "      <th>1</th>\n",
       "      <td>-4.7</td>\n",
       "      <td>278000</td>\n",
       "      <td>396007.0</td>\n",
       "      <td>Decrease from 0 to 2%</td>\n",
       "    </tr>\n",
       "    <tr>\n",
       "      <th>2</th>\n",
       "      <td>-1.6</td>\n",
       "      <td>107000</td>\n",
       "      <td>387969.0</td>\n",
       "      <td>Decrease from 0 to 2%</td>\n",
       "    </tr>\n",
       "    <tr>\n",
       "      <th>3</th>\n",
       "      <td>-6.3</td>\n",
       "      <td>618000</td>\n",
       "      <td>388949.0</td>\n",
       "      <td>Decrease from 5% to 8%</td>\n",
       "    </tr>\n",
       "    <tr>\n",
       "      <th>4</th>\n",
       "      <td>-4.6</td>\n",
       "      <td>250000</td>\n",
       "      <td>178469.0</td>\n",
       "      <td>Decrease from 0 to 2%</td>\n",
       "    </tr>\n",
       "    <tr>\n",
       "      <th>5</th>\n",
       "      <td>-5.5</td>\n",
       "      <td>161000</td>\n",
       "      <td>56640.0</td>\n",
       "      <td>Decrease from 5% to 8%</td>\n",
       "    </tr>\n",
       "  </tbody>\n",
       "</table>\n",
       "</div>"
      ],
      "text/plain": [
       "   Uninsured Rate Change (2010-2015)  \\\n",
       "1                               -4.7   \n",
       "2                               -1.6   \n",
       "3                               -6.3   \n",
       "4                               -4.6   \n",
       "5                               -5.5   \n",
       "\n",
       "   Health Insurance Coverage Change (2010-2015)  \\\n",
       "1                                        278000   \n",
       "2                                        107000   \n",
       "3                                        618000   \n",
       "4                                        250000   \n",
       "5                                        161000   \n",
       "\n",
       "   Medicaid Enrollment Change (2013-2016)              rate_group  \n",
       "1                                396007.0   Decrease from 0 to 2%  \n",
       "2                                387969.0   Decrease from 0 to 2%  \n",
       "3                                388949.0  Decrease from 5% to 8%  \n",
       "4                                178469.0   Decrease from 0 to 2%  \n",
       "5                                 56640.0  Decrease from 5% to 8%  "
      ]
     },
     "execution_count": 145,
     "metadata": {},
     "output_type": "execute_result"
    }
   ],
   "source": [
    "data_rm.head()"
   ]
  },
  {
   "cell_type": "code",
   "execution_count": 146,
   "metadata": {},
   "outputs": [
    {
     "data": {
      "text/html": [
       "<div>\n",
       "<style scoped>\n",
       "    .dataframe tbody tr th:only-of-type {\n",
       "        vertical-align: middle;\n",
       "    }\n",
       "\n",
       "    .dataframe tbody tr th {\n",
       "        vertical-align: top;\n",
       "    }\n",
       "\n",
       "    .dataframe thead th {\n",
       "        text-align: right;\n",
       "    }\n",
       "</style>\n",
       "<table border=\"1\" class=\"dataframe\">\n",
       "  <thead>\n",
       "    <tr style=\"text-align: right;\">\n",
       "      <th></th>\n",
       "      <th>Health Insurance Coverage Change (2010-2015)</th>\n",
       "      <th>Medicaid Enrollment Change (2013-2016)</th>\n",
       "    </tr>\n",
       "    <tr>\n",
       "      <th>rate_group</th>\n",
       "      <th></th>\n",
       "      <th></th>\n",
       "    </tr>\n",
       "  </thead>\n",
       "  <tbody>\n",
       "    <tr>\n",
       "      <th>Decrease from 0 to 2%</th>\n",
       "      <td>192375.00</td>\n",
       "      <td>159846.67</td>\n",
       "    </tr>\n",
       "    <tr>\n",
       "      <th>Decrease from 5% to 8%</th>\n",
       "      <td>517222.22</td>\n",
       "      <td>336213.00</td>\n",
       "    </tr>\n",
       "    <tr>\n",
       "      <th>Decrease from 8% to 11%</th>\n",
       "      <td>287000.00</td>\n",
       "      <td>364276.40</td>\n",
       "    </tr>\n",
       "  </tbody>\n",
       "</table>\n",
       "</div>"
      ],
      "text/plain": [
       "                         Health Insurance Coverage Change (2010-2015)  \\\n",
       "rate_group                                                              \n",
       "Decrease from 0 to 2%                                       192375.00   \n",
       "Decrease from 5% to 8%                                      517222.22   \n",
       "Decrease from 8% to 11%                                     287000.00   \n",
       "\n",
       "                         Medicaid Enrollment Change (2013-2016)  \n",
       "rate_group                                                       \n",
       "Decrease from 0 to 2%                                 159846.67  \n",
       "Decrease from 5% to 8%                                336213.00  \n",
       "Decrease from 8% to 11%                               364276.40  "
      ]
     },
     "execution_count": 146,
     "metadata": {},
     "output_type": "execute_result"
    }
   ],
   "source": [
    "\n",
    "pd.pivot_table(data = data_rm, index = ['rate_group'], values = ['Health Insurance Coverage Change (2010-2015)','Medicaid Enrollment Change (2013-2016)']).round(decimals=2)"
   ]
  },
  {
   "cell_type": "code",
   "execution_count": 147,
   "metadata": {},
   "outputs": [
    {
     "data": {
      "text/plain": [
       "<seaborn.axisgrid.PairGrid at 0xac6e639630>"
      ]
     },
     "execution_count": 147,
     "metadata": {},
     "output_type": "execute_result"
    },
    {
     "data": {
      "image/png": "[encoded data removed]",
      "text/plain": [
       "<Figure size 706.625x540 with 12 Axes>"
      ]
     },
     "metadata": {
      "needs_background": "light"
     },
     "output_type": "display_data"
    }
   ],
   "source": [
    "sns.pairplot(data = data_rm, hue = \"rate_group\")"
   ]
  },
  {
   "cell_type": "code",
   "execution_count": 148,
   "metadata": {},
   "outputs": [
    {
     "data": {
      "text/plain": [
       "KMeans(algorithm='auto', copy_x=True, init='k-means++', max_iter=300,\n",
       "       n_clusters=3, n_init=10, n_jobs=None, precompute_distances='auto',\n",
       "       random_state=None, tol=0.0001, verbose=0)"
      ]
     },
     "execution_count": 148,
     "metadata": {},
     "output_type": "execute_result"
    }
   ],
   "source": [
    "X= data_rm[['Uninsured Rate Change (2010-2015)','Health Insurance Coverage Change (2010-2015)','Medicaid Enrollment Change (2013-2016)']]\n",
    "kmeans = KMeans(n_clusters=3)\n",
    "kmeans.fit(X)\n"
   ]
  },
  {
   "cell_type": "code",
   "execution_count": 149,
   "metadata": {},
   "outputs": [
    {
     "data": {
      "text/html": [
       "<div>\n",
       "<style scoped>\n",
       "    .dataframe tbody tr th:only-of-type {\n",
       "        vertical-align: middle;\n",
       "    }\n",
       "\n",
       "    .dataframe tbody tr th {\n",
       "        vertical-align: top;\n",
       "    }\n",
       "\n",
       "    .dataframe thead th {\n",
       "        text-align: right;\n",
       "    }\n",
       "</style>\n",
       "<table border=\"1\" class=\"dataframe\">\n",
       "  <thead>\n",
       "    <tr style=\"text-align: right;\">\n",
       "      <th></th>\n",
       "      <th>Uninsured Rate Change (2010-2015)</th>\n",
       "      <th>Health Insurance Coverage Change (2010-2015)</th>\n",
       "      <th>Medicaid Enrollment Change (2013-2016)</th>\n",
       "    </tr>\n",
       "  </thead>\n",
       "  <tbody>\n",
       "    <tr>\n",
       "      <th>count</th>\n",
       "      <td>47.000000</td>\n",
       "      <td>4.700000e+01</td>\n",
       "      <td>47.00000</td>\n",
       "    </tr>\n",
       "    <tr>\n",
       "      <th>mean</th>\n",
       "      <td>-5.457447</td>\n",
       "      <td>3.268511e+05</td>\n",
       "      <td>249139.06383</td>\n",
       "    </tr>\n",
       "    <tr>\n",
       "      <th>std</th>\n",
       "      <td>2.021380</td>\n",
       "      <td>3.654782e+05</td>\n",
       "      <td>225281.38675</td>\n",
       "    </tr>\n",
       "    <tr>\n",
       "      <th>min</th>\n",
       "      <td>-10.300000</td>\n",
       "      <td>1.500000e+04</td>\n",
       "      <td>-3935.00000</td>\n",
       "    </tr>\n",
       "    <tr>\n",
       "      <th>25%</th>\n",
       "      <td>-6.600000</td>\n",
       "      <td>8.750000e+04</td>\n",
       "      <td>53115.00000</td>\n",
       "    </tr>\n",
       "    <tr>\n",
       "      <th>50%</th>\n",
       "      <td>-5.000000</td>\n",
       "      <td>2.150000e+05</td>\n",
       "      <td>178469.00000</td>\n",
       "    </tr>\n",
       "    <tr>\n",
       "      <th>75%</th>\n",
       "      <td>-4.050000</td>\n",
       "      <td>4.070000e+05</td>\n",
       "      <td>395756.50000</td>\n",
       "    </tr>\n",
       "    <tr>\n",
       "      <th>max</th>\n",
       "      <td>-1.600000</td>\n",
       "      <td>1.781000e+06</td>\n",
       "      <td>752748.00000</td>\n",
       "    </tr>\n",
       "  </tbody>\n",
       "</table>\n",
       "</div>"
      ],
      "text/plain": [
       "       Uninsured Rate Change (2010-2015)  \\\n",
       "count                          47.000000   \n",
       "mean                           -5.457447   \n",
       "std                             2.021380   \n",
       "min                           -10.300000   \n",
       "25%                            -6.600000   \n",
       "50%                            -5.000000   \n",
       "75%                            -4.050000   \n",
       "max                            -1.600000   \n",
       "\n",
       "       Health Insurance Coverage Change (2010-2015)  \\\n",
       "count                                  4.700000e+01   \n",
       "mean                                   3.268511e+05   \n",
       "std                                    3.654782e+05   \n",
       "min                                    1.500000e+04   \n",
       "25%                                    8.750000e+04   \n",
       "50%                                    2.150000e+05   \n",
       "75%                                    4.070000e+05   \n",
       "max                                    1.781000e+06   \n",
       "\n",
       "       Medicaid Enrollment Change (2013-2016)  \n",
       "count                                47.00000  \n",
       "mean                             249139.06383  \n",
       "std                              225281.38675  \n",
       "min                               -3935.00000  \n",
       "25%                               53115.00000  \n",
       "50%                              178469.00000  \n",
       "75%                              395756.50000  \n",
       "max                              752748.00000  "
      ]
     },
     "execution_count": 149,
     "metadata": {},
     "output_type": "execute_result"
    }
   ],
   "source": [
    "X.describe()"
   ]
  },
  {
   "cell_type": "code",
   "execution_count": 150,
   "metadata": {},
   "outputs": [
    {
     "name": "stderr",
     "output_type": "stream",
     "text": [
      "C:\\ProgramData\\Anaconda3\\lib\\site-packages\\ipykernel_launcher.py:1: SettingWithCopyWarning: \n",
      "A value is trying to be set on a copy of a slice from a DataFrame.\n",
      "Try using .loc[row_indexer,col_indexer] = value instead\n",
      "\n",
      "See the caveats in the documentation: http://pandas.pydata.org/pandas-docs/stable/indexing.html#indexing-view-versus-copy\n",
      "  \"\"\"Entry point for launching an IPython kernel.\n"
     ]
    },
    {
     "data": {
      "text/html": [
       "<div>\n",
       "<style scoped>\n",
       "    .dataframe tbody tr th:only-of-type {\n",
       "        vertical-align: middle;\n",
       "    }\n",
       "\n",
       "    .dataframe tbody tr th {\n",
       "        vertical-align: top;\n",
       "    }\n",
       "\n",
       "    .dataframe thead th {\n",
       "        text-align: right;\n",
       "    }\n",
       "</style>\n",
       "<table border=\"1\" class=\"dataframe\">\n",
       "  <thead>\n",
       "    <tr style=\"text-align: right;\">\n",
       "      <th></th>\n",
       "      <th>Uninsured Rate Change (2010-2015)</th>\n",
       "      <th>Health Insurance Coverage Change (2010-2015)</th>\n",
       "      <th>Medicaid Enrollment Change (2013-2016)</th>\n",
       "      <th>rate_group</th>\n",
       "      <th>cluster</th>\n",
       "    </tr>\n",
       "  </thead>\n",
       "  <tbody>\n",
       "    <tr>\n",
       "      <th>1</th>\n",
       "      <td>-4.7</td>\n",
       "      <td>278000</td>\n",
       "      <td>396007.0</td>\n",
       "      <td>Decrease from 0 to 2%</td>\n",
       "      <td>2</td>\n",
       "    </tr>\n",
       "    <tr>\n",
       "      <th>2</th>\n",
       "      <td>-1.6</td>\n",
       "      <td>107000</td>\n",
       "      <td>387969.0</td>\n",
       "      <td>Decrease from 0 to 2%</td>\n",
       "      <td>1</td>\n",
       "    </tr>\n",
       "    <tr>\n",
       "      <th>3</th>\n",
       "      <td>-6.3</td>\n",
       "      <td>618000</td>\n",
       "      <td>388949.0</td>\n",
       "      <td>Decrease from 5% to 8%</td>\n",
       "      <td>2</td>\n",
       "    </tr>\n",
       "    <tr>\n",
       "      <th>4</th>\n",
       "      <td>-4.6</td>\n",
       "      <td>250000</td>\n",
       "      <td>178469.0</td>\n",
       "      <td>Decrease from 0 to 2%</td>\n",
       "      <td>1</td>\n",
       "    </tr>\n",
       "    <tr>\n",
       "      <th>5</th>\n",
       "      <td>-5.5</td>\n",
       "      <td>161000</td>\n",
       "      <td>56640.0</td>\n",
       "      <td>Decrease from 5% to 8%</td>\n",
       "      <td>1</td>\n",
       "    </tr>\n",
       "  </tbody>\n",
       "</table>\n",
       "</div>"
      ],
      "text/plain": [
       "   Uninsured Rate Change (2010-2015)  \\\n",
       "1                               -4.7   \n",
       "2                               -1.6   \n",
       "3                               -6.3   \n",
       "4                               -4.6   \n",
       "5                               -5.5   \n",
       "\n",
       "   Health Insurance Coverage Change (2010-2015)  \\\n",
       "1                                        278000   \n",
       "2                                        107000   \n",
       "3                                        618000   \n",
       "4                                        250000   \n",
       "5                                        161000   \n",
       "\n",
       "   Medicaid Enrollment Change (2013-2016)              rate_group  cluster  \n",
       "1                                396007.0   Decrease from 0 to 2%        2  \n",
       "2                                387969.0   Decrease from 0 to 2%        1  \n",
       "3                                388949.0  Decrease from 5% to 8%        2  \n",
       "4                                178469.0   Decrease from 0 to 2%        1  \n",
       "5                                 56640.0  Decrease from 5% to 8%        1  "
      ]
     },
     "execution_count": 150,
     "metadata": {},
     "output_type": "execute_result"
    }
   ],
   "source": [
    "data_rm['cluster'] = kmeans.labels_\n",
    "data_rm.head()"
   ]
  },
  {
   "cell_type": "code",
   "execution_count": 151,
   "metadata": {},
   "outputs": [
    {
     "name": "stderr",
     "output_type": "stream",
     "text": [
      "C:\\ProgramData\\Anaconda3\\lib\\site-packages\\scipy\\stats\\stats.py:1713: FutureWarning: Using a non-tuple sequence for multidimensional indexing is deprecated; use `arr[tuple(seq)]` instead of `arr[seq]`. In the future this will be interpreted as an array index, `arr[np.array(seq)]`, which will result either in an error or a different result.\n",
      "  return np.add.reduce(sorted[indexer] * weights, axis=axis) / sumval\n",
      "C:\\ProgramData\\Anaconda3\\lib\\site-packages\\statsmodels\\nonparametric\\kde.py:488: RuntimeWarning: invalid value encountered in true_divide\n",
      "  binned = fast_linbin(X, a, b, gridsize) / (delta * nobs)\n",
      "C:\\ProgramData\\Anaconda3\\lib\\site-packages\\statsmodels\\nonparametric\\kdetools.py:34: RuntimeWarning: invalid value encountered in double_scalars\n",
      "  FAC1 = 2*(np.pi*bw/RANGE)**2\n"
     ]
    },
    {
     "data": {
      "text/plain": [
       "<seaborn.axisgrid.PairGrid at 0xac71d81828>"
      ]
     },
     "execution_count": 151,
     "metadata": {},
     "output_type": "execute_result"
    },
    {
     "data": {
      "image/png": "[encoded data removed]",
      "text/plain": [
       "<Figure size 762.375x720 with 20 Axes>"
      ]
     },
     "metadata": {
      "needs_background": "light"
     },
     "output_type": "display_data"
    }
   ],
   "source": [
    "sns.pairplot(data = data_rm, hue = \"cluster\")"
   ]
  },
  {
   "cell_type": "code",
   "execution_count": 152,
   "metadata": {},
   "outputs": [
    {
     "data": {
      "text/plain": [
       "<matplotlib.legend.Legend at 0xac72b3afd0>"
      ]
     },
     "execution_count": 152,
     "metadata": {},
     "output_type": "execute_result"
    },
    {
     "data": {
      "image/png": "[encoded data removed]",
      "text/plain": [
       "<Figure size 432x288 with 1 Axes>"
      ]
     },
     "metadata": {
      "needs_background": "light"
     },
     "output_type": "display_data"
    }
   ],
   "source": [
    "\n",
    "sns.scatterplot(data = data_rm, x = \"Uninsured Rate Change (2010-2015)\", y = \"Health Insurance Coverage Change (2010-2015)\", hue = \"cluster\")\n",
    "\n",
    "plt.scatter(kmeans.cluster_centers_[:,0], kmeans.cluster_centers_[:,1], c= \"red\", marker = \"x\")\n",
    "\n",
    "plt.title (\"Coverage Change and Rate Change group\")\n",
    "\n",
    "plt.legend(bbox_to_anchor = (1,1), loc=2)"
   ]
  },
  {
   "cell_type": "code",
   "execution_count": 153,
   "metadata": {},
   "outputs": [
    {
     "data": {
      "text/html": [
       "<div>\n",
       "<style scoped>\n",
       "    .dataframe tbody tr th:only-of-type {\n",
       "        vertical-align: middle;\n",
       "    }\n",
       "\n",
       "    .dataframe tbody tr th {\n",
       "        vertical-align: top;\n",
       "    }\n",
       "\n",
       "    .dataframe thead th {\n",
       "        text-align: right;\n",
       "    }\n",
       "</style>\n",
       "<table border=\"1\" class=\"dataframe\">\n",
       "  <thead>\n",
       "    <tr style=\"text-align: right;\">\n",
       "      <th></th>\n",
       "      <th>Uninsured Rate Change (2010-2015)</th>\n",
       "      <th>Health Insurance Coverage Change (2010-2015)</th>\n",
       "      <th>Medicaid Enrollment Change (2013-2016)</th>\n",
       "      <th>rate_group</th>\n",
       "      <th>cluster</th>\n",
       "    </tr>\n",
       "  </thead>\n",
       "  <tbody>\n",
       "    <tr>\n",
       "      <th>24</th>\n",
       "      <td>-6.6</td>\n",
       "      <td>1781000</td>\n",
       "      <td>328624.0</td>\n",
       "      <td>Decrease from 5% to 8%</td>\n",
       "      <td>0</td>\n",
       "    </tr>\n",
       "    <tr>\n",
       "      <th>41</th>\n",
       "      <td>-8.0</td>\n",
       "      <td>1597000</td>\n",
       "      <td>539677.0</td>\n",
       "      <td>Decrease from 5% to 8%</td>\n",
       "      <td>0</td>\n",
       "    </tr>\n",
       "  </tbody>\n",
       "</table>\n",
       "</div>"
      ],
      "text/plain": [
       "    Uninsured Rate Change (2010-2015)  \\\n",
       "24                               -6.6   \n",
       "41                               -8.0   \n",
       "\n",
       "    Health Insurance Coverage Change (2010-2015)  \\\n",
       "24                                       1781000   \n",
       "41                                       1597000   \n",
       "\n",
       "    Medicaid Enrollment Change (2013-2016)              rate_group  cluster  \n",
       "24                                328624.0  Decrease from 5% to 8%        0  \n",
       "41                                539677.0  Decrease from 5% to 8%        0  "
      ]
     },
     "execution_count": 153,
     "metadata": {},
     "output_type": "execute_result"
    }
   ],
   "source": [
    "cluster = data_rm.loc[data_rm['cluster'] == 0]\n",
    "cluster.head()"
   ]
  },
  {
   "cell_type": "code",
   "execution_count": 154,
   "metadata": {},
   "outputs": [
    {
     "name": "stdout",
     "output_type": "stream",
     "text": [
      "Cluster % Rate Change Ranges\n",
      "\n",
      "Cluster 0: Decrease from -6.6% to -8.0%, avg coverage change: 1689000, avg_Enrollment: 434150\n",
      "Cluster 1: Decrease from -1.6% to -10.3%, avg coverage change: 132655, avg_Enrollment: 99693\n",
      "Cluster 2: Decrease from -3.8% to -10.1%, avg coverage change: 508562, avg_Enrollment: 496882\n"
     ]
    }
   ],
   "source": [
    "\n",
    "sorted_clusters = sorted(data_rm['cluster'].unique())\n",
    "\n",
    "\n",
    "print (\"Cluster % Rate Change Ranges\\n\")\n",
    "for cluster_num in sorted_clusters:\n",
    "    small_data = data_rm.loc[data_rm['cluster']==cluster_num]\n",
    "    min_rate = small_data['Uninsured Rate Change (2010-2015)'].min()\n",
    "    max_rate = small_data['Uninsured Rate Change (2010-2015)'].max()\n",
    "    avg_coverage = small_data['Health Insurance Coverage Change (2010-2015)'].mean()\n",
    "    avg_Enrollment = small_data['Medicaid Enrollment Change (2013-2016)'].mean()\n",
    "    \n",
    "    print(f'Cluster {cluster_num}: Decrease from {max_rate}% to {min_rate}%, avg coverage change: {int(avg_coverage)}, avg_Enrollment: {int(avg_Enrollment)}')"
   ]
  },
  {
   "cell_type": "code",
   "execution_count": 155,
   "metadata": {},
   "outputs": [
    {
     "name": "stdout",
     "output_type": "stream",
     "text": [
      "Cluster % Rate Change Ranges\n",
      "\n",
      "Cluster 0: avg_rate: -7, avg coverage change: 1689000, avg_medicaid_enrollment: 434150\n",
      "Cluster 1: avg_rate: -4, avg coverage change: 132655, avg_medicaid_enrollment: 99693\n",
      "Cluster 2: avg_rate: -6, avg coverage change: 508562, avg_medicaid_enrollment: 496882\n"
     ]
    }
   ],
   "source": [
    "sorted_clusters = sorted(data_rm['cluster'].unique())\n",
    "\n",
    "\n",
    "print (\"Cluster % Rate Change Ranges\\n\")\n",
    "for cluster_num in sorted_clusters:\n",
    "    small_data = data_rm.loc[data_rm['cluster']==cluster_num]\n",
    "    avg_rate = small_data['Uninsured Rate Change (2010-2015)'].mean()\n",
    "    avg_coverage = small_data['Health Insurance Coverage Change (2010-2015)'].mean()\n",
    "    avg_medicaid_enrollment= small_data['Medicaid Enrollment Change (2013-2016)'].mean()\n",
    "    \n",
    "    print(f'Cluster {cluster_num}: avg_rate: {int(avg_rate)}, avg coverage change: {int(avg_coverage)}, avg_medicaid_enrollment: {int(avg_medicaid_enrollment)}')"
   ]
  },
  {
   "cell_type": "code",
   "execution_count": null,
   "metadata": {},
   "outputs": [],
   "source": [
    "# Using OLS\n",
    "import numpy as np\n",
    "import statsmodels.api as sm\n",
    "x = df[\"Uninsured Rate (2010)\"].astype(float)\n",
    "y=df[\"Uninsured Rate (2015)\"].astype(float)\n",
    "model = sm.OLS(x,y).fit()\n",
    "prediction = model.predict(y.astype(float))\n",
    "#prediction.plot()\n",
    "plt.show()"
   ]
  },
  {
   "cell_type": "code",
   "execution_count": null,
   "metadata": {},
   "outputs": [],
   "source": [
    "prediction"
   ]
  },
  {
   "cell_type": "code",
   "execution_count": null,
   "metadata": {},
   "outputs": [],
   "source": [
    "print(model.summary())"
   ]
  },
  {
   "cell_type": "code",
   "execution_count": null,
   "metadata": {},
   "outputs": [],
   "source": [
    "Data Reference:https://www.kaggle.com/hhs/health-insurance"
   ]
  }
 ],
 "metadata": {
  "kernelspec": {
   "display_name": "Python 3",
   "language": "python",
   "name": "python3"
  },
  "language_info": {
   "codemirror_mode": {
    "name": "ipython",
    "version": 3
   },
   "file_extension": ".py",
   "mimetype": "text/x-python",
   "name": "python",
   "nbconvert_exporter": "python",
   "pygments_lexer": "ipython3",
   "version": "3.7.1"
  }
 },
 "nbformat": 4,
 "nbformat_minor": 2
}
